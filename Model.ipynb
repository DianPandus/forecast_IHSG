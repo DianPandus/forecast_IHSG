{
 "cells": [
  {
   "cell_type": "markdown",
   "metadata": {
    "id": "0VvXVlsbWm-n"
   },
   "source": [
    "## Import Library"
   ]
  },
  {
   "cell_type": "code",
   "execution_count": 1,
   "metadata": {
    "execution": {
     "iopub.execute_input": "2025-09-23T02:16:54.318549Z",
     "iopub.status.busy": "2025-09-23T02:16:54.318254Z",
     "iopub.status.idle": "2025-09-23T02:16:57.753051Z",
     "shell.execute_reply": "2025-09-23T02:16:57.752339Z"
    },
    "id": "kmteb6w0Wg6R"
   },
   "outputs": [],
   "source": [
    "import pandas as pd\n",
    "import numpy as np\n",
    "import matplotlib.pyplot as plt\n",
    "import seaborn as sns\n",
    "\n",
    "# Untuk Model\n",
    "from sklearn.ensemble import RandomForestRegressor\n",
    "from sklearn.preprocessing import MinMaxScaler\n",
    "from tensorflow.keras.models import Sequential\n",
    "from tensorflow.keras.layers import LSTM, Dense, Dropout\n",
    "from tensorflow.keras.callbacks import EarlyStopping\n",
    "\n",
    "# Untuk Evaluasi\n",
    "from sklearn.metrics import mean_absolute_error, mean_squared_error"
   ]
  },
  {
   "cell_type": "markdown",
   "metadata": {
    "id": "ujz2ZAMCW0gJ"
   },
   "source": [
    "## Data Preprocessing"
   ]
  },
  {
   "cell_type": "code",
   "execution_count": 2,
   "metadata": {
    "colab": {
     "base_uri": "https://localhost:8080/"
    },
    "execution": {
     "iopub.execute_input": "2025-09-23T02:16:57.755654Z",
     "iopub.status.busy": "2025-09-23T02:16:57.755262Z",
     "iopub.status.idle": "2025-09-23T02:16:57.789111Z",
     "shell.execute_reply": "2025-09-23T02:16:57.788411Z"
    },
    "id": "dqOhBboVW3Bq",
    "outputId": "fa9b82d5-074e-472b-fd2d-3d16731c018a"
   },
   "outputs": [
    {
     "name": "stdout",
     "output_type": "stream",
     "text": [
      "1. Memuat dan Membersihkan Data\n",
      "\n",
      "Informasi dataset (setelah pembersihan):\n",
      "<class 'pandas.core.frame.DataFrame'>\n",
      "DatetimeIndex: 1205 entries, 2020-05-26 to 2025-05-23\n",
      "Data columns (total 6 columns):\n",
      " #   Column          Non-Null Count  Dtype  \n",
      "---  ------          --------------  -----  \n",
      " 0   Close           1205 non-null   float64\n",
      " 1   Open            1205 non-null   float64\n",
      " 2   High            1205 non-null   float64\n",
      " 3   Low             1205 non-null   float64\n",
      " 4   Volume          1205 non-null   float64\n",
      " 5   Change_Percent  1205 non-null   float64\n",
      "dtypes: float64(6)\n",
      "memory usage: 65.9 KB\n",
      "\n",
      "Missing values (setelah penanganan NaN):\n",
      "Close             0\n",
      "Open              0\n",
      "High              0\n",
      "Low               0\n",
      "Volume            0\n",
      "Change_Percent    0\n",
      "dtype: int64\n"
     ]
    },
    {
     "name": "stderr",
     "output_type": "stream",
     "text": [
      "/tmp/ipykernel_7/969844005.py:69: FutureWarning: A value is trying to be set on a copy of a DataFrame or Series through chained assignment using an inplace method.\n",
      "The behavior will change in pandas 3.0. This inplace method will never work because the intermediate object on which we are setting values always behaves as a copy.\n",
      "\n",
      "For example, when doing 'df[col].method(value, inplace=True)', try using 'df.method({col: value}, inplace=True)' or df[col] = df[col].method(value) instead, to perform the operation inplace on the original object.\n",
      "\n",
      "\n",
      "  df['Volume'].fillna(method='ffill', inplace=True) # Isi dengan nilai sebelumnya\n",
      "/tmp/ipykernel_7/969844005.py:69: FutureWarning: Series.fillna with 'method' is deprecated and will raise in a future version. Use obj.ffill() or obj.bfill() instead.\n",
      "  df['Volume'].fillna(method='ffill', inplace=True) # Isi dengan nilai sebelumnya\n",
      "/tmp/ipykernel_7/969844005.py:70: FutureWarning: A value is trying to be set on a copy of a DataFrame or Series through chained assignment using an inplace method.\n",
      "The behavior will change in pandas 3.0. This inplace method will never work because the intermediate object on which we are setting values always behaves as a copy.\n",
      "\n",
      "For example, when doing 'df[col].method(value, inplace=True)', try using 'df.method({col: value}, inplace=True)' or df[col] = df[col].method(value) instead, to perform the operation inplace on the original object.\n",
      "\n",
      "\n",
      "  df['Volume'].fillna(0, inplace=True) # Jika masih ada NaN di awal, isi 0\n",
      "/tmp/ipykernel_7/969844005.py:73: FutureWarning: A value is trying to be set on a copy of a DataFrame or Series through chained assignment using an inplace method.\n",
      "The behavior will change in pandas 3.0. This inplace method will never work because the intermediate object on which we are setting values always behaves as a copy.\n",
      "\n",
      "For example, when doing 'df[col].method(value, inplace=True)', try using 'df.method({col: value}, inplace=True)' or df[col] = df[col].method(value) instead, to perform the operation inplace on the original object.\n",
      "\n",
      "\n",
      "  df[col].fillna(method='ffill', inplace=True)\n",
      "/tmp/ipykernel_7/969844005.py:73: FutureWarning: Series.fillna with 'method' is deprecated and will raise in a future version. Use obj.ffill() or obj.bfill() instead.\n",
      "  df[col].fillna(method='ffill', inplace=True)\n"
     ]
    }
   ],
   "source": [
    "# Mengatur tampilan plot\n",
    "plt.style.use('seaborn-v0_8-whitegrid')\n",
    "\n",
    "# 1. MEMUAT DAN MEMBERSIHKAN DATA\n",
    "print(\"1. Memuat dan Membersihkan Data\")\n",
    "file_path = 'IHSG_5_Tahun.csv'\n",
    "try:\n",
    "    df_raw = pd.read_csv(file_path, dtype=str)\n",
    "except FileNotFoundError:\n",
    "    print(f\"Error: File '{file_path}' tidak ditemukan. Harap periksa path file Anda.\")\n",
    "    exit()\n",
    "\n",
    "df = df_raw.copy()\n",
    "\n",
    "def clean_numeric_value(value):\n",
    "    if isinstance(value, str):\n",
    "        value = value.replace('.', '')\n",
    "        value = value.replace(',', '.')\n",
    "    try:\n",
    "        return float(value)\n",
    "    except (ValueError, TypeError):\n",
    "        if isinstance(value, (int, float)): return value\n",
    "        return np.nan\n",
    "\n",
    "def clean_volume_value(value):\n",
    "    if isinstance(value, str):\n",
    "        value_upper = value.upper()\n",
    "        if 'B' in value_upper: value = value_upper.replace('B', 'E9')\n",
    "        elif 'M' in value_upper: value = value_upper.replace('M', 'E6')\n",
    "        elif 'K' in value_upper: value = value_upper.replace('K', 'E3')\n",
    "        value = value.replace('.', '').replace(',', '.')\n",
    "    try:\n",
    "        return float(value)\n",
    "    except (ValueError, TypeError):\n",
    "        if isinstance(value, (int, float)): return value\n",
    "        return np.nan\n",
    "\n",
    "def clean_percentage_value(value):\n",
    "    if isinstance(value, str):\n",
    "        value = value.replace('%', '').replace('.', '').replace(',', '.')\n",
    "    try:\n",
    "        return float(value) / 100.0\n",
    "    except (ValueError, TypeError):\n",
    "        if isinstance(value, (int, float)):\n",
    "            return value / 100.0 if abs(value) > 1 else value\n",
    "        return np.nan\n",
    "\n",
    "cols_to_clean_numeric = ['Terakhir', 'Pembukaan', 'Tertinggi', 'Terendah']\n",
    "for col in cols_to_clean_numeric:\n",
    "    df[col] = df[col].apply(clean_numeric_value)\n",
    "df['Vol.'] = df['Vol.'].apply(clean_volume_value)\n",
    "df['Perubahan%'] = df['Perubahan%'].apply(clean_percentage_value)\n",
    "\n",
    "try:\n",
    "    df['Tanggal'] = pd.to_datetime(df['Tanggal'], format='%d/%m/%Y')\n",
    "except ValueError as e:\n",
    "    print(f\"Error saat konversi tanggal: {e}. Periksa format kolom 'Tanggal'.\")\n",
    "    exit()\n",
    "\n",
    "column_mapping = {\n",
    "    'Tanggal': 'Date', 'Terakhir': 'Close', 'Pembukaan': 'Open',\n",
    "    'Tertinggi': 'High', 'Terendah': 'Low', 'Vol.': 'Volume',\n",
    "    'Perubahan%': 'Change_Percent'\n",
    "}\n",
    "df.rename(columns=column_mapping, inplace=True)\n",
    "df.set_index('Date', inplace=True)\n",
    "df.sort_index(inplace=True)\n",
    "\n",
    "df['Volume'].fillna(method='ffill', inplace=True) # Isi dengan nilai sebelumnya\n",
    "df['Volume'].fillna(0, inplace=True) # Jika masih ada NaN di awal, isi 0\n",
    "price_cols = ['Close', 'Open', 'High', 'Low'] # Change_Percent juga bisa ditambahkan jika relevan\n",
    "for col in price_cols:\n",
    "    df[col].fillna(method='ffill', inplace=True)\n",
    "df.dropna(subset=price_cols, inplace=True) # Hapus baris jika harga masih NaN\n",
    "\n",
    "print(\"\\nInformasi dataset (setelah pembersihan):\")\n",
    "df.info()\n",
    "print(\"\\nMissing values (setelah penanganan NaN):\")\n",
    "print(df.isnull().sum())"
   ]
  },
  {
   "cell_type": "markdown",
   "metadata": {
    "id": "gn_tenq0oLxz"
   },
   "source": [
    "### Hasil dan Insight dari Tahap Pemuatan dan Pembersihan Data\n",
    "\n",
    "Blok kode di atas telah berhasil menjalankan serangkaian langkah penting untuk memuat dan membersihkan dataset mentah IHSG. Berdasarkan output yang dihasilkan:\n",
    "\n",
    "1.  **Transformasi Data Berhasil:** Dataset awal yang berisi kolom-kolom dengan tipe data `object` (karena format angka dan tanggal yang spesifik dari sumber) telah berhasil diubah. Fungsi pembersihan kustom (`clean_numeric_value`, `clean_volume_value`, `clean_percentage_value`) efektif dalam menangani format angka Indonesia (pemisah ribuan '.', desimal ',', akhiran 'B'/'M'/'K' pada volume, dan '%' pada persentase). Semua kolom fitur yang relevan ('Close', 'Open', 'High', 'Low', 'Volume', 'Change_Percent') kini memiliki tipe data numerik (`float64`).\n",
    "\n",
    "2.  **Penanganan Tanggal dan Indeks:** Kolom 'Tanggal' berhasil dikonversi menjadi `DatetimeIndex` dan ditetapkan sebagai indeks DataFrame. Data juga telah diurutkan secara kronologis berdasarkan tanggal ini, yang merupakan prasyarat fundamental untuk analisis deret waktu yang akurat.\n",
    "\n",
    "3.  **Integritas Data Terjaga:**\n",
    "    * **Jumlah Data:** Kita sekarang memiliki **1205 entri data historis harian**.\n",
    "    * **Rentang Waktu:** Data yang bersih ini mencakup periode dari **26 Mei 2020 hingga 23 Mei 2025**, memberikan cakupan data sekitar 5 tahun untuk analisis.\n",
    "    * **Tidak Ada Missing Values:** Output dari `df.isnull().sum()` menunjukkan bahwa semua kolom sekarang memiliki 0 *missing values*. Langkah-langkah penanganan NaN (menggunakan `ffill` untuk kontinuitas dan `fillna(0)` untuk sisa 'Volume') telah berhasil memastikan tidak ada data yang hilang yang dapat mengganggu proses pemodelan.\n",
    "\n",
    "4.  **Kesiapan untuk Analisis Lebih Lanjut:** Dengan data yang sudah bersih, memiliki tipe data yang benar, terindeks oleh tanggal, dan bebas dari *missing values*, DataFrame `df` kini siap untuk tahap berikutnya, yaitu Analisis Data Eksploratif (EDA). Pada tahap EDA, kita akan mencoba menggali pola dan wawasan visual dari data ini.\n",
    "\n",
    "Secara keseluruhan, tahap pra-pemrosesan data ini telah berhasil mengubah data mentah menjadi dataset yang terstruktur dan berkualitas tinggi, yang menjadi fondasi penting untuk membangun model prediksi yang andal."
   ]
  },
  {
   "cell_type": "markdown",
   "metadata": {
    "id": "BdIssF_GW8wd"
   },
   "source": [
    "## EDA"
   ]
  },
  {
   "cell_type": "code",
   "execution_count": 3,
   "metadata": {
    "colab": {
     "base_uri": "https://localhost:8080/",
     "height": 669
    },
    "execution": {
     "iopub.execute_input": "2025-09-23T02:16:57.821193Z",
     "iopub.status.busy": "2025-09-23T02:16:57.820838Z",
     "iopub.status.idle": "2025-09-23T02:16:58.021249Z",
     "shell.execute_reply": "2025-09-23T02:16:58.020527Z"
    },
    "id": "vsA3gdLAW8FA",
    "outputId": "2976102a-9b26-41fe-923d-8aa6d1f8e77c"
   },
   "outputs": [
    {
     "name": "stdout",
     "output_type": "stream",
     "text": [
      "\n",
      "2. Analisis Data Eksploratif (EDA)\n"
     ]
    },
    {
     "data": {
      "image/png": "[encoded data removed]",
      "text/plain": [
       "<Figure size 1400x700 with 1 Axes>"
      ]
     },
     "metadata": {},
     "output_type": "display_data"
    }
   ],
   "source": [
    "# 2. ANALISIS DATA EKSPLORATIF (EDA)\n",
    "print(\"\\n2. Analisis Data Eksploratif (EDA)\")\n",
    "plt.figure(figsize=(14, 7))\n",
    "plt.plot(df.index, df['Close'], label='Harga Penutupan IHSG')\n",
    "plt.title('Pergerakan Harga Penutupan IHSG (Setelah Pembersihan)')\n",
    "plt.xlabel('Tanggal')\n",
    "plt.ylabel('Harga Penutupan')\n",
    "plt.legend()\n",
    "plt.show()"
   ]
  },
  {
   "cell_type": "markdown",
   "metadata": {
    "id": "J4wB1r5zqhk6"
   },
   "source": [
    "### Analisis Visual: Pergerakan Harga Penutupan IHSG\n",
    "\n",
    "Plot di atas menampilkan visualisasi pergerakan harga penutupan (`Close`) IHSG selama periode 5 tahun (Mei 2020 - Mei 2025) setelah data dibersihkan. Tujuan dari plot ini adalah untuk mendapatkan pemahaman intuitif mengenai karakteristik utama dari data deret waktu harga IHSG.\n",
    "\n",
    "**Insight yang Dapat Diperoleh dari Plot:**\n",
    "\n",
    "* **Tren Umum:** Kita dapat mengamati arah tren jangka panjang IHSG. Apakah cenderung naik (*uptrend*), turun (*downtrend*), atau bergerak menyamping (*sideways* / konsolidasi) selama periode tersebut?\n",
    "* **Volatilitas:** Plot ini juga memperlihatkan periode-periode di mana harga bergerak dengan fluktuasi yang tinggi (volatilitas tinggi) dibandingkan dengan periode di mana harga relatif stabil.\n",
    "* **Pola dan Siklus (Jika Ada):** Meskipun siklus atau musiman yang jelas jarang ditemukan pada data harga saham harian, kita bisa mencari pola-pola tertentu atau pergerakan siklikal yang mungkin muncul dalam skala waktu yang lebih besar.\n",
    "* **Potensi Titik Balik atau Peristiwa Signifikan:** Puncak-puncak (peaks) dan lembah-lembah (troughs) yang tajam pada plot bisa mengindikasikan potensi titik balik tren atau merefleksikan dampak dari peristiwa ekonomi atau pasar tertentu (meskipun untuk identifikasi pasti memerlukan analisis lebih lanjut).\n",
    "\n",
    "Pemahaman visual ini sangat berguna sebagai dasar sebelum kita melangkah ke tahap persiapan data yang lebih spesifik untuk masing-masing model (Random Forest dan LSTM). Karakteristik seperti tren dan volatilitas dapat memengaruhi bagaimana model akan belajar dan performanya nanti."
   ]
  },
  {
   "cell_type": "markdown",
   "metadata": {
    "id": "PaspFCPzXLgC"
   },
   "source": [
    "## Modeling"
   ]
  },
  {
   "cell_type": "markdown",
   "metadata": {
    "id": "B1-WWT9kXzZM"
   },
   "source": [
    "### Train Split Data"
   ]
  },
  {
   "cell_type": "code",
   "execution_count": 4,
   "metadata": {
    "colab": {
     "base_uri": "https://localhost:8080/"
    },
    "execution": {
     "iopub.execute_input": "2025-09-23T02:16:58.023574Z",
     "iopub.status.busy": "2025-09-23T02:16:58.023354Z",
     "iopub.status.idle": "2025-09-23T02:16:58.028209Z",
     "shell.execute_reply": "2025-09-23T02:16:58.027584Z"
    },
    "id": "Kq-9GGqkX4ZX",
    "outputId": "7ce0b1d4-cc29-4303-d84d-89715fd876af"
   },
   "outputs": [
    {
     "name": "stdout",
     "output_type": "stream",
     "text": [
      "\n",
      "3. Pembagian Data Global\n",
      "Ukuran data training global: 964\n",
      "Ukuran data testing global: 241\n"
     ]
    }
   ],
   "source": [
    "# 3. PEMBAGIAN DATA GLOBAL (TRAIN-TEST SPLIT AWAL)\n",
    "print(\"\\n3. Pembagian Data Global\")\n",
    "target_col = 'Close'\n",
    "if len(df) < 20: # Perlu cukup data untuk lags dan split\n",
    "    print(\"Error: Data terlalu sedikit untuk diproses.\")\n",
    "    exit()\n",
    "\n",
    "train_ratio = 0.8\n",
    "train_size_global = int(len(df) * train_ratio)\n",
    "train_df_global = df[:train_size_global].copy()\n",
    "test_df_global = df[train_size_global:].copy()\n",
    "\n",
    "print(f\"Ukuran data training global: {len(train_df_global)}\")\n",
    "print(f\"Ukuran data testing global: {len(test_df_global)}\")"
   ]
  },
  {
   "cell_type": "markdown",
   "metadata": {
    "id": "H2YrBlYjXkb7"
   },
   "source": [
    "### Random Forest w/ Lagged Features"
   ]
  },
  {
   "cell_type": "code",
   "execution_count": 5,
   "metadata": {
    "colab": {
     "base_uri": "https://localhost:8080/"
    },
    "execution": {
     "iopub.execute_input": "2025-09-23T02:16:58.030166Z",
     "iopub.status.busy": "2025-09-23T02:16:58.029968Z",
     "iopub.status.idle": "2025-09-23T02:16:58.328906Z",
     "shell.execute_reply": "2025-09-23T02:16:58.328304Z"
    },
    "id": "po60HDVdXi5d",
    "outputId": "cdc4bd61-7b7f-4535-a229-db70bcf2fc16"
   },
   "outputs": [
    {
     "name": "stdout",
     "output_type": "stream",
     "text": [
      "\n",
      "4. Model Random Forest dengan Lagged Features\n",
      "   4.1 Persiapan Data untuk Random Forest\n",
      "   Ukuran X_train_rf: (954, 20), y_train_rf: (954,)\n",
      "   Ukuran X_test_rf: (241, 20), y_test_rf_actual: (241,)\n",
      "\n",
      "   4.2 Pemodelan Random Forest\n",
      "   Melatih model Random Forest...\n"
     ]
    }
   ],
   "source": [
    "# 4. MODEL RANDOM FOREST DENGAN LAGGED FEATURES\n",
    "print(\"\\n4. Model Random Forest dengan Lagged Features\")\n",
    "\n",
    "# --- 4.1 Persiapan Data untuk Random Forest ---\n",
    "print(\"   4.1 Persiapan Data untuk Random Forest\")\n",
    "df_rf = df.copy() # Gunakan salinan dari df yang sudah bersih\n",
    "\n",
    "# Buat lagged features\n",
    "n_lags = 10 # Jumlah hari sebelumnya yang akan dijadikan fitur\n",
    "for i in range(1, n_lags + 1):\n",
    "    df_rf[f'Close_lag_{i}'] = df_rf['Close'].shift(i)\n",
    "    df_rf[f'Volume_lag_{i}'] = df_rf['Volume'].shift(i)\n",
    "\n",
    "# Hapus baris dengan NaN yang muncul akibat shifting (lags)\n",
    "df_rf.dropna(inplace=True)\n",
    "\n",
    "# Pisahkan fitur (X) dan target (y) untuk Random Forest\n",
    "features_rf = [col for col in df_rf.columns if 'lag' in col or 'SMA' in col] # Ambil semua fitur lag atau SMA\n",
    "if not features_rf:\n",
    "    print(\"   Error: Tidak ada fitur lagged yang dibuat untuk Random Forest.\")\n",
    "    X_rf, y_rf = pd.DataFrame(), pd.Series() # Kosongkan jika error\n",
    "else:\n",
    "    X_rf = df_rf[features_rf]\n",
    "    y_rf = df_rf['Close']\n",
    "\n",
    "# Bagi data RF menjadi training dan testing berdasarkan index dari pembagian global\n",
    "# Ini untuk memastikan kita menguji pada periode yang sama (sebisa mungkin)\n",
    "if not X_rf.empty:\n",
    "    X_train_rf = X_rf.loc[X_rf.index.isin(train_df_global.index)]\n",
    "    y_train_rf = y_rf.loc[y_rf.index.isin(train_df_global.index)]\n",
    "    X_test_rf = X_rf.loc[X_rf.index.isin(test_df_global.index)]\n",
    "    y_test_rf_actual = y_rf.loc[y_rf.index.isin(test_df_global.index)] # Target aktual untuk RF\n",
    "else:\n",
    "    X_train_rf, y_train_rf, X_test_rf, y_test_rf_actual = [pd.DataFrame()]*4 # Kosongkan\n",
    "\n",
    "print(f\"   Ukuran X_train_rf: {X_train_rf.shape}, y_train_rf: {y_train_rf.shape}\")\n",
    "print(f\"   Ukuran X_test_rf: {X_test_rf.shape}, y_test_rf_actual: {y_test_rf_actual.shape}\")\n",
    "\n",
    "predictions_rf = None\n",
    "if not X_train_rf.empty and not X_test_rf.empty:\n",
    "    # --- 4.2 Pemodelan Random Forest ---\n",
    "    print(\"\\n   4.2 Pemodelan Random Forest\")\n",
    "    rf_model = RandomForestRegressor(n_estimators=100, random_state=42, n_jobs=-1, max_depth=10, min_samples_split=10, min_samples_leaf=5)\n",
    "    print(\"   Melatih model Random Forest...\")\n",
    "    rf_model.fit(X_train_rf, y_train_rf)\n",
    "\n",
    "    # Prediksi\n",
    "    predictions_rf = rf_model.predict(X_test_rf)\n",
    "else:\n",
    "    print(\"   Tidak cukup data untuk melatih atau menguji Random Forest.\")"
   ]
  },
  {
   "cell_type": "markdown",
   "metadata": {
    "id": "XLGMZZi6rTZq"
   },
   "source": [
    "### Tahap 4: Pengembangan Model Random Forest\n",
    "\n",
    "Pada tahap ini, kita membangun model **Random Forest Regressor** untuk memprediksi harga penutupan IHSG. Prosesnya melibatkan dua langkah utama:\n",
    "\n",
    "**4.1 Persiapan Data untuk Random Forest:**\n",
    "* **Pembuatan Fitur Lagged:** Karena Random Forest tidak secara inheren memahami urutan waktu, kita membuat fitur baru berdasarkan data historis. Fitur-fitur ini adalah nilai-nilai 'Close' (harga penutupan) dan 'Volume' dari **10 hari sebelumnya (`n_lags = 10`)**. Ini memberikan konteks masa lalu kepada model.\n",
    "* **Penanganan NaN:** Baris data awal yang memiliki nilai NaN (karena tidak ada cukup data historis untuk membuat fitur *lagged* pertama) dihapus.\n",
    "* **Pemisahan Fitur & Target:** Dataset kemudian dibagi menjadi `X_rf` (fitur *lagged*) dan `y_rf` (harga 'Close' yang akan diprediksi).\n",
    "* **Pembagian Train/Test:** Data `X_rf` dan `y_rf` dibagi lagi menjadi set training (`X_train_rf`, `y_train_rf`) dan set testing (`X_test_rf`, `y_test_rf_actual`) mengikuti pembagian indeks global yang telah ditentukan sebelumnya. Output menunjukkan ukuran data training RF adalah (954 sampel, 20 fitur) dan data testing (241 sampel, 20 fitur).\n",
    "\n",
    "**4.2 Pemodelan Random Forest:**\n",
    "* **Inisialisasi Model:** Sebuah model `RandomForestRegressor` diinisialisasi dengan parameter awal (misalnya, `n_estimators=100` pohon, `max_depth=10`).\n",
    "* **Pelatihan Model:** Model dilatih menggunakan data `X_train_rf` (fitur *lagged*) dan `y_train_rf` (target harga 'Close').\n",
    "* **Prediksi:** Setelah dilatih, model digunakan untuk menghasilkan prediksi (`predictions_rf`) pada data tes (`X_test_rf`).\n",
    "\n",
    "Tujuan dari langkah-langkah ini adalah untuk membangun model Random Forest yang dapat belajar dari pola data historis (yang direpresentasikan oleh *lagged features*) untuk membuat prediksi harga di masa depan. Hasil prediksi ini kemudian akan dievaluasi."
   ]
  },
  {
   "cell_type": "markdown",
   "metadata": {
    "id": "yg7i2Fb6X8qL"
   },
   "source": [
    "### LSTM"
   ]
  },
  {
   "cell_type": "code",
   "execution_count": 6,
   "metadata": {
    "colab": {
     "base_uri": "https://localhost:8080/",
     "height": 1000
    },
    "execution": {
     "iopub.execute_input": "2025-09-23T02:16:58.331465Z",
     "iopub.status.busy": "2025-09-23T02:16:58.331251Z",
     "iopub.status.idle": "2025-09-23T02:17:25.289622Z",
     "shell.execute_reply": "2025-09-23T02:17:25.288964Z"
    },
    "id": "cgFY2xAHP8b2",
    "outputId": "2a37e76e-956c-4419-befe-1816000fd087"
   },
   "outputs": [
    {
     "name": "stdout",
     "output_type": "stream",
     "text": [
      "\n",
      "5. Model LSTM\n",
      "   5.1 Persiapan Data untuk LSTM\n",
      "   Bentuk X_train_lstm: (904, 60, 2), y_train_lstm: (904,)\n",
      "   Bentuk X_test_lstm: (181, 60, 2), y_test_lstm: (181,)\n",
      "   Bentuk y_test_actual_lstm_target (untuk evaluasi LSTM): (181,)\n",
      "\n",
      "   5.2 Pemodelan LSTM\n"
     ]
    },
    {
     "name": "stdout",
     "output_type": "stream",
     "text": [
      "Model: \"sequential\"\n"
     ]
    },
    {
     "name": "stdout",
     "output_type": "stream",
     "text": [
      "_________________________________________________________________\n"
     ]
    },
    {
     "name": "stdout",
     "output_type": "stream",
     "text": [
      " Layer (type)                Output Shape              Param #   \n"
     ]
    },
    {
     "name": "stdout",
     "output_type": "stream",
     "text": [
      "=================================================================\n"
     ]
    },
    {
     "name": "stdout",
     "output_type": "stream",
     "text": [
      " lstm (LSTM)                 (None, 60, 50)            10600     \n"
     ]
    },
    {
     "name": "stdout",
     "output_type": "stream",
     "text": [
      "                                                                 \n"
     ]
    },
    {
     "name": "stdout",
     "output_type": "stream",
     "text": [
      " dropout (Dropout)           (None, 60, 50)            0         \n"
     ]
    },
    {
     "name": "stdout",
     "output_type": "stream",
     "text": [
      "                                                                 \n"
     ]
    },
    {
     "name": "stdout",
     "output_type": "stream",
     "text": [
      " lstm_1 (LSTM)               (None, 50)                20200     \n"
     ]
    },
    {
     "name": "stdout",
     "output_type": "stream",
     "text": [
      "                                                                 \n"
     ]
    },
    {
     "name": "stdout",
     "output_type": "stream",
     "text": [
      " dropout_1 (Dropout)         (None, 50)                0         \n"
     ]
    },
    {
     "name": "stdout",
     "output_type": "stream",
     "text": [
      "                                                                 \n"
     ]
    },
    {
     "name": "stdout",
     "output_type": "stream",
     "text": [
      " dense (Dense)               (None, 25)                1275      \n"
     ]
    },
    {
     "name": "stdout",
     "output_type": "stream",
     "text": [
      "                                                                 \n"
     ]
    },
    {
     "name": "stdout",
     "output_type": "stream",
     "text": [
      " dense_1 (Dense)             (None, 1)                 26        \n"
     ]
    },
    {
     "name": "stdout",
     "output_type": "stream",
     "text": [
      "                                                                 \n"
     ]
    },
    {
     "name": "stdout",
     "output_type": "stream",
     "text": [
      "=================================================================\n"
     ]
    },
    {
     "name": "stdout",
     "output_type": "stream",
     "text": [
      "Total params: 32101 (125.39 KB)\n"
     ]
    },
    {
     "name": "stdout",
     "output_type": "stream",
     "text": [
      "Trainable params: 32101 (125.39 KB)\n"
     ]
    },
    {
     "name": "stdout",
     "output_type": "stream",
     "text": [
      "Non-trainable params: 0 (0.00 Byte)\n"
     ]
    },
    {
     "name": "stdout",
     "output_type": "stream",
     "text": [
      "_________________________________________________________________\n"
     ]
    },
    {
     "name": "stdout",
     "output_type": "stream",
     "text": [
      "   Melatih model LSTM...\n",
      "Epoch 1/30\n"
     ]
    },
    {
     "name": "stdout",
     "output_type": "stream",
     "text": [
      "\r",
      " 1/29 [>.............................] - ETA: 1:01 - loss: 0.0486"
     ]
    },
    {
     "name": "stdout",
     "output_type": "stream",
     "text": [
      "\b\b\b\b\b\b\b\b\b\b\b\b\b\b\b\b\b\b\b\b\b\b\b\b\b\b\b\b\b\b\b\b\b\b\b\b\b\b\b\b\b\b\b\b\b\b\b\b\b\b\b\b\b\b\b\b\b\b\b\b\b\b\b\b\b\r",
      " 4/29 [===>..........................] - ETA: 0s - loss: 0.1059  "
     ]
    },
    {
     "name": "stdout",
     "output_type": "stream",
     "text": [
      "\b\b\b\b\b\b\b\b\b\b\b\b\b\b\b\b\b\b\b\b\b\b\b\b\b\b\b\b\b\b\b\b\b\b\b\b\b\b\b\b\b\b\b\b\b\b\b\b\b\b\b\b\b\b\b\b\b\b\b\b\b\b\b\r",
      " 6/29 [=====>........................] - ETA: 0s - loss: 0.0848"
     ]
    },
    {
     "name": "stdout",
     "output_type": "stream",
     "text": [
      "\b\b\b\b\b\b\b\b\b\b\b\b\b\b\b\b\b\b\b\b\b\b\b\b\b\b\b\b\b\b\b\b\b\b\b\b\b\b\b\b\b\b\b\b\b\b\b\b\b\b\b\b\b\b\b\b\b\b\b\b\b\b\b\r",
      " 9/29 [========>.....................] - ETA: 0s - loss: 0.0616"
     ]
    },
    {
     "name": "stdout",
     "output_type": "stream",
     "text": [
      "\b\b\b\b\b\b\b\b\b\b\b\b\b\b\b\b\b\b\b\b\b\b\b\b\b\b\b\b\b\b\b\b\b\b\b\b\b\b\b\b\b\b\b\b\b\b\b\b\b\b\b\b\b\b\b\b\b\b\b\b\b\b\b\r",
      "11/29 [==========>...................] - ETA: 0s - loss: 0.0543"
     ]
    },
    {
     "name": "stdout",
     "output_type": "stream",
     "text": [
      "\b\b\b\b\b\b\b\b\b\b\b\b\b\b\b\b\b\b\b\b\b\b\b\b\b\b\b\b\b\b\b\b\b\b\b\b\b\b\b\b\b\b\b\b\b\b\b\b\b\b\b\b\b\b\b\b\b\b\b\b\b\b\b\r",
      "14/29 [=============>................] - ETA: 0s - loss: 0.0454"
     ]
    },
    {
     "name": "stdout",
     "output_type": "stream",
     "text": [
      "\b\b\b\b\b\b\b\b\b\b\b\b\b\b\b\b\b\b\b\b\b\b\b\b\b\b\b\b\b\b\b\b\b\b\b\b\b\b\b\b\b\b\b\b\b\b\b\b\b\b\b\b\b\b\b\b\b\b\b\b\b\b\b\r",
      "17/29 [================>.............] - ETA: 0s - loss: 0.0409"
     ]
    },
    {
     "name": "stdout",
     "output_type": "stream",
     "text": [
      "\b\b\b\b\b\b\b\b\b\b\b\b\b\b\b\b\b\b\b\b\b\b\b\b\b\b\b\b\b\b\b\b\b\b\b\b\b\b\b\b\b\b\b\b\b\b\b\b\b\b\b\b\b\b\b\b\b\b\b\b\b\b\b\r",
      "20/29 [===================>..........] - ETA: 0s - loss: 0.0363"
     ]
    },
    {
     "name": "stdout",
     "output_type": "stream",
     "text": [
      "\b\b\b\b\b\b\b\b\b\b\b\b\b\b\b\b\b\b\b\b\b\b\b\b\b\b\b\b\b\b\b\b\b\b\b\b\b\b\b\b\b\b\b\b\b\b\b\b\b\b\b\b\b\b\b\b\b\b\b\b\b\b\b\r",
      "22/29 [=====================>........] - ETA: 0s - loss: 0.0346"
     ]
    },
    {
     "name": "stdout",
     "output_type": "stream",
     "text": [
      "\b\b\b\b\b\b\b\b\b\b\b\b\b\b\b\b\b\b\b\b\b\b\b\b\b\b\b\b\b\b\b\b\b\b\b\b\b\b\b\b\b\b\b\b\b\b\b\b\b\b\b\b\b\b\b\b\b\b\b\b\b\b\b\r",
      "25/29 [========================>.....] - ETA: 0s - loss: 0.0314"
     ]
    },
    {
     "name": "stdout",
     "output_type": "stream",
     "text": [
      "\b\b\b\b\b\b\b\b\b\b\b\b\b\b\b\b\b\b\b\b\b\b\b\b\b\b\b\b\b\b\b\b\b\b\b\b\b\b\b\b\b\b\b\b\b\b\b\b\b\b\b\b\b\b\b\b\b\b\b\b\b\b\b\r",
      "28/29 [===========================>..] - ETA: 0s - loss: 0.0295"
     ]
    },
    {
     "name": "stdout",
     "output_type": "stream",
     "text": [
      "\b\b\b\b\b\b\b\b\b\b\b\b\b\b\b\b\b\b\b\b\b\b\b\b\b\b\b\b\b\b\b\b\b\b\b\b\b\b\b\b\b\b\b\b\b\b\b\b\b\b\b\b\b\b\b\b\b\b\b\b\b\b\b\r",
      "29/29 [==============================] - 3s 45ms/step - loss: 0.0293 - val_loss: 0.0085\n"
     ]
    },
    {
     "name": "stdout",
     "output_type": "stream",
     "text": [
      "Epoch 2/30\n"
     ]
    },
    {
     "name": "stdout",
     "output_type": "stream",
     "text": [
      "\r",
      " 1/29 [>.............................] - ETA: 0s - loss: 0.0625"
     ]
    },
    {
     "name": "stdout",
     "output_type": "stream",
     "text": [
      "\b\b\b\b\b\b\b\b\b\b\b\b\b\b\b\b\b\b\b\b\b\b\b\b\b\b\b\b\b\b\b\b\b\b\b\b\b\b\b\b\b\b\b\b\b\b\b\b\b\b\b\b\b\b\b\b\b\b\b\b\b\b\b\r",
      " 3/29 [==>...........................] - ETA: 0s - loss: 0.0355"
     ]
    },
    {
     "name": "stdout",
     "output_type": "stream",
     "text": [
      "\b\b\b\b\b\b\b\b\b\b\b\b\b\b\b\b\b\b\b\b\b\b\b\b\b\b\b\b\b\b\b\b\b\b\b\b\b\b\b\b\b\b\b\b\b\b\b\b\b\b\b\b\b\b\b\b\b\b\b\b\b\b\b\r",
      " 6/29 [=====>........................] - ETA: 0s - loss: 0.0236"
     ]
    },
    {
     "name": "stdout",
     "output_type": "stream",
     "text": [
      "\b\b\b\b\b\b\b\b\b\b\b\b\b\b\b\b\b\b\b\b\b\b\b\b\b\b\b\b\b\b\b\b\b\b\b\b\b\b\b\b\b\b\b\b\b\b\b\b\b\b\b\b\b\b\b\b\b\b\b\b\b\b\b\r",
      " 8/29 [=======>......................] - ETA: 0s - loss: 0.0185"
     ]
    },
    {
     "name": "stdout",
     "output_type": "stream",
     "text": [
      "\b\b\b\b\b\b\b\b\b\b\b\b\b\b\b\b\b\b\b\b\b\b\b\b\b\b\b\b\b\b\b\b\b\b\b\b\b\b\b\b\b\b\b\b\b\b\b\b\b\b\b\b\b\b\b\b\b\b\b\b\b\b\b\r",
      "10/29 [=========>....................] - ETA: 0s - loss: 0.0202"
     ]
    },
    {
     "name": "stdout",
     "output_type": "stream",
     "text": [
      "\b\b\b\b\b\b\b\b\b\b\b\b\b\b\b\b\b\b\b\b\b\b\b\b\b\b\b\b\b\b\b\b\b\b\b\b\b\b\b\b\b\b\b\b\b\b\b\b\b\b\b\b\b\b\b\b\b\b\b\b\b\b\b\r",
      "12/29 [===========>..................] - ETA: 0s - loss: 0.0218"
     ]
    },
    {
     "name": "stdout",
     "output_type": "stream",
     "text": [
      "\b\b\b\b\b\b\b\b\b\b\b\b\b\b\b\b\b\b\b\b\b\b\b\b\b\b\b\b\b\b\b\b\b\b\b\b\b\b\b\b\b\b\b\b\b\b\b\b\b\b\b\b\b\b\b\b\b\b\b\b\b\b\b\r",
      "15/29 [==============>...............] - ETA: 0s - loss: 0.0218"
     ]
    },
    {
     "name": "stdout",
     "output_type": "stream",
     "text": [
      "\b\b\b\b\b\b\b\b\b\b\b\b\b\b\b\b\b\b\b\b\b\b\b\b\b\b\b\b\b\b\b\b\b\b\b\b\b\b\b\b\b\b\b\b\b\b\b\b\b\b\b\b\b\b\b\b\b\b\b\b\b\b\b\r",
      "17/29 [================>.............] - ETA: 0s - loss: 0.0219"
     ]
    },
    {
     "name": "stdout",
     "output_type": "stream",
     "text": [
      "\b\b\b\b\b\b\b\b\b\b\b\b\b\b\b\b\b\b\b\b\b\b\b\b\b\b\b\b\b\b\b\b\b\b\b\b\b\b\b\b\b\b\b\b\b\b\b\b\b\b\b\b\b\b\b\b\b\b\b\b\b\b\b\r",
      "19/29 [==================>...........] - ETA: 0s - loss: 0.0225"
     ]
    },
    {
     "name": "stdout",
     "output_type": "stream",
     "text": [
      "\b\b\b\b\b\b\b\b\b\b\b\b\b\b\b\b\b\b\b\b\b\b\b\b\b\b\b\b\b\b\b\b\b\b\b\b\b\b\b\b\b\b\b\b\b\b\b\b\b\b\b\b\b\b\b\b\b\b\b\b\b\b\b\r",
      "22/29 [=====================>........] - ETA: 0s - loss: 0.0205"
     ]
    },
    {
     "name": "stdout",
     "output_type": "stream",
     "text": [
      "\b\b\b\b\b\b\b\b\b\b\b\b\b\b\b\b\b\b\b\b\b\b\b\b\b\b\b\b\b\b\b\b\b\b\b\b\b\b\b\b\b\b\b\b\b\b\b\b\b\b\b\b\b\b\b\b\b\b\b\b\b\b\b\r",
      "24/29 [=======================>......] - ETA: 0s - loss: 0.0200"
     ]
    },
    {
     "name": "stdout",
     "output_type": "stream",
     "text": [
      "\b\b\b\b\b\b\b\b\b\b\b\b\b\b\b\b\b\b\b\b\b\b\b\b\b\b\b\b\b\b\b\b\b\b\b\b\b\b\b\b\b\b\b\b\b\b\b\b\b\b\b\b\b\b\b\b\b\b\b\b\b\b\b\r",
      "27/29 [==========================>...] - ETA: 0s - loss: 0.0207"
     ]
    },
    {
     "name": "stdout",
     "output_type": "stream",
     "text": [
      "\b\b\b\b\b\b\b\b\b\b\b\b\b\b\b\b\b\b\b\b\b\b\b\b\b\b\b\b\b\b\b\b\b\b\b\b\b\b\b\b\b\b\b\b\b\b\b\b\b\b\b\b\b\b\b\b\b\b\b\b\b\b\b\r",
      "29/29 [==============================] - 1s 27ms/step - loss: 0.0206 - val_loss: 0.0069\n"
     ]
    },
    {
     "name": "stdout",
     "output_type": "stream",
     "text": [
      "Epoch 3/30\n"
     ]
    },
    {
     "name": "stdout",
     "output_type": "stream",
     "text": [
      "\r",
      " 1/29 [>.............................] - ETA: 0s - loss: 0.0364"
     ]
    },
    {
     "name": "stdout",
     "output_type": "stream",
     "text": [
      "\b\b\b\b\b\b\b\b\b\b\b\b\b\b\b\b\b\b\b\b\b\b\b\b\b\b\b\b\b\b\b\b\b\b\b\b\b\b\b\b\b\b\b\b\b\b\b\b\b\b\b\b\b\b\b\b\b\b\b\b\b\b\b\r",
      " 3/29 [==>...........................] - ETA: 0s - loss: 0.0232"
     ]
    },
    {
     "name": "stdout",
     "output_type": "stream",
     "text": [
      "\b\b\b\b\b\b\b\b\b\b\b\b\b\b\b\b\b\b\b\b\b\b\b\b\b\b\b\b\b\b\b\b\b\b\b\b\b\b\b\b\b\b\b\b\b\b\b\b\b\b\b\b\b\b\b\b\b\b\b\b\b\b\b\r",
      " 6/29 [=====>........................] - ETA: 0s - loss: 0.0295"
     ]
    },
    {
     "name": "stdout",
     "output_type": "stream",
     "text": [
      "\b\b\b\b\b\b\b\b\b\b\b\b\b\b\b\b\b\b\b\b\b\b\b\b\b\b\b\b\b\b\b\b\b\b\b\b\b\b\b\b\b\b\b\b\b\b\b\b\b\b\b\b\b\b\b\b\b\b\b\b\b\b\b\r",
      " 9/29 [========>.....................] - ETA: 0s - loss: 0.0224"
     ]
    },
    {
     "name": "stdout",
     "output_type": "stream",
     "text": [
      "\b\b\b\b\b\b\b\b\b\b\b\b\b\b\b\b\b\b\b\b\b\b\b\b\b\b\b\b\b\b\b\b\b\b\b\b\b\b\b\b\b\b\b\b\b\b\b\b\b\b\b\b\b\b\b\b\b\b\b\b\b\b\b\r",
      "12/29 [===========>..................] - ETA: 0s - loss: 0.0209"
     ]
    },
    {
     "name": "stdout",
     "output_type": "stream",
     "text": [
      "\b\b\b\b\b\b\b\b\b\b\b\b\b\b\b\b\b\b\b\b\b\b\b\b\b\b\b\b\b\b\b\b\b\b\b\b\b\b\b\b\b\b\b\b\b\b\b\b\b\b\b\b\b\b\b\b\b\b\b\b\b\b\b\r",
      "15/29 [==============>...............] - ETA: 0s - loss: 0.0219"
     ]
    },
    {
     "name": "stdout",
     "output_type": "stream",
     "text": [
      "\b\b\b\b\b\b\b\b\b\b\b\b\b\b\b\b\b\b\b\b\b\b\b\b\b\b\b\b\b\b\b\b\b\b\b\b\b\b\b\b\b\b\b\b\b\b\b\b\b\b\b\b\b\b\b\b\b\b\b\b\b\b\b\r",
      "18/29 [=================>............] - ETA: 0s - loss: 0.0203"
     ]
    },
    {
     "name": "stdout",
     "output_type": "stream",
     "text": [
      "\b\b\b\b\b\b\b\b\b\b\b\b\b\b\b\b\b\b\b\b\b\b\b\b\b\b\b\b\b\b\b\b\b\b\b\b\b\b\b\b\b\b\b\b\b\b\b\b\b\b\b\b\b\b\b\b\b\b\b\b\b\b\b\r",
      "20/29 [===================>..........] - ETA: 0s - loss: 0.0201"
     ]
    },
    {
     "name": "stdout",
     "output_type": "stream",
     "text": [
      "\b\b\b\b\b\b\b\b\b\b\b\b\b\b\b\b\b\b\b\b\b\b\b\b\b\b\b\b\b\b\b\b\b\b\b\b\b\b\b\b\b\b\b\b\b\b\b\b\b\b\b\b\b\b\b\b\b\b\b\b\b\b\b\r",
      "23/29 [======================>.......] - ETA: 0s - loss: 0.0191"
     ]
    },
    {
     "name": "stdout",
     "output_type": "stream",
     "text": [
      "\b\b\b\b\b\b\b\b\b\b\b\b\b\b\b\b\b\b\b\b\b\b\b\b\b\b\b\b\b\b\b\b\b\b\b\b\b\b\b\b\b\b\b\b\b\b\b\b\b\b\b\b\b\b\b\b\b\b\b\b\b\b\b\r",
      "26/29 [=========================>....] - ETA: 0s - loss: 0.0180"
     ]
    },
    {
     "name": "stdout",
     "output_type": "stream",
     "text": [
      "\b\b\b\b\b\b\b\b\b\b\b\b\b\b\b\b\b\b\b\b\b\b\b\b\b\b\b\b\b\b\b\b\b\b\b\b\b\b\b\b\b\b\b\b\b\b\b\b\b\b\b\b\b\b\b\b\b\b\b\b\b\b\b\r",
      "29/29 [==============================] - ETA: 0s - loss: 0.0177"
     ]
    },
    {
     "name": "stdout",
     "output_type": "stream",
     "text": [
      "\b\b\b\b\b\b\b\b\b\b\b\b\b\b\b\b\b\b\b\b\b\b\b\b\b\b\b\b\b\b\b\b\b\b\b\b\b\b\b\b\b\b\b\b\b\b\b\b\b\b\b\b\b\b\b\b\b\b\b\b\b\b\b\r",
      "29/29 [==============================] - 1s 26ms/step - loss: 0.0177 - val_loss: 0.0060\n"
     ]
    },
    {
     "name": "stdout",
     "output_type": "stream",
     "text": [
      "Epoch 4/30\n"
     ]
    },
    {
     "name": "stdout",
     "output_type": "stream",
     "text": [
      "\r",
      " 1/29 [>.............................] - ETA: 0s - loss: 0.0102"
     ]
    },
    {
     "name": "stdout",
     "output_type": "stream",
     "text": [
      "\b\b\b\b\b\b\b\b\b\b\b\b\b\b\b\b\b\b\b\b\b\b\b\b\b\b\b\b\b\b\b\b\b\b\b\b\b\b\b\b\b\b\b\b\b\b\b\b\b\b\b\b\b\b\b\b\b\b\b\b\b\b\b\r",
      " 4/29 [===>..........................] - ETA: 0s - loss: 0.0055"
     ]
    },
    {
     "name": "stdout",
     "output_type": "stream",
     "text": [
      "\b\b\b\b\b\b\b\b\b\b\b\b\b\b\b\b\b\b\b\b\b\b\b\b\b\b\b\b\b\b\b\b\b\b\b\b\b\b\b\b\b\b\b\b\b\b\b\b\b\b\b\b\b\b\b\b\b\b\b\b\b\b\b\r",
      " 7/29 [======>.......................] - ETA: 0s - loss: 0.0056"
     ]
    },
    {
     "name": "stdout",
     "output_type": "stream",
     "text": [
      "\b\b\b\b\b\b\b\b\b\b\b\b\b\b\b\b\b\b\b\b\b\b\b\b\b\b\b\b\b\b\b\b\b\b\b\b\b\b\b\b\b\b\b\b\b\b\b\b\b\b\b\b\b\b\b\b\b\b\b\b\b\b\b\r",
      " 9/29 [========>.....................] - ETA: 0s - loss: 0.0052"
     ]
    },
    {
     "name": "stdout",
     "output_type": "stream",
     "text": [
      "\b\b\b\b\b\b\b\b\b\b\b\b\b\b\b\b\b\b\b\b\b\b\b\b\b\b\b\b\b\b\b\b\b\b\b\b\b\b\b\b\b\b\b\b\b\b\b\b\b\b\b\b\b\b\b\b\b\b\b\b\b\b\b\r",
      "12/29 [===========>..................] - ETA: 0s - loss: 0.0054"
     ]
    },
    {
     "name": "stdout",
     "output_type": "stream",
     "text": [
      "\b\b\b\b\b\b\b\b\b\b\b\b\b\b\b\b\b\b\b\b\b\b\b\b\b\b\b\b\b\b\b\b\b\b\b\b\b\b\b\b\b\b\b\b\b\b\b\b\b\b\b\b\b\b\b\b\b\b\b\b\b\b\b\r",
      "15/29 [==============>...............] - ETA: 0s - loss: 0.0066"
     ]
    },
    {
     "name": "stdout",
     "output_type": "stream",
     "text": [
      "\b\b\b\b\b\b\b\b\b\b\b\b\b\b\b\b\b\b\b\b\b\b\b\b\b\b\b\b\b\b\b\b\b\b\b\b\b\b\b\b\b\b\b\b\b\b\b\b\b\b\b\b\b\b\b\b\b\b\b\b\b\b\b\r",
      "18/29 [=================>............] - ETA: 0s - loss: 0.0069"
     ]
    },
    {
     "name": "stdout",
     "output_type": "stream",
     "text": [
      "\b\b\b\b\b\b\b\b\b\b\b\b\b\b\b\b\b\b\b\b\b\b\b\b\b\b\b\b\b\b\b\b\b\b\b\b\b\b\b\b\b\b\b\b\b\b\b\b\b\b\b\b\b\b\b\b\b\b\b\b\b\b\b\r",
      "21/29 [====================>.........] - ETA: 0s - loss: 0.0069"
     ]
    },
    {
     "name": "stdout",
     "output_type": "stream",
     "text": [
      "\b\b\b\b\b\b\b\b\b\b\b\b\b\b\b\b\b\b\b\b\b\b\b\b\b\b\b\b\b\b\b\b\b\b\b\b\b\b\b\b\b\b\b\b\b\b\b\b\b\b\b\b\b\b\b\b\b\b\b\b\b\b\b\r",
      "23/29 [======================>.......] - ETA: 0s - loss: 0.0068"
     ]
    },
    {
     "name": "stdout",
     "output_type": "stream",
     "text": [
      "\b\b\b\b\b\b\b\b\b\b\b\b\b\b\b\b\b\b\b\b\b\b\b\b\b\b\b\b\b\b\b\b\b\b\b\b\b\b\b\b\b\b\b\b\b\b\b\b\b\b\b\b\b\b\b\b\b\b\b\b\b\b\b\r",
      "26/29 [=========================>....] - ETA: 0s - loss: 0.0071"
     ]
    },
    {
     "name": "stdout",
     "output_type": "stream",
     "text": [
      "\b\b\b\b\b\b\b\b\b\b\b\b\b\b\b\b\b\b\b\b\b\b\b\b\b\b\b\b\b\b\b\b\b\b\b\b\b\b\b\b\b\b\b\b\b\b\b\b\b\b\b\b\b\b\b\b\b\b\b\b\b\b\b\r",
      "29/29 [==============================] - ETA: 0s - loss: 0.0070"
     ]
    },
    {
     "name": "stdout",
     "output_type": "stream",
     "text": [
      "\b\b\b\b\b\b\b\b\b\b\b\b\b\b\b\b\b\b\b\b\b\b\b\b\b\b\b\b\b\b\b\b\b\b\b\b\b\b\b\b\b\b\b\b\b\b\b\b\b\b\b\b\b\b\b\b\b\b\b\b\b\b\b\r",
      "29/29 [==============================] - 1s 27ms/step - loss: 0.0070 - val_loss: 0.0053\n"
     ]
    },
    {
     "name": "stdout",
     "output_type": "stream",
     "text": [
      "Epoch 5/30\n"
     ]
    },
    {
     "name": "stdout",
     "output_type": "stream",
     "text": [
      "\r",
      " 1/29 [>.............................] - ETA: 0s - loss: 0.0082"
     ]
    },
    {
     "name": "stdout",
     "output_type": "stream",
     "text": [
      "\b\b\b\b\b\b\b\b\b\b\b\b\b\b\b\b\b\b\b\b\b\b\b\b\b\b\b\b\b\b\b\b\b\b\b\b\b\b\b\b\b\b\b\b\b\b\b\b\b\b\b\b\b\b\b\b\b\b\b\b\b\b\b\r",
      " 4/29 [===>..........................] - ETA: 0s - loss: 0.0043"
     ]
    },
    {
     "name": "stdout",
     "output_type": "stream",
     "text": [
      "\b\b\b\b\b\b\b\b\b\b\b\b\b\b\b\b\b\b\b\b\b\b\b\b\b\b\b\b\b\b\b\b\b\b\b\b\b\b\b\b\b\b\b\b\b\b\b\b\b\b\b\b\b\b\b\b\b\b\b\b\b\b\b\r",
      " 6/29 [=====>........................] - ETA: 0s - loss: 0.0055"
     ]
    },
    {
     "name": "stdout",
     "output_type": "stream",
     "text": [
      "\b\b\b\b\b\b\b\b\b\b\b\b\b\b\b\b\b\b\b\b\b\b\b\b\b\b\b\b\b\b\b\b\b\b\b\b\b\b\b\b\b\b\b\b\b\b\b\b\b\b\b\b\b\b\b\b\b\b\b\b\b\b\b\r",
      " 9/29 [========>.....................] - ETA: 0s - loss: 0.0052"
     ]
    },
    {
     "name": "stdout",
     "output_type": "stream",
     "text": [
      "\b\b\b\b\b\b\b\b\b\b\b\b\b\b\b\b\b\b\b\b\b\b\b\b\b\b\b\b\b\b\b\b\b\b\b\b\b\b\b\b\b\b\b\b\b\b\b\b\b\b\b\b\b\b\b\b\b\b\b\b\b\b\b\r",
      "12/29 [===========>..................] - ETA: 0s - loss: 0.0049"
     ]
    },
    {
     "name": "stdout",
     "output_type": "stream",
     "text": [
      "\b\b\b\b\b\b\b\b\b\b\b\b\b\b\b\b\b\b\b\b\b\b\b\b\b\b\b\b\b\b\b\b\b\b\b\b\b\b\b\b\b\b\b\b\b\b\b\b\b\b\b\b\b\b\b\b\b\b\b\b\b\b\b\r",
      "15/29 [==============>...............] - ETA: 0s - loss: 0.0056"
     ]
    },
    {
     "name": "stdout",
     "output_type": "stream",
     "text": [
      "\b\b\b\b\b\b\b\b\b\b\b\b\b\b\b\b\b\b\b\b\b\b\b\b\b\b\b\b\b\b\b\b\b\b\b\b\b\b\b\b\b\b\b\b\b\b\b\b\b\b\b\b\b\b\b\b\b\b\b\b\b\b\b\r",
      "18/29 [=================>............] - ETA: 0s - loss: 0.0058"
     ]
    },
    {
     "name": "stdout",
     "output_type": "stream",
     "text": [
      "\b\b\b\b\b\b\b\b\b\b\b\b\b\b\b\b\b\b\b\b\b\b\b\b\b\b\b\b\b\b\b\b\b\b\b\b\b\b\b\b\b\b\b\b\b\b\b\b\b\b\b\b\b\b\b\b\b\b\b\b\b\b\b\r",
      "21/29 [====================>.........] - ETA: 0s - loss: 0.0059"
     ]
    },
    {
     "name": "stdout",
     "output_type": "stream",
     "text": [
      "\b\b\b\b\b\b\b\b\b\b\b\b\b\b\b\b\b\b\b\b\b\b\b\b\b\b\b\b\b\b\b\b\b\b\b\b\b\b\b\b\b\b\b\b\b\b\b\b\b\b\b\b\b\b\b\b\b\b\b\b\b\b\b\r",
      "24/29 [=======================>......] - ETA: 0s - loss: 0.0059"
     ]
    },
    {
     "name": "stdout",
     "output_type": "stream",
     "text": [
      "\b\b\b\b\b\b\b\b\b\b\b\b\b\b\b\b\b\b\b\b\b\b\b\b\b\b\b\b\b\b\b\b\b\b\b\b\b\b\b\b\b\b\b\b\b\b\b\b\b\b\b\b\b\b\b\b\b\b\b\b\b\b\b\r",
      "27/29 [==========================>...] - ETA: 0s - loss: 0.0061"
     ]
    },
    {
     "name": "stdout",
     "output_type": "stream",
     "text": [
      "\b\b\b\b\b\b\b\b\b\b\b\b\b\b\b\b\b\b\b\b\b\b\b\b\b\b\b\b\b\b\b\b\b\b\b\b\b\b\b\b\b\b\b\b\b\b\b\b\b\b\b\b\b\b\b\b\b\b\b\b\b\b\b\r",
      "29/29 [==============================] - 1s 26ms/step - loss: 0.0062 - val_loss: 0.0045\n"
     ]
    },
    {
     "name": "stdout",
     "output_type": "stream",
     "text": [
      "Epoch 6/30\n"
     ]
    },
    {
     "name": "stdout",
     "output_type": "stream",
     "text": [
      "\r",
      " 1/29 [>.............................] - ETA: 0s - loss: 0.0043"
     ]
    },
    {
     "name": "stdout",
     "output_type": "stream",
     "text": [
      "\b\b\b\b\b\b\b\b\b\b\b\b\b\b\b\b\b\b\b\b\b\b\b\b\b\b\b\b\b\b\b\b\b\b\b\b\b\b\b\b\b\b\b\b\b\b\b\b\b\b\b\b\b\b\b\b\b\b\b\b\b\b\b\r",
      " 4/29 [===>..........................] - ETA: 0s - loss: 0.0042"
     ]
    },
    {
     "name": "stdout",
     "output_type": "stream",
     "text": [
      "\b\b\b\b\b\b\b\b\b\b\b\b\b\b\b\b\b\b\b\b\b\b\b\b\b\b\b\b\b\b\b\b\b\b\b\b\b\b\b\b\b\b\b\b\b\b\b\b\b\b\b\b\b\b\b\b\b\b\b\b\b\b\b\r",
      " 7/29 [======>.......................] - ETA: 0s - loss: 0.0038"
     ]
    },
    {
     "name": "stdout",
     "output_type": "stream",
     "text": [
      "\b\b\b\b\b\b\b\b\b\b\b\b\b\b\b\b\b\b\b\b\b\b\b\b\b\b\b\b\b\b\b\b\b\b\b\b\b\b\b\b\b\b\b\b\b\b\b\b\b\b\b\b\b\b\b\b\b\b\b\b\b\b\b\r",
      "10/29 [=========>....................] - ETA: 0s - loss: 0.0038"
     ]
    },
    {
     "name": "stdout",
     "output_type": "stream",
     "text": [
      "\b\b\b\b\b\b\b\b\b\b\b\b\b\b\b\b\b\b\b\b\b\b\b\b\b\b\b\b\b\b\b\b\b\b\b\b\b\b\b\b\b\b\b\b\b\b\b\b\b\b\b\b\b\b\b\b\b\b\b\b\b\b\b\r",
      "13/29 [============>.................] - ETA: 0s - loss: 0.0047"
     ]
    },
    {
     "name": "stdout",
     "output_type": "stream",
     "text": [
      "\b\b\b\b\b\b\b\b\b\b\b\b\b\b\b\b\b\b\b\b\b\b\b\b\b\b\b\b\b\b\b\b\b\b\b\b\b\b\b\b\b\b\b\b\b\b\b\b\b\b\b\b\b\b\b\b\b\b\b\b\b\b\b\r",
      "16/29 [===============>..............] - ETA: 0s - loss: 0.0056"
     ]
    },
    {
     "name": "stdout",
     "output_type": "stream",
     "text": [
      "\b\b\b\b\b\b\b\b\b\b\b\b\b\b\b\b\b\b\b\b\b\b\b\b\b\b\b\b\b\b\b\b\b\b\b\b\b\b\b\b\b\b\b\b\b\b\b\b\b\b\b\b\b\b\b\b\b\b\b\b\b\b\b\r",
      "19/29 [==================>...........] - ETA: 0s - loss: 0.0059"
     ]
    },
    {
     "name": "stdout",
     "output_type": "stream",
     "text": [
      "\b\b\b\b\b\b\b\b\b\b\b\b\b\b\b\b\b\b\b\b\b\b\b\b\b\b\b\b\b\b\b\b\b\b\b\b\b\b\b\b\b\b\b\b\b\b\b\b\b\b\b\b\b\b\b\b\b\b\b\b\b\b\b\r",
      "22/29 [=====================>........] - ETA: 0s - loss: 0.0056"
     ]
    },
    {
     "name": "stdout",
     "output_type": "stream",
     "text": [
      "\b\b\b\b\b\b\b\b\b\b\b\b\b\b\b\b\b\b\b\b\b\b\b\b\b\b\b\b\b\b\b\b\b\b\b\b\b\b\b\b\b\b\b\b\b\b\b\b\b\b\b\b\b\b\b\b\b\b\b\b\b\b\b\r",
      "25/29 [========================>.....] - ETA: 0s - loss: 0.0057"
     ]
    },
    {
     "name": "stdout",
     "output_type": "stream",
     "text": [
      "\b\b\b\b\b\b\b\b\b\b\b\b\b\b\b\b\b\b\b\b\b\b\b\b\b\b\b\b\b\b\b\b\b\b\b\b\b\b\b\b\b\b\b\b\b\b\b\b\b\b\b\b\b\b\b\b\b\b\b\b\b\b\b\r",
      "28/29 [===========================>..] - ETA: 0s - loss: 0.0057"
     ]
    },
    {
     "name": "stdout",
     "output_type": "stream",
     "text": [
      "\b\b\b\b\b\b\b\b\b\b\b\b\b\b\b\b\b\b\b\b\b\b\b\b\b\b\b\b\b\b\b\b\b\b\b\b\b\b\b\b\b\b\b\b\b\b\b\b\b\b\b\b\b\b\b\b\b\b\b\b\b\b\b\r",
      "29/29 [==============================] - 1s 26ms/step - loss: 0.0057 - val_loss: 0.0062\n"
     ]
    },
    {
     "name": "stdout",
     "output_type": "stream",
     "text": [
      "Epoch 7/30\n"
     ]
    },
    {
     "name": "stdout",
     "output_type": "stream",
     "text": [
      "\r",
      " 1/29 [>.............................] - ETA: 0s - loss: 0.0090"
     ]
    },
    {
     "name": "stdout",
     "output_type": "stream",
     "text": [
      "\b\b\b\b\b\b\b\b\b\b\b\b\b\b\b\b\b\b\b\b\b\b\b\b\b\b\b\b\b\b\b\b\b\b\b\b\b\b\b\b\b\b\b\b\b\b\b\b\b\b\b\b\b\b\b\b\b\b\b\b\b\b\b\r",
      " 4/29 [===>..........................] - ETA: 0s - loss: 0.0045"
     ]
    },
    {
     "name": "stdout",
     "output_type": "stream",
     "text": [
      "\b\b\b\b\b\b\b\b\b\b\b\b\b\b\b\b\b\b\b\b\b\b\b\b\b\b\b\b\b\b\b\b\b\b\b\b\b\b\b\b\b\b\b\b\b\b\b\b\b\b\b\b\b\b\b\b\b\b\b\b\b\b\b\r",
      " 6/29 [=====>........................] - ETA: 0s - loss: 0.0049"
     ]
    },
    {
     "name": "stdout",
     "output_type": "stream",
     "text": [
      "\b\b\b\b\b\b\b\b\b\b\b\b\b\b\b\b\b\b\b\b\b\b\b\b\b\b\b\b\b\b\b\b\b\b\b\b\b\b\b\b\b\b\b\b\b\b\b\b\b\b\b\b\b\b\b\b\b\b\b\b\b\b\b\r",
      " 8/29 [=======>......................] - ETA: 0s - loss: 0.0042"
     ]
    },
    {
     "name": "stdout",
     "output_type": "stream",
     "text": [
      "\b\b\b\b\b\b\b\b\b\b\b\b\b\b\b\b\b\b\b\b\b\b\b\b\b\b\b\b\b\b\b\b\b\b\b\b\b\b\b\b\b\b\b\b\b\b\b\b\b\b\b\b\b\b\b\b\b\b\b\b\b\b\b\r",
      "10/29 [=========>....................] - ETA: 0s - loss: 0.0050"
     ]
    },
    {
     "name": "stdout",
     "output_type": "stream",
     "text": [
      "\b\b\b\b\b\b\b\b\b\b\b\b\b\b\b\b\b\b\b\b\b\b\b\b\b\b\b\b\b\b\b\b\b\b\b\b\b\b\b\b\b\b\b\b\b\b\b\b\b\b\b\b\b\b\b\b\b\b\b\b\b\b\b\r",
      "13/29 [============>.................] - ETA: 0s - loss: 0.0054"
     ]
    },
    {
     "name": "stdout",
     "output_type": "stream",
     "text": [
      "\b\b\b\b\b\b\b\b\b\b\b\b\b\b\b\b\b\b\b\b\b\b\b\b\b\b\b\b\b\b\b\b\b\b\b\b\b\b\b\b\b\b\b\b\b\b\b\b\b\b\b\b\b\b\b\b\b\b\b\b\b\b\b\r",
      "16/29 [===============>..............] - ETA: 0s - loss: 0.0057"
     ]
    },
    {
     "name": "stdout",
     "output_type": "stream",
     "text": [
      "\b\b\b\b\b\b\b\b\b\b\b\b\b\b\b\b\b\b\b\b\b\b\b\b\b\b\b\b\b\b\b\b\b\b\b\b\b\b\b\b\b\b\b\b\b\b\b\b\b\b\b\b\b\b\b\b\b\b\b\b\b\b\b\r",
      "19/29 [==================>...........] - ETA: 0s - loss: 0.0064"
     ]
    },
    {
     "name": "stdout",
     "output_type": "stream",
     "text": [
      "\b\b\b\b\b\b\b\b\b\b\b\b\b\b\b\b\b\b\b\b\b\b\b\b\b\b\b\b\b\b\b\b\b\b\b\b\b\b\b\b\b\b\b\b\b\b\b\b\b\b\b\b\b\b\b\b\b\b\b\b\b\b\b\r",
      "21/29 [====================>.........] - ETA: 0s - loss: 0.0062"
     ]
    },
    {
     "name": "stdout",
     "output_type": "stream",
     "text": [
      "\b\b\b\b\b\b\b\b\b\b\b\b\b\b\b\b\b\b\b\b\b\b\b\b\b\b\b\b\b\b\b\b\b\b\b\b\b\b\b\b\b\b\b\b\b\b\b\b\b\b\b\b\b\b\b\b\b\b\b\b\b\b\b\r",
      "24/29 [=======================>......] - ETA: 0s - loss: 0.0064"
     ]
    },
    {
     "name": "stdout",
     "output_type": "stream",
     "text": [
      "\b\b\b\b\b\b\b\b\b\b\b\b\b\b\b\b\b\b\b\b\b\b\b\b\b\b\b\b\b\b\b\b\b\b\b\b\b\b\b\b\b\b\b\b\b\b\b\b\b\b\b\b\b\b\b\b\b\b\b\b\b\b\b\r",
      "26/29 [=========================>....] - ETA: 0s - loss: 0.0067"
     ]
    },
    {
     "name": "stdout",
     "output_type": "stream",
     "text": [
      "\b\b\b\b\b\b\b\b\b\b\b\b\b\b\b\b\b\b\b\b\b\b\b\b\b\b\b\b\b\b\b\b\b\b\b\b\b\b\b\b\b\b\b\b\b\b\b\b\b\b\b\b\b\b\b\b\b\b\b\b\b\b\b\r",
      "29/29 [==============================] - ETA: 0s - loss: 0.0068"
     ]
    },
    {
     "name": "stdout",
     "output_type": "stream",
     "text": [
      "\b\b\b\b\b\b\b\b\b\b\b\b\b\b\b\b\b\b\b\b\b\b\b\b\b\b\b\b\b\b\b\b\b\b\b\b\b\b\b\b\b\b\b\b\b\b\b\b\b\b\b\b\b\b\b\b\b\b\b\b\b\b\b\r",
      "29/29 [==============================] - 1s 27ms/step - loss: 0.0068 - val_loss: 0.0056\n"
     ]
    },
    {
     "name": "stdout",
     "output_type": "stream",
     "text": [
      "Epoch 8/30\n"
     ]
    },
    {
     "name": "stdout",
     "output_type": "stream",
     "text": [
      "\r",
      " 1/29 [>.............................] - ETA: 0s - loss: 0.0075"
     ]
    },
    {
     "name": "stdout",
     "output_type": "stream",
     "text": [
      "\b\b\b\b\b\b\b\b\b\b\b\b\b\b\b\b\b\b\b\b\b\b\b\b\b\b\b\b\b\b\b\b\b\b\b\b\b\b\b\b\b\b\b\b\b\b\b\b\b\b\b\b\b\b\b\b\b\b\b\b\b\b\b\r",
      " 4/29 [===>..........................] - ETA: 0s - loss: 0.0044"
     ]
    },
    {
     "name": "stdout",
     "output_type": "stream",
     "text": [
      "\b\b\b\b\b\b\b\b\b\b\b\b\b\b\b\b\b\b\b\b\b\b\b\b\b\b\b\b\b\b\b\b\b\b\b\b\b\b\b\b\b\b\b\b\b\b\b\b\b\b\b\b\b\b\b\b\b\b\b\b\b\b\b\r",
      " 6/29 [=====>........................] - ETA: 0s - loss: 0.0043"
     ]
    },
    {
     "name": "stdout",
     "output_type": "stream",
     "text": [
      "\b\b\b\b\b\b\b\b\b\b\b\b\b\b\b\b\b\b\b\b\b\b\b\b\b\b\b\b\b\b\b\b\b\b\b\b\b\b\b\b\b\b\b\b\b\b\b\b\b\b\b\b\b\b\b\b\b\b\b\b\b\b\b\r",
      " 9/29 [========>.....................] - ETA: 0s - loss: 0.0040"
     ]
    },
    {
     "name": "stdout",
     "output_type": "stream",
     "text": [
      "\b\b\b\b\b\b\b\b\b\b\b\b\b\b\b\b\b\b\b\b\b\b\b\b\b\b\b\b\b\b\b\b\b\b\b\b\b\b\b\b\b\b\b\b\b\b\b\b\b\b\b\b\b\b\b\b\b\b\b\b\b\b\b\r",
      "11/29 [==========>...................] - ETA: 0s - loss: 0.0041"
     ]
    },
    {
     "name": "stdout",
     "output_type": "stream",
     "text": [
      "\b\b\b\b\b\b\b\b\b\b\b\b\b\b\b\b\b\b\b\b\b\b\b\b\b\b\b\b\b\b\b\b\b\b\b\b\b\b\b\b\b\b\b\b\b\b\b\b\b\b\b\b\b\b\b\b\b\b\b\b\b\b\b\r",
      "13/29 [============>.................] - ETA: 0s - loss: 0.0049"
     ]
    },
    {
     "name": "stdout",
     "output_type": "stream",
     "text": [
      "\b\b\b\b\b\b\b\b\b\b\b\b\b\b\b\b\b\b\b\b\b\b\b\b\b\b\b\b\b\b\b\b\b\b\b\b\b\b\b\b\b\b\b\b\b\b\b\b\b\b\b\b\b\b\b\b\b\b\b\b\b\b\b\r",
      "16/29 [===============>..............] - ETA: 0s - loss: 0.0056"
     ]
    },
    {
     "name": "stdout",
     "output_type": "stream",
     "text": [
      "\b\b\b\b\b\b\b\b\b\b\b\b\b\b\b\b\b\b\b\b\b\b\b\b\b\b\b\b\b\b\b\b\b\b\b\b\b\b\b\b\b\b\b\b\b\b\b\b\b\b\b\b\b\b\b\b\b\b\b\b\b\b\b\r",
      "19/29 [==================>...........] - ETA: 0s - loss: 0.0058"
     ]
    },
    {
     "name": "stdout",
     "output_type": "stream",
     "text": [
      "\b\b\b\b\b\b\b\b\b\b\b\b\b\b\b\b\b\b\b\b\b\b\b\b\b\b\b\b\b\b\b\b\b\b\b\b\b\b\b\b\b\b\b\b\b\b\b\b\b\b\b\b\b\b\b\b\b\b\b\b\b\b\b\r",
      "21/29 [====================>.........] - ETA: 0s - loss: 0.0058"
     ]
    },
    {
     "name": "stdout",
     "output_type": "stream",
     "text": [
      "\b\b\b\b\b\b\b\b\b\b\b\b\b\b\b\b\b\b\b\b\b\b\b\b\b\b\b\b\b\b\b\b\b\b\b\b\b\b\b\b\b\b\b\b\b\b\b\b\b\b\b\b\b\b\b\b\b\b\b\b\b\b\b\r",
      "23/29 [======================>.......] - ETA: 0s - loss: 0.0059"
     ]
    },
    {
     "name": "stdout",
     "output_type": "stream",
     "text": [
      "\b\b\b\b\b\b\b\b\b\b\b\b\b\b\b\b\b\b\b\b\b\b\b\b\b\b\b\b\b\b\b\b\b\b\b\b\b\b\b\b\b\b\b\b\b\b\b\b\b\b\b\b\b\b\b\b\b\b\b\b\b\b\b\r",
      "26/29 [=========================>....] - ETA: 0s - loss: 0.0059"
     ]
    },
    {
     "name": "stdout",
     "output_type": "stream",
     "text": [
      "\b\b\b\b\b\b\b\b\b\b\b\b\b\b\b\b\b\b\b\b\b\b\b\b\b\b\b\b\b\b\b\b\b\b\b\b\b\b\b\b\b\b\b\b\b\b\b\b\b\b\b\b\b\b\b\b\b\b\b\b\b\b\b\r",
      "29/29 [==============================] - ETA: 0s - loss: 0.0060"
     ]
    },
    {
     "name": "stdout",
     "output_type": "stream",
     "text": [
      "\b\b\b\b\b\b\b\b\b\b\b\b\b\b\b\b\b\b\b\b\b\b\b\b\b\b\b\b\b\b\b\b\b\b\b\b\b\b\b\b\b\b\b\b\b\b\b\b\b\b\b\b\b\b\b\b\b\b\b\b\b\b\b\r",
      "29/29 [==============================] - 1s 27ms/step - loss: 0.0060 - val_loss: 0.0057\n"
     ]
    },
    {
     "name": "stdout",
     "output_type": "stream",
     "text": [
      "Epoch 9/30\n"
     ]
    },
    {
     "name": "stdout",
     "output_type": "stream",
     "text": [
      "\r",
      " 1/29 [>.............................] - ETA: 0s - loss: 0.0111"
     ]
    },
    {
     "name": "stdout",
     "output_type": "stream",
     "text": [
      "\b\b\b\b\b\b\b\b\b\b\b\b\b\b\b\b\b\b\b\b\b\b\b\b\b\b\b\b\b\b\b\b\b\b\b\b\b\b\b\b\b\b\b\b\b\b\b\b\b\b\b\b\b\b\b\b\b\b\b\b\b\b\b\r",
      " 4/29 [===>..........................] - ETA: 0s - loss: 0.0052"
     ]
    },
    {
     "name": "stdout",
     "output_type": "stream",
     "text": [
      "\b\b\b\b\b\b\b\b\b\b\b\b\b\b\b\b\b\b\b\b\b\b\b\b\b\b\b\b\b\b\b\b\b\b\b\b\b\b\b\b\b\b\b\b\b\b\b\b\b\b\b\b\b\b\b\b\b\b\b\b\b\b\b\r",
      " 7/29 [======>.......................] - ETA: 0s - loss: 0.0042"
     ]
    },
    {
     "name": "stdout",
     "output_type": "stream",
     "text": [
      "\b\b\b\b\b\b\b\b\b\b\b\b\b\b\b\b\b\b\b\b\b\b\b\b\b\b\b\b\b\b\b\b\b\b\b\b\b\b\b\b\b\b\b\b\b\b\b\b\b\b\b\b\b\b\b\b\b\b\b\b\b\b\b\r",
      "10/29 [=========>....................] - ETA: 0s - loss: 0.0044"
     ]
    },
    {
     "name": "stdout",
     "output_type": "stream",
     "text": [
      "\b\b\b\b\b\b\b\b\b\b\b\b\b\b\b\b\b\b\b\b\b\b\b\b\b\b\b\b\b\b\b\b\b\b\b\b\b\b\b\b\b\b\b\b\b\b\b\b\b\b\b\b\b\b\b\b\b\b\b\b\b\b\b\r",
      "12/29 [===========>..................] - ETA: 0s - loss: 0.0052"
     ]
    },
    {
     "name": "stdout",
     "output_type": "stream",
     "text": [
      "\b\b\b\b\b\b\b\b\b\b\b\b\b\b\b\b\b\b\b\b\b\b\b\b\b\b\b\b\b\b\b\b\b\b\b\b\b\b\b\b\b\b\b\b\b\b\b\b\b\b\b\b\b\b\b\b\b\b\b\b\b\b\b\r",
      "14/29 [=============>................] - ETA: 0s - loss: 0.0058"
     ]
    },
    {
     "name": "stdout",
     "output_type": "stream",
     "text": [
      "\b\b\b\b\b\b\b\b\b\b\b\b\b\b\b\b\b\b\b\b\b\b\b\b\b\b\b\b\b\b\b\b\b\b\b\b\b\b\b\b\b\b\b\b\b\b\b\b\b\b\b\b\b\b\b\b\b\b\b\b\b\b\b\r",
      "16/29 [===============>..............] - ETA: 0s - loss: 0.0060"
     ]
    },
    {
     "name": "stdout",
     "output_type": "stream",
     "text": [
      "\b\b\b\b\b\b\b\b\b\b\b\b\b\b\b\b\b\b\b\b\b\b\b\b\b\b\b\b\b\b\b\b\b\b\b\b\b\b\b\b\b\b\b\b\b\b\b\b\b\b\b\b\b\b\b\b\b\b\b\b\b\b\b\r",
      "19/29 [==================>...........] - ETA: 0s - loss: 0.0062"
     ]
    },
    {
     "name": "stdout",
     "output_type": "stream",
     "text": [
      "\b\b\b\b\b\b\b\b\b\b\b\b\b\b\b\b\b\b\b\b\b\b\b\b\b\b\b\b\b\b\b\b\b\b\b\b\b\b\b\b\b\b\b\b\b\b\b\b\b\b\b\b\b\b\b\b\b\b\b\b\b\b\b\r",
      "22/29 [=====================>........] - ETA: 0s - loss: 0.0059"
     ]
    },
    {
     "name": "stdout",
     "output_type": "stream",
     "text": [
      "\b\b\b\b\b\b\b\b\b\b\b\b\b\b\b\b\b\b\b\b\b\b\b\b\b\b\b\b\b\b\b\b\b\b\b\b\b\b\b\b\b\b\b\b\b\b\b\b\b\b\b\b\b\b\b\b\b\b\b\b\b\b\b\r",
      "25/29 [========================>.....] - ETA: 0s - loss: 0.0061"
     ]
    },
    {
     "name": "stdout",
     "output_type": "stream",
     "text": [
      "\b\b\b\b\b\b\b\b\b\b\b\b\b\b\b\b\b\b\b\b\b\b\b\b\b\b\b\b\b\b\b\b\b\b\b\b\b\b\b\b\b\b\b\b\b\b\b\b\b\b\b\b\b\b\b\b\b\b\b\b\b\b\b\r",
      "27/29 [==========================>...] - ETA: 0s - loss: 0.0062"
     ]
    },
    {
     "name": "stdout",
     "output_type": "stream",
     "text": [
      "\b\b\b\b\b\b\b\b\b\b\b\b\b\b\b\b\b\b\b\b\b\b\b\b\b\b\b\b\b\b\b\b\b\b\b\b\b\b\b\b\b\b\b\b\b\b\b\b\b\b\b\b\b\b\b\b\b\b\b\b\b\b\b\r",
      "29/29 [==============================] - 1s 27ms/step - loss: 0.0062 - val_loss: 0.0091\n"
     ]
    },
    {
     "name": "stdout",
     "output_type": "stream",
     "text": [
      "Epoch 10/30\n"
     ]
    },
    {
     "name": "stdout",
     "output_type": "stream",
     "text": [
      "\r",
      " 1/29 [>.............................] - ETA: 0s - loss: 0.0120"
     ]
    },
    {
     "name": "stdout",
     "output_type": "stream",
     "text": [
      "\b\b\b\b\b\b\b\b\b\b\b\b\b\b\b\b\b\b\b\b\b\b\b\b\b\b\b\b\b\b\b\b\b\b\b\b\b\b\b\b\b\b\b\b\b\b\b\b\b\b\b\b\b\b\b\b\b\b\b\b\b\b\b\r",
      " 4/29 [===>..........................] - ETA: 0s - loss: 0.0077"
     ]
    },
    {
     "name": "stdout",
     "output_type": "stream",
     "text": [
      "\b\b\b\b\b\b\b\b\b\b\b\b\b\b\b\b\b\b\b\b\b\b\b\b\b\b\b\b\b\b\b\b\b\b\b\b\b\b\b\b\b\b\b\b\b\b\b\b\b\b\b\b\b\b\b\b\b\b\b\b\b\b\b\r",
      " 7/29 [======>.......................] - ETA: 0s - loss: 0.0078"
     ]
    },
    {
     "name": "stdout",
     "output_type": "stream",
     "text": [
      "\b\b\b\b\b\b\b\b\b\b\b\b\b\b\b\b\b\b\b\b\b\b\b\b\b\b\b\b\b\b\b\b\b\b\b\b\b\b\b\b\b\b\b\b\b\b\b\b\b\b\b\b\b\b\b\b\b\b\b\b\b\b\b\r",
      "10/29 [=========>....................] - ETA: 0s - loss: 0.0073"
     ]
    },
    {
     "name": "stdout",
     "output_type": "stream",
     "text": [
      "\b\b\b\b\b\b\b\b\b\b\b\b\b\b\b\b\b\b\b\b\b\b\b\b\b\b\b\b\b\b\b\b\b\b\b\b\b\b\b\b\b\b\b\b\b\b\b\b\b\b\b\b\b\b\b\b\b\b\b\b\b\b\b\r",
      "13/29 [============>.................] - ETA: 0s - loss: 0.0081"
     ]
    },
    {
     "name": "stdout",
     "output_type": "stream",
     "text": [
      "\b\b\b\b\b\b\b\b\b\b\b\b\b\b\b\b\b\b\b\b\b\b\b\b\b\b\b\b\b\b\b\b\b\b\b\b\b\b\b\b\b\b\b\b\b\b\b\b\b\b\b\b\b\b\b\b\b\b\b\b\b\b\b\r",
      "16/29 [===============>..............] - ETA: 0s - loss: 0.0078"
     ]
    },
    {
     "name": "stdout",
     "output_type": "stream",
     "text": [
      "\b\b\b\b\b\b\b\b\b\b\b\b\b\b\b\b\b\b\b\b\b\b\b\b\b\b\b\b\b\b\b\b\b\b\b\b\b\b\b\b\b\b\b\b\b\b\b\b\b\b\b\b\b\b\b\b\b\b\b\b\b\b\b\r",
      "18/29 [=================>............] - ETA: 0s - loss: 0.0083"
     ]
    },
    {
     "name": "stdout",
     "output_type": "stream",
     "text": [
      "\b\b\b\b\b\b\b\b\b\b\b\b\b\b\b\b\b\b\b\b\b\b\b\b\b\b\b\b\b\b\b\b\b\b\b\b\b\b\b\b\b\b\b\b\b\b\b\b\b\b\b\b\b\b\b\b\b\b\b\b\b\b\b\r",
      "21/29 [====================>.........] - ETA: 0s - loss: 0.0079"
     ]
    },
    {
     "name": "stdout",
     "output_type": "stream",
     "text": [
      "\b\b\b\b\b\b\b\b\b\b\b\b\b\b\b\b\b\b\b\b\b\b\b\b\b\b\b\b\b\b\b\b\b\b\b\b\b\b\b\b\b\b\b\b\b\b\b\b\b\b\b\b\b\b\b\b\b\b\b\b\b\b\b\r",
      "24/29 [=======================>......] - ETA: 0s - loss: 0.0078"
     ]
    },
    {
     "name": "stdout",
     "output_type": "stream",
     "text": [
      "\b\b\b\b\b\b\b\b\b\b\b\b\b\b\b\b\b\b\b\b\b\b\b\b\b\b\b\b\b\b\b\b\b\b\b\b\b\b\b\b\b\b\b\b\b\b\b\b\b\b\b\b\b\b\b\b\b\b\b\b\b\b\b\r",
      "27/29 [==========================>...] - ETA: 0s - loss: 0.0078"
     ]
    },
    {
     "name": "stdout",
     "output_type": "stream",
     "text": [
      "\b\b\b\b\b\b\b\b\b\b\b\b\b\b\b\b\b\b\b\b\b\b\b\b\b\b\b\b\b\b\b\b\b\b\b\b\b\b\b\b\b\b\b\b\b\b\b\b\b\b\b\b\b\b\b\b\b\b\b\b\b\b\b\r",
      "29/29 [==============================] - 1s 26ms/step - loss: 0.0078 - val_loss: 0.0059\n"
     ]
    },
    {
     "name": "stdout",
     "output_type": "stream",
     "text": [
      "Epoch 11/30\n"
     ]
    },
    {
     "name": "stdout",
     "output_type": "stream",
     "text": [
      "\r",
      " 1/29 [>.............................] - ETA: 0s - loss: 0.0034"
     ]
    },
    {
     "name": "stdout",
     "output_type": "stream",
     "text": [
      "\b\b\b\b\b\b\b\b\b\b\b\b\b\b\b\b\b\b\b\b\b\b\b\b\b\b\b\b\b\b\b\b\b\b\b\b\b\b\b\b\b\b\b\b\b\b\b\b\b\b\b\b\b\b\b\b\b\b\b\b\b\b\b\r",
      " 4/29 [===>..........................] - ETA: 0s - loss: 0.0032"
     ]
    },
    {
     "name": "stdout",
     "output_type": "stream",
     "text": [
      "\b\b\b\b\b\b\b\b\b\b\b\b\b\b\b\b\b\b\b\b\b\b\b\b\b\b\b\b\b\b\b\b\b\b\b\b\b\b\b\b\b\b\b\b\b\b\b\b\b\b\b\b\b\b\b\b\b\b\b\b\b\b\b\r",
      " 6/29 [=====>........................] - ETA: 0s - loss: 0.0038"
     ]
    },
    {
     "name": "stdout",
     "output_type": "stream",
     "text": [
      "\b\b\b\b\b\b\b\b\b\b\b\b\b\b\b\b\b\b\b\b\b\b\b\b\b\b\b\b\b\b\b\b\b\b\b\b\b\b\b\b\b\b\b\b\b\b\b\b\b\b\b\b\b\b\b\b\b\b\b\b\b\b\b\r",
      " 9/29 [========>.....................] - ETA: 0s - loss: 0.0034"
     ]
    },
    {
     "name": "stdout",
     "output_type": "stream",
     "text": [
      "\b\b\b\b\b\b\b\b\b\b\b\b\b\b\b\b\b\b\b\b\b\b\b\b\b\b\b\b\b\b\b\b\b\b\b\b\b\b\b\b\b\b\b\b\b\b\b\b\b\b\b\b\b\b\b\b\b\b\b\b\b\b\b\r",
      "12/29 [===========>..................] - ETA: 0s - loss: 0.0040"
     ]
    },
    {
     "name": "stdout",
     "output_type": "stream",
     "text": [
      "\b\b\b\b\b\b\b\b\b\b\b\b\b\b\b\b\b\b\b\b\b\b\b\b\b\b\b\b\b\b\b\b\b\b\b\b\b\b\b\b\b\b\b\b\b\b\b\b\b\b\b\b\b\b\b\b\b\b\b\b\b\b\b\r",
      "14/29 [=============>................] - ETA: 0s - loss: 0.0046"
     ]
    },
    {
     "name": "stdout",
     "output_type": "stream",
     "text": [
      "\b\b\b\b\b\b\b\b\b\b\b\b\b\b\b\b\b\b\b\b\b\b\b\b\b\b\b\b\b\b\b\b\b\b\b\b\b\b\b\b\b\b\b\b\b\b\b\b\b\b\b\b\b\b\b\b\b\b\b\b\b\b\b\r",
      "17/29 [================>.............] - ETA: 0s - loss: 0.0046"
     ]
    },
    {
     "name": "stdout",
     "output_type": "stream",
     "text": [
      "\b\b\b\b\b\b\b\b\b\b\b\b\b\b\b\b\b\b\b\b\b\b\b\b\b\b\b\b\b\b\b\b\b\b\b\b\b\b\b\b\b\b\b\b\b\b\b\b\b\b\b\b\b\b\b\b\b\b\b\b\b\b\b\r",
      "20/29 [===================>..........] - ETA: 0s - loss: 0.0050"
     ]
    },
    {
     "name": "stdout",
     "output_type": "stream",
     "text": [
      "\b\b\b\b\b\b\b\b\b\b\b\b\b\b\b\b\b\b\b\b\b\b\b\b\b\b\b\b\b\b\b\b\b\b\b\b\b\b\b\b\b\b\b\b\b\b\b\b\b\b\b\b\b\b\b\b\b\b\b\b\b\b\b\r",
      "22/29 [=====================>........] - ETA: 0s - loss: 0.0048"
     ]
    },
    {
     "name": "stdout",
     "output_type": "stream",
     "text": [
      "\b\b\b\b\b\b\b\b\b\b\b\b\b\b\b\b\b\b\b\b\b\b\b\b\b\b\b\b\b\b\b\b\b\b\b\b\b\b\b\b\b\b\b\b\b\b\b\b\b\b\b\b\b\b\b\b\b\b\b\b\b\b\b\r",
      "25/29 [========================>.....] - ETA: 0s - loss: 0.0049"
     ]
    },
    {
     "name": "stdout",
     "output_type": "stream",
     "text": [
      "\b\b\b\b\b\b\b\b\b\b\b\b\b\b\b\b\b\b\b\b\b\b\b\b\b\b\b\b\b\b\b\b\b\b\b\b\b\b\b\b\b\b\b\b\b\b\b\b\b\b\b\b\b\b\b\b\b\b\b\b\b\b\b\r",
      "27/29 [==========================>...] - ETA: 0s - loss: 0.0051"
     ]
    },
    {
     "name": "stdout",
     "output_type": "stream",
     "text": [
      "\b\b\b\b\b\b\b\b\b\b\b\b\b\b\b\b\b\b\b\b\b\b\b\b\b\b\b\b\b\b\b\b\b\b\b\b\b\b\b\b\b\b\b\b\b\b\b\b\b\b\b\b\b\b\b\b\b\b\b\b\b\b\b\r",
      "29/29 [==============================] - 1s 27ms/step - loss: 0.0052 - val_loss: 0.0059\n"
     ]
    },
    {
     "name": "stdout",
     "output_type": "stream",
     "text": [
      "Epoch 12/30\n"
     ]
    },
    {
     "name": "stdout",
     "output_type": "stream",
     "text": [
      "\r",
      " 1/29 [>.............................] - ETA: 0s - loss: 0.0049"
     ]
    },
    {
     "name": "stdout",
     "output_type": "stream",
     "text": [
      "\b\b\b\b\b\b\b\b\b\b\b\b\b\b\b\b\b\b\b\b\b\b\b\b\b\b\b\b\b\b\b\b\b\b\b\b\b\b\b\b\b\b\b\b\b\b\b\b\b\b\b\b\b\b\b\b\b\b\b\b\b\b\b\r",
      " 3/29 [==>...........................] - ETA: 0s - loss: 0.0028"
     ]
    },
    {
     "name": "stdout",
     "output_type": "stream",
     "text": [
      "\b\b\b\b\b\b\b\b\b\b\b\b\b\b\b\b\b\b\b\b\b\b\b\b\b\b\b\b\b\b\b\b\b\b\b\b\b\b\b\b\b\b\b\b\b\b\b\b\b\b\b\b\b\b\b\b\b\b\b\b\b\b\b\r",
      " 6/29 [=====>........................] - ETA: 0s - loss: 0.0056"
     ]
    },
    {
     "name": "stdout",
     "output_type": "stream",
     "text": [
      "\b\b\b\b\b\b\b\b\b\b\b\b\b\b\b\b\b\b\b\b\b\b\b\b\b\b\b\b\b\b\b\b\b\b\b\b\b\b\b\b\b\b\b\b\b\b\b\b\b\b\b\b\b\b\b\b\b\b\b\b\b\b\b\r",
      " 9/29 [========>.....................] - ETA: 0s - loss: 0.0046"
     ]
    },
    {
     "name": "stdout",
     "output_type": "stream",
     "text": [
      "\b\b\b\b\b\b\b\b\b\b\b\b\b\b\b\b\b\b\b\b\b\b\b\b\b\b\b\b\b\b\b\b\b\b\b\b\b\b\b\b\b\b\b\b\b\b\b\b\b\b\b\b\b\b\b\b\b\b\b\b\b\b\b\r",
      "12/29 [===========>..................] - ETA: 0s - loss: 0.0048"
     ]
    },
    {
     "name": "stdout",
     "output_type": "stream",
     "text": [
      "\b\b\b\b\b\b\b\b\b\b\b\b\b\b\b\b\b\b\b\b\b\b\b\b\b\b\b\b\b\b\b\b\b\b\b\b\b\b\b\b\b\b\b\b\b\b\b\b\b\b\b\b\b\b\b\b\b\b\b\b\b\b\b\r",
      "15/29 [==============>...............] - ETA: 0s - loss: 0.0051"
     ]
    },
    {
     "name": "stdout",
     "output_type": "stream",
     "text": [
      "\b\b\b\b\b\b\b\b\b\b\b\b\b\b\b\b\b\b\b\b\b\b\b\b\b\b\b\b\b\b\b\b\b\b\b\b\b\b\b\b\b\b\b\b\b\b\b\b\b\b\b\b\b\b\b\b\b\b\b\b\b\b\b\r",
      "18/29 [=================>............] - ETA: 0s - loss: 0.0053"
     ]
    },
    {
     "name": "stdout",
     "output_type": "stream",
     "text": [
      "\b\b\b\b\b\b\b\b\b\b\b\b\b\b\b\b\b\b\b\b\b\b\b\b\b\b\b\b\b\b\b\b\b\b\b\b\b\b\b\b\b\b\b\b\b\b\b\b\b\b\b\b\b\b\b\b\b\b\b\b\b\b\b\r",
      "21/29 [====================>.........] - ETA: 0s - loss: 0.0051"
     ]
    },
    {
     "name": "stdout",
     "output_type": "stream",
     "text": [
      "\b\b\b\b\b\b\b\b\b\b\b\b\b\b\b\b\b\b\b\b\b\b\b\b\b\b\b\b\b\b\b\b\b\b\b\b\b\b\b\b\b\b\b\b\b\b\b\b\b\b\b\b\b\b\b\b\b\b\b\b\b\b\b\r",
      "24/29 [=======================>......] - ETA: 0s - loss: 0.0049"
     ]
    },
    {
     "name": "stdout",
     "output_type": "stream",
     "text": [
      "\b\b\b\b\b\b\b\b\b\b\b\b\b\b\b\b\b\b\b\b\b\b\b\b\b\b\b\b\b\b\b\b\b\b\b\b\b\b\b\b\b\b\b\b\b\b\b\b\b\b\b\b\b\b\b\b\b\b\b\b\b\b\b\r",
      "27/29 [==========================>...] - ETA: 0s - loss: 0.0052"
     ]
    },
    {
     "name": "stdout",
     "output_type": "stream",
     "text": [
      "\b\b\b\b\b\b\b\b\b\b\b\b\b\b\b\b\b\b\b\b\b\b\b\b\b\b\b\b\b\b\b\b\b\b\b\b\b\b\b\b\b\b\b\b\b\b\b\b\b\b\b\b\b\b\b\b\b\b\b\b\b\b\b\r",
      "29/29 [==============================] - 1s 26ms/step - loss: 0.0052 - val_loss: 0.0061\n"
     ]
    },
    {
     "name": "stdout",
     "output_type": "stream",
     "text": [
      "Epoch 13/30\n"
     ]
    },
    {
     "name": "stdout",
     "output_type": "stream",
     "text": [
      "\r",
      " 1/29 [>.............................] - ETA: 0s - loss: 0.0020"
     ]
    },
    {
     "name": "stdout",
     "output_type": "stream",
     "text": [
      "\b\b\b\b\b\b\b\b\b\b\b\b\b\b\b\b\b\b\b\b\b\b\b\b\b\b\b\b\b\b\b\b\b\b\b\b\b\b\b\b\b\b\b\b\b\b\b\b\b\b\b\b\b\b\b\b\b\b\b\b\b\b\b\r",
      " 4/29 [===>..........................] - ETA: 0s - loss: 0.0042"
     ]
    },
    {
     "name": "stdout",
     "output_type": "stream",
     "text": [
      "\b\b\b\b\b\b\b\b\b\b\b\b\b\b\b\b\b\b\b\b\b\b\b\b\b\b\b\b\b\b\b\b\b\b\b\b\b\b\b\b\b\b\b\b\b\b\b\b\b\b\b\b\b\b\b\b\b\b\b\b\b\b\b\r",
      " 6/29 [=====>........................] - ETA: 0s - loss: 0.0056"
     ]
    },
    {
     "name": "stdout",
     "output_type": "stream",
     "text": [
      "\b\b\b\b\b\b\b\b\b\b\b\b\b\b\b\b\b\b\b\b\b\b\b\b\b\b\b\b\b\b\b\b\b\b\b\b\b\b\b\b\b\b\b\b\b\b\b\b\b\b\b\b\b\b\b\b\b\b\b\b\b\b\b\r",
      " 9/29 [========>.....................] - ETA: 0s - loss: 0.0048"
     ]
    },
    {
     "name": "stdout",
     "output_type": "stream",
     "text": [
      "\b\b\b\b\b\b\b\b\b\b\b\b\b\b\b\b\b\b\b\b\b\b\b\b\b\b\b\b\b\b\b\b\b\b\b\b\b\b\b\b\b\b\b\b\b\b\b\b\b\b\b\b\b\b\b\b\b\b\b\b\b\b\b\r",
      "12/29 [===========>..................] - ETA: 0s - loss: 0.0045"
     ]
    },
    {
     "name": "stdout",
     "output_type": "stream",
     "text": [
      "\b\b\b\b\b\b\b\b\b\b\b\b\b\b\b\b\b\b\b\b\b\b\b\b\b\b\b\b\b\b\b\b\b\b\b\b\b\b\b\b\b\b\b\b\b\b\b\b\b\b\b\b\b\b\b\b\b\b\b\b\b\b\b\r",
      "15/29 [==============>...............] - ETA: 0s - loss: 0.0049"
     ]
    },
    {
     "name": "stdout",
     "output_type": "stream",
     "text": [
      "\b\b\b\b\b\b\b\b\b\b\b\b\b\b\b\b\b\b\b\b\b\b\b\b\b\b\b\b\b\b\b\b\b\b\b\b\b\b\b\b\b\b\b\b\b\b\b\b\b\b\b\b\b\b\b\b\b\b\b\b\b\b\b\r",
      "18/29 [=================>............] - ETA: 0s - loss: 0.0049"
     ]
    },
    {
     "name": "stdout",
     "output_type": "stream",
     "text": [
      "\b\b\b\b\b\b\b\b\b\b\b\b\b\b\b\b\b\b\b\b\b\b\b\b\b\b\b\b\b\b\b\b\b\b\b\b\b\b\b\b\b\b\b\b\b\b\b\b\b\b\b\b\b\b\b\b\b\b\b\b\b\b\b\r",
      "20/29 [===================>..........] - ETA: 0s - loss: 0.0049"
     ]
    },
    {
     "name": "stdout",
     "output_type": "stream",
     "text": [
      "\b\b\b\b\b\b\b\b\b\b\b\b\b\b\b\b\b\b\b\b\b\b\b\b\b\b\b\b\b\b\b\b\b\b\b\b\b\b\b\b\b\b\b\b\b\b\b\b\b\b\b\b\b\b\b\b\b\b\b\b\b\b\b\r",
      "23/29 [======================>.......] - ETA: 0s - loss: 0.0047"
     ]
    },
    {
     "name": "stdout",
     "output_type": "stream",
     "text": [
      "\b\b\b\b\b\b\b\b\b\b\b\b\b\b\b\b\b\b\b\b\b\b\b\b\b\b\b\b\b\b\b\b\b\b\b\b\b\b\b\b\b\b\b\b\b\b\b\b\b\b\b\b\b\b\b\b\b\b\b\b\b\b\b\r",
      "25/29 [========================>.....] - ETA: 0s - loss: 0.0047"
     ]
    },
    {
     "name": "stdout",
     "output_type": "stream",
     "text": [
      "\b\b\b\b\b\b\b\b\b\b\b\b\b\b\b\b\b\b\b\b\b\b\b\b\b\b\b\b\b\b\b\b\b\b\b\b\b\b\b\b\b\b\b\b\b\b\b\b\b\b\b\b\b\b\b\b\b\b\b\b\b\b\b\r",
      "28/29 [===========================>..] - ETA: 0s - loss: 0.0048"
     ]
    },
    {
     "name": "stdout",
     "output_type": "stream",
     "text": [
      "\b\b\b\b\b\b\b\b\b\b\b\b\b\b\b\b\b\b\b\b\b\b\b\b\b\b\b\b\b\b\b\b\b\b\b\b\b\b\b\b\b\b\b\b\b\b\b\b\b\b\b\b\b\b\b\b\b\b\b\b\b\b\b\r",
      "29/29 [==============================] - 1s 26ms/step - loss: 0.0048 - val_loss: 0.0039\n"
     ]
    },
    {
     "name": "stdout",
     "output_type": "stream",
     "text": [
      "Epoch 14/30\n"
     ]
    },
    {
     "name": "stdout",
     "output_type": "stream",
     "text": [
      "\r",
      " 1/29 [>.............................] - ETA: 0s - loss: 0.0017"
     ]
    },
    {
     "name": "stdout",
     "output_type": "stream",
     "text": [
      "\b\b\b\b\b\b\b\b\b\b\b\b\b\b\b\b\b\b\b\b\b\b\b\b\b\b\b\b\b\b\b\b\b\b\b\b\b\b\b\b\b\b\b\b\b\b\b\b\b\b\b\b\b\b\b\b\b\b\b\b\b\b\b\r",
      " 4/29 [===>..........................] - ETA: 0s - loss: 0.0042"
     ]
    },
    {
     "name": "stdout",
     "output_type": "stream",
     "text": [
      "\b\b\b\b\b\b\b\b\b\b\b\b\b\b\b\b\b\b\b\b\b\b\b\b\b\b\b\b\b\b\b\b\b\b\b\b\b\b\b\b\b\b\b\b\b\b\b\b\b\b\b\b\b\b\b\b\b\b\b\b\b\b\b\r",
      " 6/29 [=====>........................] - ETA: 0s - loss: 0.0044"
     ]
    },
    {
     "name": "stdout",
     "output_type": "stream",
     "text": [
      "\b\b\b\b\b\b\b\b\b\b\b\b\b\b\b\b\b\b\b\b\b\b\b\b\b\b\b\b\b\b\b\b\b\b\b\b\b\b\b\b\b\b\b\b\b\b\b\b\b\b\b\b\b\b\b\b\b\b\b\b\b\b\b\r",
      " 8/29 [=======>......................] - ETA: 0s - loss: 0.0036"
     ]
    },
    {
     "name": "stdout",
     "output_type": "stream",
     "text": [
      "\b\b\b\b\b\b\b\b\b\b\b\b\b\b\b\b\b\b\b\b\b\b\b\b\b\b\b\b\b\b\b\b\b\b\b\b\b\b\b\b\b\b\b\b\b\b\b\b\b\b\b\b\b\b\b\b\b\b\b\b\b\b\b\r",
      "11/29 [==========>...................] - ETA: 0s - loss: 0.0033"
     ]
    },
    {
     "name": "stdout",
     "output_type": "stream",
     "text": [
      "\b\b\b\b\b\b\b\b\b\b\b\b\b\b\b\b\b\b\b\b\b\b\b\b\b\b\b\b\b\b\b\b\b\b\b\b\b\b\b\b\b\b\b\b\b\b\b\b\b\b\b\b\b\b\b\b\b\b\b\b\b\b\b\r",
      "13/29 [============>.................] - ETA: 0s - loss: 0.0036"
     ]
    },
    {
     "name": "stdout",
     "output_type": "stream",
     "text": [
      "\b\b\b\b\b\b\b\b\b\b\b\b\b\b\b\b\b\b\b\b\b\b\b\b\b\b\b\b\b\b\b\b\b\b\b\b\b\b\b\b\b\b\b\b\b\b\b\b\b\b\b\b\b\b\b\b\b\b\b\b\b\b\b\r",
      "16/29 [===============>..............] - ETA: 0s - loss: 0.0039"
     ]
    },
    {
     "name": "stdout",
     "output_type": "stream",
     "text": [
      "\b\b\b\b\b\b\b\b\b\b\b\b\b\b\b\b\b\b\b\b\b\b\b\b\b\b\b\b\b\b\b\b\b\b\b\b\b\b\b\b\b\b\b\b\b\b\b\b\b\b\b\b\b\b\b\b\b\b\b\b\b\b\b\r",
      "19/29 [==================>...........] - ETA: 0s - loss: 0.0039"
     ]
    },
    {
     "name": "stdout",
     "output_type": "stream",
     "text": [
      "\b\b\b\b\b\b\b\b\b\b\b\b\b\b\b\b\b\b\b\b\b\b\b\b\b\b\b\b\b\b\b\b\b\b\b\b\b\b\b\b\b\b\b\b\b\b\b\b\b\b\b\b\b\b\b\b\b\b\b\b\b\b\b\r",
      "22/29 [=====================>........] - ETA: 0s - loss: 0.0039"
     ]
    },
    {
     "name": "stdout",
     "output_type": "stream",
     "text": [
      "\b\b\b\b\b\b\b\b\b\b\b\b\b\b\b\b\b\b\b\b\b\b\b\b\b\b\b\b\b\b\b\b\b\b\b\b\b\b\b\b\b\b\b\b\b\b\b\b\b\b\b\b\b\b\b\b\b\b\b\b\b\b\b\r",
      "25/29 [========================>.....] - ETA: 0s - loss: 0.0038"
     ]
    },
    {
     "name": "stdout",
     "output_type": "stream",
     "text": [
      "\b\b\b\b\b\b\b\b\b\b\b\b\b\b\b\b\b\b\b\b\b\b\b\b\b\b\b\b\b\b\b\b\b\b\b\b\b\b\b\b\b\b\b\b\b\b\b\b\b\b\b\b\b\b\b\b\b\b\b\b\b\b\b\r",
      "28/29 [===========================>..] - ETA: 0s - loss: 0.0039"
     ]
    },
    {
     "name": "stdout",
     "output_type": "stream",
     "text": [
      "\b\b\b\b\b\b\b\b\b\b\b\b\b\b\b\b\b\b\b\b\b\b\b\b\b\b\b\b\b\b\b\b\b\b\b\b\b\b\b\b\b\b\b\b\b\b\b\b\b\b\b\b\b\b\b\b\b\b\b\b\b\b\b\r",
      "29/29 [==============================] - 1s 26ms/step - loss: 0.0040 - val_loss: 0.0040\n"
     ]
    },
    {
     "name": "stdout",
     "output_type": "stream",
     "text": [
      "Epoch 15/30\n"
     ]
    },
    {
     "name": "stdout",
     "output_type": "stream",
     "text": [
      "\r",
      " 1/29 [>.............................] - ETA: 0s - loss: 0.0038"
     ]
    },
    {
     "name": "stdout",
     "output_type": "stream",
     "text": [
      "\b\b\b\b\b\b\b\b\b\b\b\b\b\b\b\b\b\b\b\b\b\b\b\b\b\b\b\b\b\b\b\b\b\b\b\b\b\b\b\b\b\b\b\b\b\b\b\b\b\b\b\b\b\b\b\b\b\b\b\b\b\b\b\r",
      " 4/29 [===>..........................] - ETA: 0s - loss: 0.0029"
     ]
    },
    {
     "name": "stdout",
     "output_type": "stream",
     "text": [
      "\b\b\b\b\b\b\b\b\b\b\b\b\b\b\b\b\b\b\b\b\b\b\b\b\b\b\b\b\b\b\b\b\b\b\b\b\b\b\b\b\b\b\b\b\b\b\b\b\b\b\b\b\b\b\b\b\b\b\b\b\b\b\b\r",
      " 7/29 [======>.......................] - ETA: 0s - loss: 0.0033"
     ]
    },
    {
     "name": "stdout",
     "output_type": "stream",
     "text": [
      "\b\b\b\b\b\b\b\b\b\b\b\b\b\b\b\b\b\b\b\b\b\b\b\b\b\b\b\b\b\b\b\b\b\b\b\b\b\b\b\b\b\b\b\b\b\b\b\b\b\b\b\b\b\b\b\b\b\b\b\b\b\b\b\r",
      "10/29 [=========>....................] - ETA: 0s - loss: 0.0030"
     ]
    },
    {
     "name": "stdout",
     "output_type": "stream",
     "text": [
      "\b\b\b\b\b\b\b\b\b\b\b\b\b\b\b\b\b\b\b\b\b\b\b\b\b\b\b\b\b\b\b\b\b\b\b\b\b\b\b\b\b\b\b\b\b\b\b\b\b\b\b\b\b\b\b\b\b\b\b\b\b\b\b\r",
      "13/29 [============>.................] - ETA: 0s - loss: 0.0036"
     ]
    },
    {
     "name": "stdout",
     "output_type": "stream",
     "text": [
      "\b\b\b\b\b\b\b\b\b\b\b\b\b\b\b\b\b\b\b\b\b\b\b\b\b\b\b\b\b\b\b\b\b\b\b\b\b\b\b\b\b\b\b\b\b\b\b\b\b\b\b\b\b\b\b\b\b\b\b\b\b\b\b\r",
      "16/29 [===============>..............] - ETA: 0s - loss: 0.0039"
     ]
    },
    {
     "name": "stdout",
     "output_type": "stream",
     "text": [
      "\b\b\b\b\b\b\b\b\b\b\b\b\b\b\b\b\b\b\b\b\b\b\b\b\b\b\b\b\b\b\b\b\b\b\b\b\b\b\b\b\b\b\b\b\b\b\b\b\b\b\b\b\b\b\b\b\b\b\b\b\b\b\b\r",
      "19/29 [==================>...........] - ETA: 0s - loss: 0.0042"
     ]
    },
    {
     "name": "stdout",
     "output_type": "stream",
     "text": [
      "\b\b\b\b\b\b\b\b\b\b\b\b\b\b\b\b\b\b\b\b\b\b\b\b\b\b\b\b\b\b\b\b\b\b\b\b\b\b\b\b\b\b\b\b\b\b\b\b\b\b\b\b\b\b\b\b\b\b\b\b\b\b\b\r",
      "22/29 [=====================>........] - ETA: 0s - loss: 0.0041"
     ]
    },
    {
     "name": "stdout",
     "output_type": "stream",
     "text": [
      "\b\b\b\b\b\b\b\b\b\b\b\b\b\b\b\b\b\b\b\b\b\b\b\b\b\b\b\b\b\b\b\b\b\b\b\b\b\b\b\b\b\b\b\b\b\b\b\b\b\b\b\b\b\b\b\b\b\b\b\b\b\b\b\r",
      "24/29 [=======================>......] - ETA: 0s - loss: 0.0041"
     ]
    },
    {
     "name": "stdout",
     "output_type": "stream",
     "text": [
      "\b\b\b\b\b\b\b\b\b\b\b\b\b\b\b\b\b\b\b\b\b\b\b\b\b\b\b\b\b\b\b\b\b\b\b\b\b\b\b\b\b\b\b\b\b\b\b\b\b\b\b\b\b\b\b\b\b\b\b\b\b\b\b\r",
      "26/29 [=========================>....] - ETA: 0s - loss: 0.0042"
     ]
    },
    {
     "name": "stdout",
     "output_type": "stream",
     "text": [
      "\b\b\b\b\b\b\b\b\b\b\b\b\b\b\b\b\b\b\b\b\b\b\b\b\b\b\b\b\b\b\b\b\b\b\b\b\b\b\b\b\b\b\b\b\b\b\b\b\b\b\b\b\b\b\b\b\b\b\b\b\b\b\b\r",
      "29/29 [==============================] - ETA: 0s - loss: 0.0043"
     ]
    },
    {
     "name": "stdout",
     "output_type": "stream",
     "text": [
      "\b\b\b\b\b\b\b\b\b\b\b\b\b\b\b\b\b\b\b\b\b\b\b\b\b\b\b\b\b\b\b\b\b\b\b\b\b\b\b\b\b\b\b\b\b\b\b\b\b\b\b\b\b\b\b\b\b\b\b\b\b\b\b\r",
      "29/29 [==============================] - 1s 26ms/step - loss: 0.0043 - val_loss: 0.0047\n"
     ]
    },
    {
     "name": "stdout",
     "output_type": "stream",
     "text": [
      "Epoch 16/30\n"
     ]
    },
    {
     "name": "stdout",
     "output_type": "stream",
     "text": [
      "\r",
      " 1/29 [>.............................] - ETA: 0s - loss: 0.0025"
     ]
    },
    {
     "name": "stdout",
     "output_type": "stream",
     "text": [
      "\b\b\b\b\b\b\b\b\b\b\b\b\b\b\b\b\b\b\b\b\b\b\b\b\b\b\b\b\b\b\b\b\b\b\b\b\b\b\b\b\b\b\b\b\b\b\b\b\b\b\b\b\b\b\b\b\b\b\b\b\b\b\b\r",
      " 3/29 [==>...........................] - ETA: 0s - loss: 0.0022"
     ]
    },
    {
     "name": "stdout",
     "output_type": "stream",
     "text": [
      "\b\b\b\b\b\b\b\b\b\b\b\b\b\b\b\b\b\b\b\b\b\b\b\b\b\b\b\b\b\b\b\b\b\b\b\b\b\b\b\b\b\b\b\b\b\b\b\b\b\b\b\b\b\b\b\b\b\b\b\b\b\b\b\r",
      " 5/29 [====>.........................] - ETA: 0s - loss: 0.0033"
     ]
    },
    {
     "name": "stdout",
     "output_type": "stream",
     "text": [
      "\b\b\b\b\b\b\b\b\b\b\b\b\b\b\b\b\b\b\b\b\b\b\b\b\b\b\b\b\b\b\b\b\b\b\b\b\b\b\b\b\b\b\b\b\b\b\b\b\b\b\b\b\b\b\b\b\b\b\b\b\b\b\b\r",
      " 8/29 [=======>......................] - ETA: 0s - loss: 0.0027"
     ]
    },
    {
     "name": "stdout",
     "output_type": "stream",
     "text": [
      "\b\b\b\b\b\b\b\b\b\b\b\b\b\b\b\b\b\b\b\b\b\b\b\b\b\b\b\b\b\b\b\b\b\b\b\b\b\b\b\b\b\b\b\b\b\b\b\b\b\b\b\b\b\b\b\b\b\b\b\b\b\b\b\r",
      "11/29 [==========>...................] - ETA: 0s - loss: 0.0027"
     ]
    },
    {
     "name": "stdout",
     "output_type": "stream",
     "text": [
      "\b\b\b\b\b\b\b\b\b\b\b\b\b\b\b\b\b\b\b\b\b\b\b\b\b\b\b\b\b\b\b\b\b\b\b\b\b\b\b\b\b\b\b\b\b\b\b\b\b\b\b\b\b\b\b\b\b\b\b\b\b\b\b\r",
      "14/29 [=============>................] - ETA: 0s - loss: 0.0034"
     ]
    },
    {
     "name": "stdout",
     "output_type": "stream",
     "text": [
      "\b\b\b\b\b\b\b\b\b\b\b\b\b\b\b\b\b\b\b\b\b\b\b\b\b\b\b\b\b\b\b\b\b\b\b\b\b\b\b\b\b\b\b\b\b\b\b\b\b\b\b\b\b\b\b\b\b\b\b\b\b\b\b\r",
      "16/29 [===============>..............] - ETA: 0s - loss: 0.0036"
     ]
    },
    {
     "name": "stdout",
     "output_type": "stream",
     "text": [
      "\b\b\b\b\b\b\b\b\b\b\b\b\b\b\b\b\b\b\b\b\b\b\b\b\b\b\b\b\b\b\b\b\b\b\b\b\b\b\b\b\b\b\b\b\b\b\b\b\b\b\b\b\b\b\b\b\b\b\b\b\b\b\b\r",
      "19/29 [==================>...........] - ETA: 0s - loss: 0.0038"
     ]
    },
    {
     "name": "stdout",
     "output_type": "stream",
     "text": [
      "\b\b\b\b\b\b\b\b\b\b\b\b\b\b\b\b\b\b\b\b\b\b\b\b\b\b\b\b\b\b\b\b\b\b\b\b\b\b\b\b\b\b\b\b\b\b\b\b\b\b\b\b\b\b\b\b\b\b\b\b\b\b\b\r",
      "21/29 [====================>.........] - ETA: 0s - loss: 0.0038"
     ]
    },
    {
     "name": "stdout",
     "output_type": "stream",
     "text": [
      "\b\b\b\b\b\b\b\b\b\b\b\b\b\b\b\b\b\b\b\b\b\b\b\b\b\b\b\b\b\b\b\b\b\b\b\b\b\b\b\b\b\b\b\b\b\b\b\b\b\b\b\b\b\b\b\b\b\b\b\b\b\b\b\r",
      "24/29 [=======================>......] - ETA: 0s - loss: 0.0037"
     ]
    },
    {
     "name": "stdout",
     "output_type": "stream",
     "text": [
      "\b\b\b\b\b\b\b\b\b\b\b\b\b\b\b\b\b\b\b\b\b\b\b\b\b\b\b\b\b\b\b\b\b\b\b\b\b\b\b\b\b\b\b\b\b\b\b\b\b\b\b\b\b\b\b\b\b\b\b\b\b\b\b\r",
      "27/29 [==========================>...] - ETA: 0s - loss: 0.0039"
     ]
    },
    {
     "name": "stdout",
     "output_type": "stream",
     "text": [
      "\b\b\b\b\b\b\b\b\b\b\b\b\b\b\b\b\b\b\b\b\b\b\b\b\b\b\b\b\b\b\b\b\b\b\b\b\b\b\b\b\b\b\b\b\b\b\b\b\b\b\b\b\b\b\b\b\b\b\b\b\b\b\b\r",
      "29/29 [==============================] - 1s 26ms/step - loss: 0.0040 - val_loss: 0.0051\n"
     ]
    },
    {
     "name": "stdout",
     "output_type": "stream",
     "text": [
      "Epoch 17/30\n"
     ]
    },
    {
     "name": "stdout",
     "output_type": "stream",
     "text": [
      "\r",
      " 1/29 [>.............................] - ETA: 0s - loss: 0.0037"
     ]
    },
    {
     "name": "stdout",
     "output_type": "stream",
     "text": [
      "\b\b\b\b\b\b\b\b\b\b\b\b\b\b\b\b\b\b\b\b\b\b\b\b\b\b\b\b\b\b\b\b\b\b\b\b\b\b\b\b\b\b\b\b\b\b\b\b\b\b\b\b\b\b\b\b\b\b\b\b\b\b\b\r",
      " 4/29 [===>..........................] - ETA: 0s - loss: 0.0032"
     ]
    },
    {
     "name": "stdout",
     "output_type": "stream",
     "text": [
      "\b\b\b\b\b\b\b\b\b\b\b\b\b\b\b\b\b\b\b\b\b\b\b\b\b\b\b\b\b\b\b\b\b\b\b\b\b\b\b\b\b\b\b\b\b\b\b\b\b\b\b\b\b\b\b\b\b\b\b\b\b\b\b\r",
      " 7/29 [======>.......................] - ETA: 0s - loss: 0.0036"
     ]
    },
    {
     "name": "stdout",
     "output_type": "stream",
     "text": [
      "\b\b\b\b\b\b\b\b\b\b\b\b\b\b\b\b\b\b\b\b\b\b\b\b\b\b\b\b\b\b\b\b\b\b\b\b\b\b\b\b\b\b\b\b\b\b\b\b\b\b\b\b\b\b\b\b\b\b\b\b\b\b\b\r",
      "10/29 [=========>....................] - ETA: 0s - loss: 0.0036"
     ]
    },
    {
     "name": "stdout",
     "output_type": "stream",
     "text": [
      "\b\b\b\b\b\b\b\b\b\b\b\b\b\b\b\b\b\b\b\b\b\b\b\b\b\b\b\b\b\b\b\b\b\b\b\b\b\b\b\b\b\b\b\b\b\b\b\b\b\b\b\b\b\b\b\b\b\b\b\b\b\b\b\r",
      "13/29 [============>.................] - ETA: 0s - loss: 0.0041"
     ]
    },
    {
     "name": "stdout",
     "output_type": "stream",
     "text": [
      "\b\b\b\b\b\b\b\b\b\b\b\b\b\b\b\b\b\b\b\b\b\b\b\b\b\b\b\b\b\b\b\b\b\b\b\b\b\b\b\b\b\b\b\b\b\b\b\b\b\b\b\b\b\b\b\b\b\b\b\b\b\b\b\r",
      "16/29 [===============>..............] - ETA: 0s - loss: 0.0045"
     ]
    },
    {
     "name": "stdout",
     "output_type": "stream",
     "text": [
      "\b\b\b\b\b\b\b\b\b\b\b\b\b\b\b\b\b\b\b\b\b\b\b\b\b\b\b\b\b\b\b\b\b\b\b\b\b\b\b\b\b\b\b\b\b\b\b\b\b\b\b\b\b\b\b\b\b\b\b\b\b\b\b\r",
      "19/29 [==================>...........] - ETA: 0s - loss: 0.0044"
     ]
    },
    {
     "name": "stdout",
     "output_type": "stream",
     "text": [
      "\b\b\b\b\b\b\b\b\b\b\b\b\b\b\b\b\b\b\b\b\b\b\b\b\b\b\b\b\b\b\b\b\b\b\b\b\b\b\b\b\b\b\b\b\b\b\b\b\b\b\b\b\b\b\b\b\b\b\b\b\b\b\b\r",
      "22/29 [=====================>........] - ETA: 0s - loss: 0.0042"
     ]
    },
    {
     "name": "stdout",
     "output_type": "stream",
     "text": [
      "\b\b\b\b\b\b\b\b\b\b\b\b\b\b\b\b\b\b\b\b\b\b\b\b\b\b\b\b\b\b\b\b\b\b\b\b\b\b\b\b\b\b\b\b\b\b\b\b\b\b\b\b\b\b\b\b\b\b\b\b\b\b\b\r",
      "25/29 [========================>.....] - ETA: 0s - loss: 0.0042"
     ]
    },
    {
     "name": "stdout",
     "output_type": "stream",
     "text": [
      "\b\b\b\b\b\b\b\b\b\b\b\b\b\b\b\b\b\b\b\b\b\b\b\b\b\b\b\b\b\b\b\b\b\b\b\b\b\b\b\b\b\b\b\b\b\b\b\b\b\b\b\b\b\b\b\b\b\b\b\b\b\b\b\r",
      "28/29 [===========================>..] - ETA: 0s - loss: 0.0043"
     ]
    },
    {
     "name": "stdout",
     "output_type": "stream",
     "text": [
      "\b\b\b\b\b\b\b\b\b\b\b\b\b\b\b\b\b\b\b\b\b\b\b\b\b\b\b\b\b\b\b\b\b\b\b\b\b\b\b\b\b\b\b\b\b\b\b\b\b\b\b\b\b\b\b\b\b\b\b\b\b\b\b\r",
      "29/29 [==============================] - 1s 26ms/step - loss: 0.0043 - val_loss: 0.0041\n"
     ]
    },
    {
     "name": "stdout",
     "output_type": "stream",
     "text": [
      "Epoch 18/30\n"
     ]
    },
    {
     "name": "stdout",
     "output_type": "stream",
     "text": [
      "\r",
      " 1/29 [>.............................] - ETA: 0s - loss: 0.0024"
     ]
    },
    {
     "name": "stdout",
     "output_type": "stream",
     "text": [
      "\b\b\b\b\b\b\b\b\b\b\b\b\b\b\b\b\b\b\b\b\b\b\b\b\b\b\b\b\b\b\b\b\b\b\b\b\b\b\b\b\b\b\b\b\b\b\b\b\b\b\b\b\b\b\b\b\b\b\b\b\b\b\b\r",
      " 3/29 [==>...........................] - ETA: 0s - loss: 0.0023"
     ]
    },
    {
     "name": "stdout",
     "output_type": "stream",
     "text": [
      "\b\b\b\b\b\b\b\b\b\b\b\b\b\b\b\b\b\b\b\b\b\b\b\b\b\b\b\b\b\b\b\b\b\b\b\b\b\b\b\b\b\b\b\b\b\b\b\b\b\b\b\b\b\b\b\b\b\b\b\b\b\b\b\r",
      " 5/29 [====>.........................] - ETA: 0s - loss: 0.0031"
     ]
    },
    {
     "name": "stdout",
     "output_type": "stream",
     "text": [
      "\b\b\b\b\b\b\b\b\b\b\b\b\b\b\b\b\b\b\b\b\b\b\b\b\b\b\b\b\b\b\b\b\b\b\b\b\b\b\b\b\b\b\b\b\b\b\b\b\b\b\b\b\b\b\b\b\b\b\b\b\b\b\b\r",
      " 8/29 [=======>......................] - ETA: 0s - loss: 0.0026"
     ]
    },
    {
     "name": "stdout",
     "output_type": "stream",
     "text": [
      "\b\b\b\b\b\b\b\b\b\b\b\b\b\b\b\b\b\b\b\b\b\b\b\b\b\b\b\b\b\b\b\b\b\b\b\b\b\b\b\b\b\b\b\b\b\b\b\b\b\b\b\b\b\b\b\b\b\b\b\b\b\b\b\r",
      "11/29 [==========>...................] - ETA: 0s - loss: 0.0027"
     ]
    },
    {
     "name": "stdout",
     "output_type": "stream",
     "text": [
      "\b\b\b\b\b\b\b\b\b\b\b\b\b\b\b\b\b\b\b\b\b\b\b\b\b\b\b\b\b\b\b\b\b\b\b\b\b\b\b\b\b\b\b\b\b\b\b\b\b\b\b\b\b\b\b\b\b\b\b\b\b\b\b\r",
      "14/29 [=============>................] - ETA: 0s - loss: 0.0034"
     ]
    },
    {
     "name": "stdout",
     "output_type": "stream",
     "text": [
      "\b\b\b\b\b\b\b\b\b\b\b\b\b\b\b\b\b\b\b\b\b\b\b\b\b\b\b\b\b\b\b\b\b\b\b\b\b\b\b\b\b\b\b\b\b\b\b\b\b\b\b\b\b\b\b\b\b\b\b\b\b\b\b\r",
      "17/29 [================>.............] - ETA: 0s - loss: 0.0034"
     ]
    },
    {
     "name": "stdout",
     "output_type": "stream",
     "text": [
      "\b\b\b\b\b\b\b\b\b\b\b\b\b\b\b\b\b\b\b\b\b\b\b\b\b\b\b\b\b\b\b\b\b\b\b\b\b\b\b\b\b\b\b\b\b\b\b\b\b\b\b\b\b\b\b\b\b\b\b\b\b\b\b\r",
      "19/29 [==================>...........] - ETA: 0s - loss: 0.0035"
     ]
    },
    {
     "name": "stdout",
     "output_type": "stream",
     "text": [
      "\b\b\b\b\b\b\b\b\b\b\b\b\b\b\b\b\b\b\b\b\b\b\b\b\b\b\b\b\b\b\b\b\b\b\b\b\b\b\b\b\b\b\b\b\b\b\b\b\b\b\b\b\b\b\b\b\b\b\b\b\b\b\b\r",
      "22/29 [=====================>........] - ETA: 0s - loss: 0.0034"
     ]
    },
    {
     "name": "stdout",
     "output_type": "stream",
     "text": [
      "\b\b\b\b\b\b\b\b\b\b\b\b\b\b\b\b\b\b\b\b\b\b\b\b\b\b\b\b\b\b\b\b\b\b\b\b\b\b\b\b\b\b\b\b\b\b\b\b\b\b\b\b\b\b\b\b\b\b\b\b\b\b\b\r",
      "25/29 [========================>.....] - ETA: 0s - loss: 0.0034"
     ]
    },
    {
     "name": "stdout",
     "output_type": "stream",
     "text": [
      "\b\b\b\b\b\b\b\b\b\b\b\b\b\b\b\b\b\b\b\b\b\b\b\b\b\b\b\b\b\b\b\b\b\b\b\b\b\b\b\b\b\b\b\b\b\b\b\b\b\b\b\b\b\b\b\b\b\b\b\b\b\b\b\r",
      "28/29 [===========================>..] - ETA: 0s - loss: 0.0035"
     ]
    },
    {
     "name": "stdout",
     "output_type": "stream",
     "text": [
      "\b\b\b\b\b\b\b\b\b\b\b\b\b\b\b\b\b\b\b\b\b\b\b\b\b\b\b\b\b\b\b\b\b\b\b\b\b\b\b\b\b\b\b\b\b\b\b\b\b\b\b\b\b\b\b\b\b\b\b\b\b\b\b\r",
      "29/29 [==============================] - 1s 27ms/step - loss: 0.0035 - val_loss: 0.0044\n"
     ]
    },
    {
     "name": "stdout",
     "output_type": "stream",
     "text": [
      "Epoch 19/30\n"
     ]
    },
    {
     "name": "stdout",
     "output_type": "stream",
     "text": [
      "\r",
      " 1/29 [>.............................] - ETA: 0s - loss: 0.0035"
     ]
    },
    {
     "name": "stdout",
     "output_type": "stream",
     "text": [
      "\b\b\b\b\b\b\b\b\b\b\b\b\b\b\b\b\b\b\b\b\b\b\b\b\b\b\b\b\b\b\b\b\b\b\b\b\b\b\b\b\b\b\b\b\b\b\b\b\b\b\b\b\b\b\b\b\b\b\b\b\b\b\b\r",
      " 4/29 [===>..........................] - ETA: 0s - loss: 0.0030"
     ]
    },
    {
     "name": "stdout",
     "output_type": "stream",
     "text": [
      "\b\b\b\b\b\b\b\b\b\b\b\b\b\b\b\b\b\b\b\b\b\b\b\b\b\b\b\b\b\b\b\b\b\b\b\b\b\b\b\b\b\b\b\b\b\b\b\b\b\b\b\b\b\b\b\b\b\b\b\b\b\b\b\r",
      " 7/29 [======>.......................] - ETA: 0s - loss: 0.0033"
     ]
    },
    {
     "name": "stdout",
     "output_type": "stream",
     "text": [
      "\b\b\b\b\b\b\b\b\b\b\b\b\b\b\b\b\b\b\b\b\b\b\b\b\b\b\b\b\b\b\b\b\b\b\b\b\b\b\b\b\b\b\b\b\b\b\b\b\b\b\b\b\b\b\b\b\b\b\b\b\b\b\b\r",
      "10/29 [=========>....................] - ETA: 0s - loss: 0.0032"
     ]
    },
    {
     "name": "stdout",
     "output_type": "stream",
     "text": [
      "\b\b\b\b\b\b\b\b\b\b\b\b\b\b\b\b\b\b\b\b\b\b\b\b\b\b\b\b\b\b\b\b\b\b\b\b\b\b\b\b\b\b\b\b\b\b\b\b\b\b\b\b\b\b\b\b\b\b\b\b\b\b\b\r",
      "13/29 [============>.................] - ETA: 0s - loss: 0.0037"
     ]
    },
    {
     "name": "stdout",
     "output_type": "stream",
     "text": [
      "\b\b\b\b\b\b\b\b\b\b\b\b\b\b\b\b\b\b\b\b\b\b\b\b\b\b\b\b\b\b\b\b\b\b\b\b\b\b\b\b\b\b\b\b\b\b\b\b\b\b\b\b\b\b\b\b\b\b\b\b\b\b\b\r",
      "16/29 [===============>..............] - ETA: 0s - loss: 0.0040"
     ]
    },
    {
     "name": "stdout",
     "output_type": "stream",
     "text": [
      "\b\b\b\b\b\b\b\b\b\b\b\b\b\b\b\b\b\b\b\b\b\b\b\b\b\b\b\b\b\b\b\b\b\b\b\b\b\b\b\b\b\b\b\b\b\b\b\b\b\b\b\b\b\b\b\b\b\b\b\b\b\b\b\r",
      "19/29 [==================>...........] - ETA: 0s - loss: 0.0040"
     ]
    },
    {
     "name": "stdout",
     "output_type": "stream",
     "text": [
      "\b\b\b\b\b\b\b\b\b\b\b\b\b\b\b\b\b\b\b\b\b\b\b\b\b\b\b\b\b\b\b\b\b\b\b\b\b\b\b\b\b\b\b\b\b\b\b\b\b\b\b\b\b\b\b\b\b\b\b\b\b\b\b\r",
      "22/29 [=====================>........] - ETA: 0s - loss: 0.0039"
     ]
    },
    {
     "name": "stdout",
     "output_type": "stream",
     "text": [
      "\b\b\b\b\b\b\b\b\b\b\b\b\b\b\b\b\b\b\b\b\b\b\b\b\b\b\b\b\b\b\b\b\b\b\b\b\b\b\b\b\b\b\b\b\b\b\b\b\b\b\b\b\b\b\b\b\b\b\b\b\b\b\b\r",
      "25/29 [========================>.....] - ETA: 0s - loss: 0.0039"
     ]
    },
    {
     "name": "stdout",
     "output_type": "stream",
     "text": [
      "\b\b\b\b\b\b\b\b\b\b\b\b\b\b\b\b\b\b\b\b\b\b\b\b\b\b\b\b\b\b\b\b\b\b\b\b\b\b\b\b\b\b\b\b\b\b\b\b\b\b\b\b\b\b\b\b\b\b\b\b\b\b\b\r",
      "28/29 [===========================>..] - ETA: 0s - loss: 0.0039"
     ]
    },
    {
     "name": "stdout",
     "output_type": "stream",
     "text": [
      "\b\b\b\b\b\b\b\b\b\b\b\b\b\b\b\b\b\b\b\b\b\b\b\b\b\b\b\b\b\b\b\b\b\b\b\b\b\b\b\b\b\b\b\b\b\b\b\b\b\b\b\b\b\b\b\b\b\b\b\b\b\b\b\r",
      "29/29 [==============================] - 1s 26ms/step - loss: 0.0039 - val_loss: 0.0035\n"
     ]
    },
    {
     "name": "stdout",
     "output_type": "stream",
     "text": [
      "Epoch 20/30\n"
     ]
    },
    {
     "name": "stdout",
     "output_type": "stream",
     "text": [
      "\r",
      " 1/29 [>.............................] - ETA: 0s - loss: 0.0022"
     ]
    },
    {
     "name": "stdout",
     "output_type": "stream",
     "text": [
      "\b\b\b\b\b\b\b\b\b\b\b\b\b\b\b\b\b\b\b\b\b\b\b\b\b\b\b\b\b\b\b\b\b\b\b\b\b\b\b\b\b\b\b\b\b\b\b\b\b\b\b\b\b\b\b\b\b\b\b\b\b\b\b\r",
      " 4/29 [===>..........................] - ETA: 0s - loss: 0.0022"
     ]
    },
    {
     "name": "stdout",
     "output_type": "stream",
     "text": [
      "\b\b\b\b\b\b\b\b\b\b\b\b\b\b\b\b\b\b\b\b\b\b\b\b\b\b\b\b\b\b\b\b\b\b\b\b\b\b\b\b\b\b\b\b\b\b\b\b\b\b\b\b\b\b\b\b\b\b\b\b\b\b\b\r",
      " 7/29 [======>.......................] - ETA: 0s - loss: 0.0023"
     ]
    },
    {
     "name": "stdout",
     "output_type": "stream",
     "text": [
      "\b\b\b\b\b\b\b\b\b\b\b\b\b\b\b\b\b\b\b\b\b\b\b\b\b\b\b\b\b\b\b\b\b\b\b\b\b\b\b\b\b\b\b\b\b\b\b\b\b\b\b\b\b\b\b\b\b\b\b\b\b\b\b\r",
      "10/29 [=========>....................] - ETA: 0s - loss: 0.0022"
     ]
    },
    {
     "name": "stdout",
     "output_type": "stream",
     "text": [
      "\b\b\b\b\b\b\b\b\b\b\b\b\b\b\b\b\b\b\b\b\b\b\b\b\b\b\b\b\b\b\b\b\b\b\b\b\b\b\b\b\b\b\b\b\b\b\b\b\b\b\b\b\b\b\b\b\b\b\b\b\b\b\b\r",
      "13/29 [============>.................] - ETA: 0s - loss: 0.0028"
     ]
    },
    {
     "name": "stdout",
     "output_type": "stream",
     "text": [
      "\b\b\b\b\b\b\b\b\b\b\b\b\b\b\b\b\b\b\b\b\b\b\b\b\b\b\b\b\b\b\b\b\b\b\b\b\b\b\b\b\b\b\b\b\b\b\b\b\b\b\b\b\b\b\b\b\b\b\b\b\b\b\b\r",
      "16/29 [===============>..............] - ETA: 0s - loss: 0.0033"
     ]
    },
    {
     "name": "stdout",
     "output_type": "stream",
     "text": [
      "\b\b\b\b\b\b\b\b\b\b\b\b\b\b\b\b\b\b\b\b\b\b\b\b\b\b\b\b\b\b\b\b\b\b\b\b\b\b\b\b\b\b\b\b\b\b\b\b\b\b\b\b\b\b\b\b\b\b\b\b\b\b\b\r",
      "19/29 [==================>...........] - ETA: 0s - loss: 0.0034"
     ]
    },
    {
     "name": "stdout",
     "output_type": "stream",
     "text": [
      "\b\b\b\b\b\b\b\b\b\b\b\b\b\b\b\b\b\b\b\b\b\b\b\b\b\b\b\b\b\b\b\b\b\b\b\b\b\b\b\b\b\b\b\b\b\b\b\b\b\b\b\b\b\b\b\b\b\b\b\b\b\b\b\r",
      "22/29 [=====================>........] - ETA: 0s - loss: 0.0034"
     ]
    },
    {
     "name": "stdout",
     "output_type": "stream",
     "text": [
      "\b\b\b\b\b\b\b\b\b\b\b\b\b\b\b\b\b\b\b\b\b\b\b\b\b\b\b\b\b\b\b\b\b\b\b\b\b\b\b\b\b\b\b\b\b\b\b\b\b\b\b\b\b\b\b\b\b\b\b\b\b\b\b\r",
      "25/29 [========================>.....] - ETA: 0s - loss: 0.0034"
     ]
    },
    {
     "name": "stdout",
     "output_type": "stream",
     "text": [
      "\b\b\b\b\b\b\b\b\b\b\b\b\b\b\b\b\b\b\b\b\b\b\b\b\b\b\b\b\b\b\b\b\b\b\b\b\b\b\b\b\b\b\b\b\b\b\b\b\b\b\b\b\b\b\b\b\b\b\b\b\b\b\b\r",
      "28/29 [===========================>..] - ETA: 0s - loss: 0.0035"
     ]
    },
    {
     "name": "stdout",
     "output_type": "stream",
     "text": [
      "\b\b\b\b\b\b\b\b\b\b\b\b\b\b\b\b\b\b\b\b\b\b\b\b\b\b\b\b\b\b\b\b\b\b\b\b\b\b\b\b\b\b\b\b\b\b\b\b\b\b\b\b\b\b\b\b\b\b\b\b\b\b\b\r",
      "29/29 [==============================] - 1s 26ms/step - loss: 0.0035 - val_loss: 0.0046\n"
     ]
    },
    {
     "name": "stdout",
     "output_type": "stream",
     "text": [
      "Epoch 21/30\n"
     ]
    },
    {
     "name": "stdout",
     "output_type": "stream",
     "text": [
      "\r",
      " 1/29 [>.............................] - ETA: 0s - loss: 0.0054"
     ]
    },
    {
     "name": "stdout",
     "output_type": "stream",
     "text": [
      "\b\b\b\b\b\b\b\b\b\b\b\b\b\b\b\b\b\b\b\b\b\b\b\b\b\b\b\b\b\b\b\b\b\b\b\b\b\b\b\b\b\b\b\b\b\b\b\b\b\b\b\b\b\b\b\b\b\b\b\b\b\b\b\r",
      " 4/29 [===>..........................] - ETA: 0s - loss: 0.0040"
     ]
    },
    {
     "name": "stdout",
     "output_type": "stream",
     "text": [
      "\b\b\b\b\b\b\b\b\b\b\b\b\b\b\b\b\b\b\b\b\b\b\b\b\b\b\b\b\b\b\b\b\b\b\b\b\b\b\b\b\b\b\b\b\b\b\b\b\b\b\b\b\b\b\b\b\b\b\b\b\b\b\b\r",
      " 7/29 [======>.......................] - ETA: 0s - loss: 0.0034"
     ]
    },
    {
     "name": "stdout",
     "output_type": "stream",
     "text": [
      "\b\b\b\b\b\b\b\b\b\b\b\b\b\b\b\b\b\b\b\b\b\b\b\b\b\b\b\b\b\b\b\b\b\b\b\b\b\b\b\b\b\b\b\b\b\b\b\b\b\b\b\b\b\b\b\b\b\b\b\b\b\b\b\r",
      "10/29 [=========>....................] - ETA: 0s - loss: 0.0035"
     ]
    },
    {
     "name": "stdout",
     "output_type": "stream",
     "text": [
      "\b\b\b\b\b\b\b\b\b\b\b\b\b\b\b\b\b\b\b\b\b\b\b\b\b\b\b\b\b\b\b\b\b\b\b\b\b\b\b\b\b\b\b\b\b\b\b\b\b\b\b\b\b\b\b\b\b\b\b\b\b\b\b\r",
      "13/29 [============>.................] - ETA: 0s - loss: 0.0038"
     ]
    },
    {
     "name": "stdout",
     "output_type": "stream",
     "text": [
      "\b\b\b\b\b\b\b\b\b\b\b\b\b\b\b\b\b\b\b\b\b\b\b\b\b\b\b\b\b\b\b\b\b\b\b\b\b\b\b\b\b\b\b\b\b\b\b\b\b\b\b\b\b\b\b\b\b\b\b\b\b\b\b\r",
      "16/29 [===============>..............] - ETA: 0s - loss: 0.0039"
     ]
    },
    {
     "name": "stdout",
     "output_type": "stream",
     "text": [
      "\b\b\b\b\b\b\b\b\b\b\b\b\b\b\b\b\b\b\b\b\b\b\b\b\b\b\b\b\b\b\b\b\b\b\b\b\b\b\b\b\b\b\b\b\b\b\b\b\b\b\b\b\b\b\b\b\b\b\b\b\b\b\b\r",
      "19/29 [==================>...........] - ETA: 0s - loss: 0.0041"
     ]
    },
    {
     "name": "stdout",
     "output_type": "stream",
     "text": [
      "\b\b\b\b\b\b\b\b\b\b\b\b\b\b\b\b\b\b\b\b\b\b\b\b\b\b\b\b\b\b\b\b\b\b\b\b\b\b\b\b\b\b\b\b\b\b\b\b\b\b\b\b\b\b\b\b\b\b\b\b\b\b\b\r",
      "22/29 [=====================>........] - ETA: 0s - loss: 0.0039"
     ]
    },
    {
     "name": "stdout",
     "output_type": "stream",
     "text": [
      "\b\b\b\b\b\b\b\b\b\b\b\b\b\b\b\b\b\b\b\b\b\b\b\b\b\b\b\b\b\b\b\b\b\b\b\b\b\b\b\b\b\b\b\b\b\b\b\b\b\b\b\b\b\b\b\b\b\b\b\b\b\b\b\r",
      "25/29 [========================>.....] - ETA: 0s - loss: 0.0038"
     ]
    },
    {
     "name": "stdout",
     "output_type": "stream",
     "text": [
      "\b\b\b\b\b\b\b\b\b\b\b\b\b\b\b\b\b\b\b\b\b\b\b\b\b\b\b\b\b\b\b\b\b\b\b\b\b\b\b\b\b\b\b\b\b\b\b\b\b\b\b\b\b\b\b\b\b\b\b\b\b\b\b\r",
      "28/29 [===========================>..] - ETA: 0s - loss: 0.0038"
     ]
    },
    {
     "name": "stdout",
     "output_type": "stream",
     "text": [
      "\b\b\b\b\b\b\b\b\b\b\b\b\b\b\b\b\b\b\b\b\b\b\b\b\b\b\b\b\b\b\b\b\b\b\b\b\b\b\b\b\b\b\b\b\b\b\b\b\b\b\b\b\b\b\b\b\b\b\b\b\b\b\b\r",
      "29/29 [==============================] - 1s 26ms/step - loss: 0.0038 - val_loss: 0.0058\n"
     ]
    },
    {
     "name": "stdout",
     "output_type": "stream",
     "text": [
      "Epoch 22/30\n"
     ]
    },
    {
     "name": "stdout",
     "output_type": "stream",
     "text": [
      "\r",
      " 1/29 [>.............................] - ETA: 0s - loss: 0.0036"
     ]
    },
    {
     "name": "stdout",
     "output_type": "stream",
     "text": [
      "\b\b\b\b\b\b\b\b\b\b\b\b\b\b\b\b\b\b\b\b\b\b\b\b\b\b\b\b\b\b\b\b\b\b\b\b\b\b\b\b\b\b\b\b\b\b\b\b\b\b\b\b\b\b\b\b\b\b\b\b\b\b\b\r",
      " 4/29 [===>..........................] - ETA: 0s - loss: 0.0039"
     ]
    },
    {
     "name": "stdout",
     "output_type": "stream",
     "text": [
      "\b\b\b\b\b\b\b\b\b\b\b\b\b\b\b\b\b\b\b\b\b\b\b\b\b\b\b\b\b\b\b\b\b\b\b\b\b\b\b\b\b\b\b\b\b\b\b\b\b\b\b\b\b\b\b\b\b\b\b\b\b\b\b\r",
      " 7/29 [======>.......................] - ETA: 0s - loss: 0.0038"
     ]
    },
    {
     "name": "stdout",
     "output_type": "stream",
     "text": [
      "\b\b\b\b\b\b\b\b\b\b\b\b\b\b\b\b\b\b\b\b\b\b\b\b\b\b\b\b\b\b\b\b\b\b\b\b\b\b\b\b\b\b\b\b\b\b\b\b\b\b\b\b\b\b\b\b\b\b\b\b\b\b\b\r",
      "10/29 [=========>....................] - ETA: 0s - loss: 0.0036"
     ]
    },
    {
     "name": "stdout",
     "output_type": "stream",
     "text": [
      "\b\b\b\b\b\b\b\b\b\b\b\b\b\b\b\b\b\b\b\b\b\b\b\b\b\b\b\b\b\b\b\b\b\b\b\b\b\b\b\b\b\b\b\b\b\b\b\b\b\b\b\b\b\b\b\b\b\b\b\b\b\b\b\r",
      "13/29 [============>.................] - ETA: 0s - loss: 0.0038"
     ]
    },
    {
     "name": "stdout",
     "output_type": "stream",
     "text": [
      "\b\b\b\b\b\b\b\b\b\b\b\b\b\b\b\b\b\b\b\b\b\b\b\b\b\b\b\b\b\b\b\b\b\b\b\b\b\b\b\b\b\b\b\b\b\b\b\b\b\b\b\b\b\b\b\b\b\b\b\b\b\b\b\r",
      "16/29 [===============>..............] - ETA: 0s - loss: 0.0040"
     ]
    },
    {
     "name": "stdout",
     "output_type": "stream",
     "text": [
      "\b\b\b\b\b\b\b\b\b\b\b\b\b\b\b\b\b\b\b\b\b\b\b\b\b\b\b\b\b\b\b\b\b\b\b\b\b\b\b\b\b\b\b\b\b\b\b\b\b\b\b\b\b\b\b\b\b\b\b\b\b\b\b\r",
      "19/29 [==================>...........] - ETA: 0s - loss: 0.0040"
     ]
    },
    {
     "name": "stdout",
     "output_type": "stream",
     "text": [
      "\b\b\b\b\b\b\b\b\b\b\b\b\b\b\b\b\b\b\b\b\b\b\b\b\b\b\b\b\b\b\b\b\b\b\b\b\b\b\b\b\b\b\b\b\b\b\b\b\b\b\b\b\b\b\b\b\b\b\b\b\b\b\b\r",
      "22/29 [=====================>........] - ETA: 0s - loss: 0.0038"
     ]
    },
    {
     "name": "stdout",
     "output_type": "stream",
     "text": [
      "\b\b\b\b\b\b\b\b\b\b\b\b\b\b\b\b\b\b\b\b\b\b\b\b\b\b\b\b\b\b\b\b\b\b\b\b\b\b\b\b\b\b\b\b\b\b\b\b\b\b\b\b\b\b\b\b\b\b\b\b\b\b\b\r",
      "25/29 [========================>.....] - ETA: 0s - loss: 0.0038"
     ]
    },
    {
     "name": "stdout",
     "output_type": "stream",
     "text": [
      "\b\b\b\b\b\b\b\b\b\b\b\b\b\b\b\b\b\b\b\b\b\b\b\b\b\b\b\b\b\b\b\b\b\b\b\b\b\b\b\b\b\b\b\b\b\b\b\b\b\b\b\b\b\b\b\b\b\b\b\b\b\b\b\r",
      "28/29 [===========================>..] - ETA: 0s - loss: 0.0039"
     ]
    },
    {
     "name": "stdout",
     "output_type": "stream",
     "text": [
      "\b\b\b\b\b\b\b\b\b\b\b\b\b\b\b\b\b\b\b\b\b\b\b\b\b\b\b\b\b\b\b\b\b\b\b\b\b\b\b\b\b\b\b\b\b\b\b\b\b\b\b\b\b\b\b\b\b\b\b\b\b\b\b\r",
      "29/29 [==============================] - 1s 26ms/step - loss: 0.0039 - val_loss: 0.0057\n"
     ]
    },
    {
     "name": "stdout",
     "output_type": "stream",
     "text": [
      "Epoch 23/30\n"
     ]
    },
    {
     "name": "stdout",
     "output_type": "stream",
     "text": [
      "\r",
      " 1/29 [>.............................] - ETA: 0s - loss: 0.0023"
     ]
    },
    {
     "name": "stdout",
     "output_type": "stream",
     "text": [
      "\b\b\b\b\b\b\b\b\b\b\b\b\b\b\b\b\b\b\b\b\b\b\b\b\b\b\b\b\b\b\b\b\b\b\b\b\b\b\b\b\b\b\b\b\b\b\b\b\b\b\b\b\b\b\b\b\b\b\b\b\b\b\b\r",
      " 3/29 [==>...........................] - ETA: 0s - loss: 0.0025"
     ]
    },
    {
     "name": "stdout",
     "output_type": "stream",
     "text": [
      "\b\b\b\b\b\b\b\b\b\b\b\b\b\b\b\b\b\b\b\b\b\b\b\b\b\b\b\b\b\b\b\b\b\b\b\b\b\b\b\b\b\b\b\b\b\b\b\b\b\b\b\b\b\b\b\b\b\b\b\b\b\b\b\r",
      " 6/29 [=====>........................] - ETA: 0s - loss: 0.0060"
     ]
    },
    {
     "name": "stdout",
     "output_type": "stream",
     "text": [
      "\b\b\b\b\b\b\b\b\b\b\b\b\b\b\b\b\b\b\b\b\b\b\b\b\b\b\b\b\b\b\b\b\b\b\b\b\b\b\b\b\b\b\b\b\b\b\b\b\b\b\b\b\b\b\b\b\b\b\b\b\b\b\b\r",
      " 9/29 [========>.....................] - ETA: 0s - loss: 0.0048"
     ]
    },
    {
     "name": "stdout",
     "output_type": "stream",
     "text": [
      "\b\b\b\b\b\b\b\b\b\b\b\b\b\b\b\b\b\b\b\b\b\b\b\b\b\b\b\b\b\b\b\b\b\b\b\b\b\b\b\b\b\b\b\b\b\b\b\b\b\b\b\b\b\b\b\b\b\b\b\b\b\b\b\r",
      "12/29 [===========>..................] - ETA: 0s - loss: 0.0043"
     ]
    },
    {
     "name": "stdout",
     "output_type": "stream",
     "text": [
      "\b\b\b\b\b\b\b\b\b\b\b\b\b\b\b\b\b\b\b\b\b\b\b\b\b\b\b\b\b\b\b\b\b\b\b\b\b\b\b\b\b\b\b\b\b\b\b\b\b\b\b\b\b\b\b\b\b\b\b\b\b\b\b\r",
      "15/29 [==============>...............] - ETA: 0s - loss: 0.0045"
     ]
    },
    {
     "name": "stdout",
     "output_type": "stream",
     "text": [
      "\b\b\b\b\b\b\b\b\b\b\b\b\b\b\b\b\b\b\b\b\b\b\b\b\b\b\b\b\b\b\b\b\b\b\b\b\b\b\b\b\b\b\b\b\b\b\b\b\b\b\b\b\b\b\b\b\b\b\b\b\b\b\b\r",
      "18/29 [=================>............] - ETA: 0s - loss: 0.0044"
     ]
    },
    {
     "name": "stdout",
     "output_type": "stream",
     "text": [
      "\b\b\b\b\b\b\b\b\b\b\b\b\b\b\b\b\b\b\b\b\b\b\b\b\b\b\b\b\b\b\b\b\b\b\b\b\b\b\b\b\b\b\b\b\b\b\b\b\b\b\b\b\b\b\b\b\b\b\b\b\b\b\b\r",
      "21/29 [====================>.........] - ETA: 0s - loss: 0.0043"
     ]
    },
    {
     "name": "stdout",
     "output_type": "stream",
     "text": [
      "\b\b\b\b\b\b\b\b\b\b\b\b\b\b\b\b\b\b\b\b\b\b\b\b\b\b\b\b\b\b\b\b\b\b\b\b\b\b\b\b\b\b\b\b\b\b\b\b\b\b\b\b\b\b\b\b\b\b\b\b\b\b\b\r",
      "24/29 [=======================>......] - ETA: 0s - loss: 0.0041"
     ]
    },
    {
     "name": "stdout",
     "output_type": "stream",
     "text": [
      "\b\b\b\b\b\b\b\b\b\b\b\b\b\b\b\b\b\b\b\b\b\b\b\b\b\b\b\b\b\b\b\b\b\b\b\b\b\b\b\b\b\b\b\b\b\b\b\b\b\b\b\b\b\b\b\b\b\b\b\b\b\b\b\r",
      "27/29 [==========================>...] - ETA: 0s - loss: 0.0042"
     ]
    },
    {
     "name": "stdout",
     "output_type": "stream",
     "text": [
      "\b\b\b\b\b\b\b\b\b\b\b\b\b\b\b\b\b\b\b\b\b\b\b\b\b\b\b\b\b\b\b\b\b\b\b\b\b\b\b\b\b\b\b\b\b\b\b\b\b\b\b\b\b\b\b\b\b\b\b\b\b\b\b\r",
      "29/29 [==============================] - 1s 26ms/step - loss: 0.0042 - val_loss: 0.0035\n"
     ]
    },
    {
     "name": "stdout",
     "output_type": "stream",
     "text": [
      "Epoch 24/30\n"
     ]
    },
    {
     "name": "stdout",
     "output_type": "stream",
     "text": [
      "\r",
      " 1/29 [>.............................] - ETA: 0s - loss: 0.0017"
     ]
    },
    {
     "name": "stdout",
     "output_type": "stream",
     "text": [
      "\b\b\b\b\b\b\b\b\b\b\b\b\b\b\b\b\b\b\b\b\b\b\b\b\b\b\b\b\b\b\b\b\b\b\b\b\b\b\b\b\b\b\b\b\b\b\b\b\b\b\b\b\b\b\b\b\b\b\b\b\b\b\b\r",
      " 4/29 [===>..........................] - ETA: 0s - loss: 0.0033"
     ]
    },
    {
     "name": "stdout",
     "output_type": "stream",
     "text": [
      "\b\b\b\b\b\b\b\b\b\b\b\b\b\b\b\b\b\b\b\b\b\b\b\b\b\b\b\b\b\b\b\b\b\b\b\b\b\b\b\b\b\b\b\b\b\b\b\b\b\b\b\b\b\b\b\b\b\b\b\b\b\b\b\r",
      " 7/29 [======>.......................] - ETA: 0s - loss: 0.0033"
     ]
    },
    {
     "name": "stdout",
     "output_type": "stream",
     "text": [
      "\b\b\b\b\b\b\b\b\b\b\b\b\b\b\b\b\b\b\b\b\b\b\b\b\b\b\b\b\b\b\b\b\b\b\b\b\b\b\b\b\b\b\b\b\b\b\b\b\b\b\b\b\b\b\b\b\b\b\b\b\b\b\b\r",
      "10/29 [=========>....................] - ETA: 0s - loss: 0.0028"
     ]
    },
    {
     "name": "stdout",
     "output_type": "stream",
     "text": [
      "\b\b\b\b\b\b\b\b\b\b\b\b\b\b\b\b\b\b\b\b\b\b\b\b\b\b\b\b\b\b\b\b\b\b\b\b\b\b\b\b\b\b\b\b\b\b\b\b\b\b\b\b\b\b\b\b\b\b\b\b\b\b\b\r",
      "13/29 [============>.................] - ETA: 0s - loss: 0.0029"
     ]
    },
    {
     "name": "stdout",
     "output_type": "stream",
     "text": [
      "\b\b\b\b\b\b\b\b\b\b\b\b\b\b\b\b\b\b\b\b\b\b\b\b\b\b\b\b\b\b\b\b\b\b\b\b\b\b\b\b\b\b\b\b\b\b\b\b\b\b\b\b\b\b\b\b\b\b\b\b\b\b\b\r",
      "16/29 [===============>..............] - ETA: 0s - loss: 0.0032"
     ]
    },
    {
     "name": "stdout",
     "output_type": "stream",
     "text": [
      "\b\b\b\b\b\b\b\b\b\b\b\b\b\b\b\b\b\b\b\b\b\b\b\b\b\b\b\b\b\b\b\b\b\b\b\b\b\b\b\b\b\b\b\b\b\b\b\b\b\b\b\b\b\b\b\b\b\b\b\b\b\b\b\r",
      "19/29 [==================>...........] - ETA: 0s - loss: 0.0032"
     ]
    },
    {
     "name": "stdout",
     "output_type": "stream",
     "text": [
      "\b\b\b\b\b\b\b\b\b\b\b\b\b\b\b\b\b\b\b\b\b\b\b\b\b\b\b\b\b\b\b\b\b\b\b\b\b\b\b\b\b\b\b\b\b\b\b\b\b\b\b\b\b\b\b\b\b\b\b\b\b\b\b\r",
      "22/29 [=====================>........] - ETA: 0s - loss: 0.0032"
     ]
    },
    {
     "name": "stdout",
     "output_type": "stream",
     "text": [
      "\b\b\b\b\b\b\b\b\b\b\b\b\b\b\b\b\b\b\b\b\b\b\b\b\b\b\b\b\b\b\b\b\b\b\b\b\b\b\b\b\b\b\b\b\b\b\b\b\b\b\b\b\b\b\b\b\b\b\b\b\b\b\b\r",
      "25/29 [========================>.....] - ETA: 0s - loss: 0.0032"
     ]
    },
    {
     "name": "stdout",
     "output_type": "stream",
     "text": [
      "\b\b\b\b\b\b\b\b\b\b\b\b\b\b\b\b\b\b\b\b\b\b\b\b\b\b\b\b\b\b\b\b\b\b\b\b\b\b\b\b\b\b\b\b\b\b\b\b\b\b\b\b\b\b\b\b\b\b\b\b\b\b\b\r",
      "28/29 [===========================>..] - ETA: 0s - loss: 0.0034"
     ]
    },
    {
     "name": "stdout",
     "output_type": "stream",
     "text": [
      "\b\b\b\b\b\b\b\b\b\b\b\b\b\b\b\b\b\b\b\b\b\b\b\b\b\b\b\b\b\b\b\b\b\b\b\b\b\b\b\b\b\b\b\b\b\b\b\b\b\b\b\b\b\b\b\b\b\b\b\b\b\b\b\r",
      "29/29 [==============================] - 1s 26ms/step - loss: 0.0034 - val_loss: 0.0054\n"
     ]
    },
    {
     "name": "stdout",
     "output_type": "stream",
     "text": [
      "Epoch 25/30\n"
     ]
    },
    {
     "name": "stdout",
     "output_type": "stream",
     "text": [
      "\r",
      " 1/29 [>.............................] - ETA: 0s - loss: 0.0049"
     ]
    },
    {
     "name": "stdout",
     "output_type": "stream",
     "text": [
      "\b\b\b\b\b\b\b\b\b\b\b\b\b\b\b\b\b\b\b\b\b\b\b\b\b\b\b\b\b\b\b\b\b\b\b\b\b\b\b\b\b\b\b\b\b\b\b\b\b\b\b\b\b\b\b\b\b\b\b\b\b\b\b\r",
      " 4/29 [===>..........................] - ETA: 0s - loss: 0.0049"
     ]
    },
    {
     "name": "stdout",
     "output_type": "stream",
     "text": [
      "\b\b\b\b\b\b\b\b\b\b\b\b\b\b\b\b\b\b\b\b\b\b\b\b\b\b\b\b\b\b\b\b\b\b\b\b\b\b\b\b\b\b\b\b\b\b\b\b\b\b\b\b\b\b\b\b\b\b\b\b\b\b\b\r",
      " 7/29 [======>.......................] - ETA: 0s - loss: 0.0052"
     ]
    },
    {
     "name": "stdout",
     "output_type": "stream",
     "text": [
      "\b\b\b\b\b\b\b\b\b\b\b\b\b\b\b\b\b\b\b\b\b\b\b\b\b\b\b\b\b\b\b\b\b\b\b\b\b\b\b\b\b\b\b\b\b\b\b\b\b\b\b\b\b\b\b\b\b\b\b\b\b\b\b\r",
      "10/29 [=========>....................] - ETA: 0s - loss: 0.0046"
     ]
    },
    {
     "name": "stdout",
     "output_type": "stream",
     "text": [
      "\b\b\b\b\b\b\b\b\b\b\b\b\b\b\b\b\b\b\b\b\b\b\b\b\b\b\b\b\b\b\b\b\b\b\b\b\b\b\b\b\b\b\b\b\b\b\b\b\b\b\b\b\b\b\b\b\b\b\b\b\b\b\b\r",
      "13/29 [============>.................] - ETA: 0s - loss: 0.0047"
     ]
    },
    {
     "name": "stdout",
     "output_type": "stream",
     "text": [
      "\b\b\b\b\b\b\b\b\b\b\b\b\b\b\b\b\b\b\b\b\b\b\b\b\b\b\b\b\b\b\b\b\b\b\b\b\b\b\b\b\b\b\b\b\b\b\b\b\b\b\b\b\b\b\b\b\b\b\b\b\b\b\b\r",
      "16/29 [===============>..............] - ETA: 0s - loss: 0.0047"
     ]
    },
    {
     "name": "stdout",
     "output_type": "stream",
     "text": [
      "\b\b\b\b\b\b\b\b\b\b\b\b\b\b\b\b\b\b\b\b\b\b\b\b\b\b\b\b\b\b\b\b\b\b\b\b\b\b\b\b\b\b\b\b\b\b\b\b\b\b\b\b\b\b\b\b\b\b\b\b\b\b\b\r",
      "19/29 [==================>...........] - ETA: 0s - loss: 0.0047"
     ]
    },
    {
     "name": "stdout",
     "output_type": "stream",
     "text": [
      "\b\b\b\b\b\b\b\b\b\b\b\b\b\b\b\b\b\b\b\b\b\b\b\b\b\b\b\b\b\b\b\b\b\b\b\b\b\b\b\b\b\b\b\b\b\b\b\b\b\b\b\b\b\b\b\b\b\b\b\b\b\b\b\r",
      "22/29 [=====================>........] - ETA: 0s - loss: 0.0044"
     ]
    },
    {
     "name": "stdout",
     "output_type": "stream",
     "text": [
      "\b\b\b\b\b\b\b\b\b\b\b\b\b\b\b\b\b\b\b\b\b\b\b\b\b\b\b\b\b\b\b\b\b\b\b\b\b\b\b\b\b\b\b\b\b\b\b\b\b\b\b\b\b\b\b\b\b\b\b\b\b\b\b\r",
      "25/29 [========================>.....] - ETA: 0s - loss: 0.0043"
     ]
    },
    {
     "name": "stdout",
     "output_type": "stream",
     "text": [
      "\b\b\b\b\b\b\b\b\b\b\b\b\b\b\b\b\b\b\b\b\b\b\b\b\b\b\b\b\b\b\b\b\b\b\b\b\b\b\b\b\b\b\b\b\b\b\b\b\b\b\b\b\b\b\b\b\b\b\b\b\b\b\b\r",
      "28/29 [===========================>..] - ETA: 0s - loss: 0.0043"
     ]
    },
    {
     "name": "stdout",
     "output_type": "stream",
     "text": [
      "\b\b\b\b\b\b\b\b\b\b\b\b\b\b\b\b\b\b\b\b\b\b\b\b\b\b\b\b\b\b\b\b\b\b\b\b\b\b\b\b\b\b\b\b\b\b\b\b\b\b\b\b\b\b\b\b\b\b\b\b\b\b\b\r",
      "29/29 [==============================] - 1s 26ms/step - loss: 0.0043 - val_loss: 0.0039\n"
     ]
    },
    {
     "name": "stdout",
     "output_type": "stream",
     "text": [
      "Epoch 26/30\n"
     ]
    },
    {
     "name": "stdout",
     "output_type": "stream",
     "text": [
      "\r",
      " 1/29 [>.............................] - ETA: 0s - loss: 0.0024"
     ]
    },
    {
     "name": "stdout",
     "output_type": "stream",
     "text": [
      "\b\b\b\b\b\b\b\b\b\b\b\b\b\b\b\b\b\b\b\b\b\b\b\b\b\b\b\b\b\b\b\b\b\b\b\b\b\b\b\b\b\b\b\b\b\b\b\b\b\b\b\b\b\b\b\b\b\b\b\b\b\b\b\r",
      " 4/29 [===>..........................] - ETA: 0s - loss: 0.0045"
     ]
    },
    {
     "name": "stdout",
     "output_type": "stream",
     "text": [
      "\b\b\b\b\b\b\b\b\b\b\b\b\b\b\b\b\b\b\b\b\b\b\b\b\b\b\b\b\b\b\b\b\b\b\b\b\b\b\b\b\b\b\b\b\b\b\b\b\b\b\b\b\b\b\b\b\b\b\b\b\b\b\b\r",
      " 7/29 [======>.......................] - ETA: 0s - loss: 0.0039"
     ]
    },
    {
     "name": "stdout",
     "output_type": "stream",
     "text": [
      "\b\b\b\b\b\b\b\b\b\b\b\b\b\b\b\b\b\b\b\b\b\b\b\b\b\b\b\b\b\b\b\b\b\b\b\b\b\b\b\b\b\b\b\b\b\b\b\b\b\b\b\b\b\b\b\b\b\b\b\b\b\b\b\r",
      "10/29 [=========>....................] - ETA: 0s - loss: 0.0034"
     ]
    },
    {
     "name": "stdout",
     "output_type": "stream",
     "text": [
      "\b\b\b\b\b\b\b\b\b\b\b\b\b\b\b\b\b\b\b\b\b\b\b\b\b\b\b\b\b\b\b\b\b\b\b\b\b\b\b\b\b\b\b\b\b\b\b\b\b\b\b\b\b\b\b\b\b\b\b\b\b\b\b\r",
      "13/29 [============>.................] - ETA: 0s - loss: 0.0034"
     ]
    },
    {
     "name": "stdout",
     "output_type": "stream",
     "text": [
      "\b\b\b\b\b\b\b\b\b\b\b\b\b\b\b\b\b\b\b\b\b\b\b\b\b\b\b\b\b\b\b\b\b\b\b\b\b\b\b\b\b\b\b\b\b\b\b\b\b\b\b\b\b\b\b\b\b\b\b\b\b\b\b\r",
      "16/29 [===============>..............] - ETA: 0s - loss: 0.0035"
     ]
    },
    {
     "name": "stdout",
     "output_type": "stream",
     "text": [
      "\b\b\b\b\b\b\b\b\b\b\b\b\b\b\b\b\b\b\b\b\b\b\b\b\b\b\b\b\b\b\b\b\b\b\b\b\b\b\b\b\b\b\b\b\b\b\b\b\b\b\b\b\b\b\b\b\b\b\b\b\b\b\b\r",
      "19/29 [==================>...........] - ETA: 0s - loss: 0.0033"
     ]
    },
    {
     "name": "stdout",
     "output_type": "stream",
     "text": [
      "\b\b\b\b\b\b\b\b\b\b\b\b\b\b\b\b\b\b\b\b\b\b\b\b\b\b\b\b\b\b\b\b\b\b\b\b\b\b\b\b\b\b\b\b\b\b\b\b\b\b\b\b\b\b\b\b\b\b\b\b\b\b\b\r",
      "22/29 [=====================>........] - ETA: 0s - loss: 0.0033"
     ]
    },
    {
     "name": "stdout",
     "output_type": "stream",
     "text": [
      "\b\b\b\b\b\b\b\b\b\b\b\b\b\b\b\b\b\b\b\b\b\b\b\b\b\b\b\b\b\b\b\b\b\b\b\b\b\b\b\b\b\b\b\b\b\b\b\b\b\b\b\b\b\b\b\b\b\b\b\b\b\b\b\r",
      "25/29 [========================>.....] - ETA: 0s - loss: 0.0032"
     ]
    },
    {
     "name": "stdout",
     "output_type": "stream",
     "text": [
      "\b\b\b\b\b\b\b\b\b\b\b\b\b\b\b\b\b\b\b\b\b\b\b\b\b\b\b\b\b\b\b\b\b\b\b\b\b\b\b\b\b\b\b\b\b\b\b\b\b\b\b\b\b\b\b\b\b\b\b\b\b\b\b\r",
      "28/29 [===========================>..] - ETA: 0s - loss: 0.0032"
     ]
    },
    {
     "name": "stdout",
     "output_type": "stream",
     "text": [
      "\b\b\b\b\b\b\b\b\b\b\b\b\b\b\b\b\b\b\b\b\b\b\b\b\b\b\b\b\b\b\b\b\b\b\b\b\b\b\b\b\b\b\b\b\b\b\b\b\b\b\b\b\b\b\b\b\b\b\b\b\b\b\b\r",
      "29/29 [==============================] - 1s 26ms/step - loss: 0.0032 - val_loss: 0.0037\n"
     ]
    },
    {
     "name": "stdout",
     "output_type": "stream",
     "text": [
      "Epoch 27/30\n"
     ]
    },
    {
     "name": "stdout",
     "output_type": "stream",
     "text": [
      "\r",
      " 1/29 [>.............................] - ETA: 0s - loss: 0.0063"
     ]
    },
    {
     "name": "stdout",
     "output_type": "stream",
     "text": [
      "\b\b\b\b\b\b\b\b\b\b\b\b\b\b\b\b\b\b\b\b\b\b\b\b\b\b\b\b\b\b\b\b\b\b\b\b\b\b\b\b\b\b\b\b\b\b\b\b\b\b\b\b\b\b\b\b\b\b\b\b\b\b\b\r",
      " 4/29 [===>..........................] - ETA: 0s - loss: 0.0039"
     ]
    },
    {
     "name": "stdout",
     "output_type": "stream",
     "text": [
      "\b\b\b\b\b\b\b\b\b\b\b\b\b\b\b\b\b\b\b\b\b\b\b\b\b\b\b\b\b\b\b\b\b\b\b\b\b\b\b\b\b\b\b\b\b\b\b\b\b\b\b\b\b\b\b\b\b\b\b\b\b\b\b\r",
      " 7/29 [======>.......................] - ETA: 0s - loss: 0.0037"
     ]
    },
    {
     "name": "stdout",
     "output_type": "stream",
     "text": [
      "\b\b\b\b\b\b\b\b\b\b\b\b\b\b\b\b\b\b\b\b\b\b\b\b\b\b\b\b\b\b\b\b\b\b\b\b\b\b\b\b\b\b\b\b\b\b\b\b\b\b\b\b\b\b\b\b\b\b\b\b\b\b\b\r",
      "10/29 [=========>....................] - ETA: 0s - loss: 0.0032"
     ]
    },
    {
     "name": "stdout",
     "output_type": "stream",
     "text": [
      "\b\b\b\b\b\b\b\b\b\b\b\b\b\b\b\b\b\b\b\b\b\b\b\b\b\b\b\b\b\b\b\b\b\b\b\b\b\b\b\b\b\b\b\b\b\b\b\b\b\b\b\b\b\b\b\b\b\b\b\b\b\b\b\r",
      "13/29 [============>.................] - ETA: 0s - loss: 0.0035"
     ]
    },
    {
     "name": "stdout",
     "output_type": "stream",
     "text": [
      "\b\b\b\b\b\b\b\b\b\b\b\b\b\b\b\b\b\b\b\b\b\b\b\b\b\b\b\b\b\b\b\b\b\b\b\b\b\b\b\b\b\b\b\b\b\b\b\b\b\b\b\b\b\b\b\b\b\b\b\b\b\b\b\r",
      "16/29 [===============>..............] - ETA: 0s - loss: 0.0036"
     ]
    },
    {
     "name": "stdout",
     "output_type": "stream",
     "text": [
      "\b\b\b\b\b\b\b\b\b\b\b\b\b\b\b\b\b\b\b\b\b\b\b\b\b\b\b\b\b\b\b\b\b\b\b\b\b\b\b\b\b\b\b\b\b\b\b\b\b\b\b\b\b\b\b\b\b\b\b\b\b\b\b\r",
      "19/29 [==================>...........] - ETA: 0s - loss: 0.0036"
     ]
    },
    {
     "name": "stdout",
     "output_type": "stream",
     "text": [
      "\b\b\b\b\b\b\b\b\b\b\b\b\b\b\b\b\b\b\b\b\b\b\b\b\b\b\b\b\b\b\b\b\b\b\b\b\b\b\b\b\b\b\b\b\b\b\b\b\b\b\b\b\b\b\b\b\b\b\b\b\b\b\b\r",
      "22/29 [=====================>........] - ETA: 0s - loss: 0.0034"
     ]
    },
    {
     "name": "stdout",
     "output_type": "stream",
     "text": [
      "\b\b\b\b\b\b\b\b\b\b\b\b\b\b\b\b\b\b\b\b\b\b\b\b\b\b\b\b\b\b\b\b\b\b\b\b\b\b\b\b\b\b\b\b\b\b\b\b\b\b\b\b\b\b\b\b\b\b\b\b\b\b\b\r",
      "24/29 [=======================>......] - ETA: 0s - loss: 0.0033"
     ]
    },
    {
     "name": "stdout",
     "output_type": "stream",
     "text": [
      "\b\b\b\b\b\b\b\b\b\b\b\b\b\b\b\b\b\b\b\b\b\b\b\b\b\b\b\b\b\b\b\b\b\b\b\b\b\b\b\b\b\b\b\b\b\b\b\b\b\b\b\b\b\b\b\b\b\b\b\b\b\b\b\r",
      "27/29 [==========================>...] - ETA: 0s - loss: 0.0034"
     ]
    },
    {
     "name": "stdout",
     "output_type": "stream",
     "text": [
      "\b\b\b\b\b\b\b\b\b\b\b\b\b\b\b\b\b\b\b\b\b\b\b\b\b\b\b\b\b\b\b\b\b\b\b\b\b\b\b\b\b\b\b\b\b\b\b\b\b\b\b\b\b\b\b\b\b\b\b\b\b\b\b\r",
      "29/29 [==============================] - 1s 26ms/step - loss: 0.0034 - val_loss: 0.0035\n"
     ]
    },
    {
     "name": "stdout",
     "output_type": "stream",
     "text": [
      "Epoch 28/30\n"
     ]
    },
    {
     "name": "stdout",
     "output_type": "stream",
     "text": [
      "\r",
      " 1/29 [>.............................] - ETA: 0s - loss: 0.0018"
     ]
    },
    {
     "name": "stdout",
     "output_type": "stream",
     "text": [
      "\b\b\b\b\b\b\b\b\b\b\b\b\b\b\b\b\b\b\b\b\b\b\b\b\b\b\b\b\b\b\b\b\b\b\b\b\b\b\b\b\b\b\b\b\b\b\b\b\b\b\b\b\b\b\b\b\b\b\b\b\b\b\b\r",
      " 3/29 [==>...........................] - ETA: 0s - loss: 0.0029"
     ]
    },
    {
     "name": "stdout",
     "output_type": "stream",
     "text": [
      "\b\b\b\b\b\b\b\b\b\b\b\b\b\b\b\b\b\b\b\b\b\b\b\b\b\b\b\b\b\b\b\b\b\b\b\b\b\b\b\b\b\b\b\b\b\b\b\b\b\b\b\b\b\b\b\b\b\b\b\b\b\b\b\r",
      " 6/29 [=====>........................] - ETA: 0s - loss: 0.0030"
     ]
    },
    {
     "name": "stdout",
     "output_type": "stream",
     "text": [
      "\b\b\b\b\b\b\b\b\b\b\b\b\b\b\b\b\b\b\b\b\b\b\b\b\b\b\b\b\b\b\b\b\b\b\b\b\b\b\b\b\b\b\b\b\b\b\b\b\b\b\b\b\b\b\b\b\b\b\b\b\b\b\b\r",
      " 9/29 [========>.....................] - ETA: 0s - loss: 0.0024"
     ]
    },
    {
     "name": "stdout",
     "output_type": "stream",
     "text": [
      "\b\b\b\b\b\b\b\b\b\b\b\b\b\b\b\b\b\b\b\b\b\b\b\b\b\b\b\b\b\b\b\b\b\b\b\b\b\b\b\b\b\b\b\b\b\b\b\b\b\b\b\b\b\b\b\b\b\b\b\b\b\b\b\r",
      "12/29 [===========>..................] - ETA: 0s - loss: 0.0023"
     ]
    },
    {
     "name": "stdout",
     "output_type": "stream",
     "text": [
      "\b\b\b\b\b\b\b\b\b\b\b\b\b\b\b\b\b\b\b\b\b\b\b\b\b\b\b\b\b\b\b\b\b\b\b\b\b\b\b\b\b\b\b\b\b\b\b\b\b\b\b\b\b\b\b\b\b\b\b\b\b\b\b\r",
      "15/29 [==============>...............] - ETA: 0s - loss: 0.0028"
     ]
    },
    {
     "name": "stdout",
     "output_type": "stream",
     "text": [
      "\b\b\b\b\b\b\b\b\b\b\b\b\b\b\b\b\b\b\b\b\b\b\b\b\b\b\b\b\b\b\b\b\b\b\b\b\b\b\b\b\b\b\b\b\b\b\b\b\b\b\b\b\b\b\b\b\b\b\b\b\b\b\b\r",
      "18/29 [=================>............] - ETA: 0s - loss: 0.0027"
     ]
    },
    {
     "name": "stdout",
     "output_type": "stream",
     "text": [
      "\b\b\b\b\b\b\b\b\b\b\b\b\b\b\b\b\b\b\b\b\b\b\b\b\b\b\b\b\b\b\b\b\b\b\b\b\b\b\b\b\b\b\b\b\b\b\b\b\b\b\b\b\b\b\b\b\b\b\b\b\b\b\b\r",
      "21/29 [====================>.........] - ETA: 0s - loss: 0.0027"
     ]
    },
    {
     "name": "stdout",
     "output_type": "stream",
     "text": [
      "\b\b\b\b\b\b\b\b\b\b\b\b\b\b\b\b\b\b\b\b\b\b\b\b\b\b\b\b\b\b\b\b\b\b\b\b\b\b\b\b\b\b\b\b\b\b\b\b\b\b\b\b\b\b\b\b\b\b\b\b\b\b\b\r",
      "24/29 [=======================>......] - ETA: 0s - loss: 0.0026"
     ]
    },
    {
     "name": "stdout",
     "output_type": "stream",
     "text": [
      "\b\b\b\b\b\b\b\b\b\b\b\b\b\b\b\b\b\b\b\b\b\b\b\b\b\b\b\b\b\b\b\b\b\b\b\b\b\b\b\b\b\b\b\b\b\b\b\b\b\b\b\b\b\b\b\b\b\b\b\b\b\b\b\r",
      "27/29 [==========================>...] - ETA: 0s - loss: 0.0028"
     ]
    },
    {
     "name": "stdout",
     "output_type": "stream",
     "text": [
      "\b\b\b\b\b\b\b\b\b\b\b\b\b\b\b\b\b\b\b\b\b\b\b\b\b\b\b\b\b\b\b\b\b\b\b\b\b\b\b\b\b\b\b\b\b\b\b\b\b\b\b\b\b\b\b\b\b\b\b\b\b\b\b\r",
      "29/29 [==============================] - 1s 26ms/step - loss: 0.0028 - val_loss: 0.0032\n"
     ]
    },
    {
     "name": "stdout",
     "output_type": "stream",
     "text": [
      "Epoch 29/30\n"
     ]
    },
    {
     "name": "stdout",
     "output_type": "stream",
     "text": [
      "\r",
      " 1/29 [>.............................] - ETA: 0s - loss: 0.0039"
     ]
    },
    {
     "name": "stdout",
     "output_type": "stream",
     "text": [
      "\b\b\b\b\b\b\b\b\b\b\b\b\b\b\b\b\b\b\b\b\b\b\b\b\b\b\b\b\b\b\b\b\b\b\b\b\b\b\b\b\b\b\b\b\b\b\b\b\b\b\b\b\b\b\b\b\b\b\b\b\b\b\b\r",
      " 4/29 [===>..........................] - ETA: 0s - loss: 0.0028"
     ]
    },
    {
     "name": "stdout",
     "output_type": "stream",
     "text": [
      "\b\b\b\b\b\b\b\b\b\b\b\b\b\b\b\b\b\b\b\b\b\b\b\b\b\b\b\b\b\b\b\b\b\b\b\b\b\b\b\b\b\b\b\b\b\b\b\b\b\b\b\b\b\b\b\b\b\b\b\b\b\b\b\r",
      " 7/29 [======>.......................] - ETA: 0s - loss: 0.0026"
     ]
    },
    {
     "name": "stdout",
     "output_type": "stream",
     "text": [
      "\b\b\b\b\b\b\b\b\b\b\b\b\b\b\b\b\b\b\b\b\b\b\b\b\b\b\b\b\b\b\b\b\b\b\b\b\b\b\b\b\b\b\b\b\b\b\b\b\b\b\b\b\b\b\b\b\b\b\b\b\b\b\b\r",
      "10/29 [=========>....................] - ETA: 0s - loss: 0.0023"
     ]
    },
    {
     "name": "stdout",
     "output_type": "stream",
     "text": [
      "\b\b\b\b\b\b\b\b\b\b\b\b\b\b\b\b\b\b\b\b\b\b\b\b\b\b\b\b\b\b\b\b\b\b\b\b\b\b\b\b\b\b\b\b\b\b\b\b\b\b\b\b\b\b\b\b\b\b\b\b\b\b\b\r",
      "13/29 [============>.................] - ETA: 0s - loss: 0.0024"
     ]
    },
    {
     "name": "stdout",
     "output_type": "stream",
     "text": [
      "\b\b\b\b\b\b\b\b\b\b\b\b\b\b\b\b\b\b\b\b\b\b\b\b\b\b\b\b\b\b\b\b\b\b\b\b\b\b\b\b\b\b\b\b\b\b\b\b\b\b\b\b\b\b\b\b\b\b\b\b\b\b\b\r",
      "16/29 [===============>..............] - ETA: 0s - loss: 0.0027"
     ]
    },
    {
     "name": "stdout",
     "output_type": "stream",
     "text": [
      "\b\b\b\b\b\b\b\b\b\b\b\b\b\b\b\b\b\b\b\b\b\b\b\b\b\b\b\b\b\b\b\b\b\b\b\b\b\b\b\b\b\b\b\b\b\b\b\b\b\b\b\b\b\b\b\b\b\b\b\b\b\b\b\r",
      "19/29 [==================>...........] - ETA: 0s - loss: 0.0028"
     ]
    },
    {
     "name": "stdout",
     "output_type": "stream",
     "text": [
      "\b\b\b\b\b\b\b\b\b\b\b\b\b\b\b\b\b\b\b\b\b\b\b\b\b\b\b\b\b\b\b\b\b\b\b\b\b\b\b\b\b\b\b\b\b\b\b\b\b\b\b\b\b\b\b\b\b\b\b\b\b\b\b\r",
      "22/29 [=====================>........] - ETA: 0s - loss: 0.0027"
     ]
    },
    {
     "name": "stdout",
     "output_type": "stream",
     "text": [
      "\b\b\b\b\b\b\b\b\b\b\b\b\b\b\b\b\b\b\b\b\b\b\b\b\b\b\b\b\b\b\b\b\b\b\b\b\b\b\b\b\b\b\b\b\b\b\b\b\b\b\b\b\b\b\b\b\b\b\b\b\b\b\b\r",
      "25/29 [========================>.....] - ETA: 0s - loss: 0.0028"
     ]
    },
    {
     "name": "stdout",
     "output_type": "stream",
     "text": [
      "\b\b\b\b\b\b\b\b\b\b\b\b\b\b\b\b\b\b\b\b\b\b\b\b\b\b\b\b\b\b\b\b\b\b\b\b\b\b\b\b\b\b\b\b\b\b\b\b\b\b\b\b\b\b\b\b\b\b\b\b\b\b\b\r",
      "28/29 [===========================>..] - ETA: 0s - loss: 0.0029"
     ]
    },
    {
     "name": "stdout",
     "output_type": "stream",
     "text": [
      "\b\b\b\b\b\b\b\b\b\b\b\b\b\b\b\b\b\b\b\b\b\b\b\b\b\b\b\b\b\b\b\b\b\b\b\b\b\b\b\b\b\b\b\b\b\b\b\b\b\b\b\b\b\b\b\b\b\b\b\b\b\b\b\r",
      "29/29 [==============================] - 1s 26ms/step - loss: 0.0028 - val_loss: 0.0043\n"
     ]
    },
    {
     "name": "stdout",
     "output_type": "stream",
     "text": [
      "Epoch 30/30\n"
     ]
    },
    {
     "name": "stdout",
     "output_type": "stream",
     "text": [
      "\r",
      " 1/29 [>.............................] - ETA: 0s - loss: 0.0014"
     ]
    },
    {
     "name": "stdout",
     "output_type": "stream",
     "text": [
      "\b\b\b\b\b\b\b\b\b\b\b\b\b\b\b\b\b\b\b\b\b\b\b\b\b\b\b\b\b\b\b\b\b\b\b\b\b\b\b\b\b\b\b\b\b\b\b\b\b\b\b\b\b\b\b\b\b\b\b\b\b\b\b\r",
      " 4/29 [===>..........................] - ETA: 0s - loss: 0.0027"
     ]
    },
    {
     "name": "stdout",
     "output_type": "stream",
     "text": [
      "\b\b\b\b\b\b\b\b\b\b\b\b\b\b\b\b\b\b\b\b\b\b\b\b\b\b\b\b\b\b\b\b\b\b\b\b\b\b\b\b\b\b\b\b\b\b\b\b\b\b\b\b\b\b\b\b\b\b\b\b\b\b\b\r",
      " 7/29 [======>.......................] - ETA: 0s - loss: 0.0028"
     ]
    },
    {
     "name": "stdout",
     "output_type": "stream",
     "text": [
      "\b\b\b\b\b\b\b\b\b\b\b\b\b\b\b\b\b\b\b\b\b\b\b\b\b\b\b\b\b\b\b\b\b\b\b\b\b\b\b\b\b\b\b\b\b\b\b\b\b\b\b\b\b\b\b\b\b\b\b\b\b\b\b\r",
      "10/29 [=========>....................] - ETA: 0s - loss: 0.0026"
     ]
    },
    {
     "name": "stdout",
     "output_type": "stream",
     "text": [
      "\b\b\b\b\b\b\b\b\b\b\b\b\b\b\b\b\b\b\b\b\b\b\b\b\b\b\b\b\b\b\b\b\b\b\b\b\b\b\b\b\b\b\b\b\b\b\b\b\b\b\b\b\b\b\b\b\b\b\b\b\b\b\b\r",
      "13/29 [============>.................] - ETA: 0s - loss: 0.0028"
     ]
    },
    {
     "name": "stdout",
     "output_type": "stream",
     "text": [
      "\b\b\b\b\b\b\b\b\b\b\b\b\b\b\b\b\b\b\b\b\b\b\b\b\b\b\b\b\b\b\b\b\b\b\b\b\b\b\b\b\b\b\b\b\b\b\b\b\b\b\b\b\b\b\b\b\b\b\b\b\b\b\b\r",
      "16/29 [===============>..............] - ETA: 0s - loss: 0.0030"
     ]
    },
    {
     "name": "stdout",
     "output_type": "stream",
     "text": [
      "\b\b\b\b\b\b\b\b\b\b\b\b\b\b\b\b\b\b\b\b\b\b\b\b\b\b\b\b\b\b\b\b\b\b\b\b\b\b\b\b\b\b\b\b\b\b\b\b\b\b\b\b\b\b\b\b\b\b\b\b\b\b\b\r",
      "19/29 [==================>...........] - ETA: 0s - loss: 0.0032"
     ]
    },
    {
     "name": "stdout",
     "output_type": "stream",
     "text": [
      "\b\b\b\b\b\b\b\b\b\b\b\b\b\b\b\b\b\b\b\b\b\b\b\b\b\b\b\b\b\b\b\b\b\b\b\b\b\b\b\b\b\b\b\b\b\b\b\b\b\b\b\b\b\b\b\b\b\b\b\b\b\b\b\r",
      "22/29 [=====================>........] - ETA: 0s - loss: 0.0030"
     ]
    },
    {
     "name": "stdout",
     "output_type": "stream",
     "text": [
      "\b\b\b\b\b\b\b\b\b\b\b\b\b\b\b\b\b\b\b\b\b\b\b\b\b\b\b\b\b\b\b\b\b\b\b\b\b\b\b\b\b\b\b\b\b\b\b\b\b\b\b\b\b\b\b\b\b\b\b\b\b\b\b\r",
      "25/29 [========================>.....] - ETA: 0s - loss: 0.0029"
     ]
    },
    {
     "name": "stdout",
     "output_type": "stream",
     "text": [
      "\b\b\b\b\b\b\b\b\b\b\b\b\b\b\b\b\b\b\b\b\b\b\b\b\b\b\b\b\b\b\b\b\b\b\b\b\b\b\b\b\b\b\b\b\b\b\b\b\b\b\b\b\b\b\b\b\b\b\b\b\b\b\b\r",
      "28/29 [===========================>..] - ETA: 0s - loss: 0.0030"
     ]
    },
    {
     "name": "stdout",
     "output_type": "stream",
     "text": [
      "\b\b\b\b\b\b\b\b\b\b\b\b\b\b\b\b\b\b\b\b\b\b\b\b\b\b\b\b\b\b\b\b\b\b\b\b\b\b\b\b\b\b\b\b\b\b\b\b\b\b\b\b\b\b\b\b\b\b\b\b\b\b\b\r",
      "29/29 [==============================] - 1s 26ms/step - loss: 0.0030 - val_loss: 0.0034\n"
     ]
    },
    {
     "name": "stdout",
     "output_type": "stream",
     "text": [
      "\r",
      "1/6 [====>.........................] - ETA: 2s"
     ]
    },
    {
     "name": "stdout",
     "output_type": "stream",
     "text": [
      "\b\b\b\b\b\b\b\b\b\b\b\b\b\b\b\b\b\b\b\b\b\b\b\b\b\b\b\b\b\b\b\b\b\b\b\b\b\b\b\b\b\b\b\b\b\b\r",
      "6/6 [==============================] - 1s 8ms/step\n"
     ]
    },
    {
     "data": {
      "image/png": "[encoded data removed]",
      "text/plain": [
       "<Figure size 1000x600 with 1 Axes>"
      ]
     },
     "metadata": {},
     "output_type": "display_data"
    }
   ],
   "source": [
    "# 5. MODEL LSTM\n",
    "print(\"\\n5. Model LSTM\")\n",
    "\n",
    "# --- 5.1 Persiapan Data untuk LSTM ---\n",
    "print(\"   5.1 Persiapan Data untuk LSTM\")\n",
    "features_lstm_cols = ['Close', 'Volume'] # Kolom yang akan di-scale dan dijadikan sekuens\n",
    "train_lstm_df = train_df_global[features_lstm_cols].copy()\n",
    "test_lstm_df = test_df_global[features_lstm_cols].copy()\n",
    "\n",
    "scaler_close_lstm = MinMaxScaler(feature_range=(0, 1))\n",
    "scaler_volume_lstm = MinMaxScaler(feature_range=(0, 1))\n",
    "\n",
    "train_lstm_scaled = train_lstm_df.copy()\n",
    "train_lstm_scaled['Close'] = scaler_close_lstm.fit_transform(train_lstm_df[['Close']])\n",
    "train_lstm_scaled['Volume'] = scaler_volume_lstm.fit_transform(train_lstm_df[['Volume']])\n",
    "\n",
    "test_lstm_scaled = test_lstm_df.copy()\n",
    "test_lstm_scaled['Close'] = scaler_close_lstm.transform(test_lstm_df[['Close']])\n",
    "test_lstm_scaled['Volume'] = scaler_volume_lstm.transform(test_lstm_df[['Volume']])\n",
    "\n",
    "sequence_length = 60\n",
    "X_train_lstm, y_train_lstm, X_test_lstm, y_test_lstm, y_test_actual_lstm_target = [np.array([])]*5\n",
    "\n",
    "if len(train_lstm_scaled) > sequence_length and len(test_lstm_scaled) > sequence_length:\n",
    "    def create_sequences_lstm(data_sequence, seq_len, target_col_name):\n",
    "        X, y = [], []\n",
    "        target_idx = data_sequence.columns.get_loc(target_col_name)\n",
    "        for i in range(len(data_sequence) - seq_len):\n",
    "            X.append(data_sequence.iloc[i:(i + seq_len)].values)\n",
    "            y.append(data_sequence.iloc[i + seq_len, target_idx])\n",
    "        return np.array(X), np.array(y)\n",
    "\n",
    "    X_train_lstm, y_train_lstm = create_sequences_lstm(train_lstm_scaled, sequence_length, 'Close')\n",
    "    X_test_lstm, y_test_lstm = create_sequences_lstm(test_lstm_scaled, sequence_length, 'Close')\n",
    "\n",
    "    # y_test_actual_lstm_target adalah nilai 'Close' asli dari test_df_global yang sesuai dengan y_test_lstm\n",
    "    if len(y_test_lstm) > 0 :\n",
    "         y_test_actual_lstm_target = test_df_global[target_col].iloc[sequence_length : sequence_length + len(y_test_lstm)].values\n",
    "\n",
    "    print(f\"   Bentuk X_train_lstm: {X_train_lstm.shape}, y_train_lstm: {y_train_lstm.shape}\")\n",
    "    print(f\"   Bentuk X_test_lstm: {X_test_lstm.shape}, y_test_lstm: {y_test_lstm.shape}\")\n",
    "    print(f\"   Bentuk y_test_actual_lstm_target (untuk evaluasi LSTM): {y_test_actual_lstm_target.shape}\")\n",
    "else:\n",
    "    print(\"   Tidak cukup data pada training atau testing scaled untuk membuat sekuens LSTM.\")\n",
    "\n",
    "predictions_lstm = None\n",
    "history_lstm = None\n",
    "if X_train_lstm.size > 0 and X_test_lstm.size > 0 and y_train_lstm.size > 0 and y_test_lstm.size > 0:\n",
    "    # --- 5.2 Pemodelan LSTM ---\n",
    "    print(\"\\n   5.2 Pemodelan LSTM\")\n",
    "    n_features_lstm = X_train_lstm.shape[2]\n",
    "    model_lstm = Sequential()\n",
    "    model_lstm.add(LSTM(units=50, return_sequences=True, input_shape=(sequence_length, n_features_lstm)))\n",
    "    model_lstm.add(Dropout(0.2))\n",
    "    model_lstm.add(LSTM(units=50, return_sequences=False))\n",
    "    model_lstm.add(Dropout(0.2))\n",
    "    model_lstm.add(Dense(units=25))\n",
    "    model_lstm.add(Dense(units=1))\n",
    "    model_lstm.compile(optimizer='adam', loss='mean_squared_error')\n",
    "    model_lstm.summary()\n",
    "    early_stopping = EarlyStopping(monitor='val_loss', patience=10, restore_best_weights=True)\n",
    "    print(\"   Melatih model LSTM...\")\n",
    "    history_lstm = model_lstm.fit(X_train_lstm, y_train_lstm,\n",
    "                                  epochs=30, batch_size=32,\n",
    "                                  validation_data=(X_test_lstm, y_test_lstm),\n",
    "                                  callbacks=[early_stopping], verbose=1, shuffle=False)\n",
    "    predictions_lstm_scaled = model_lstm.predict(X_test_lstm)\n",
    "    predictions_lstm = scaler_close_lstm.inverse_transform(predictions_lstm_scaled).flatten()\n",
    "    if history_lstm:\n",
    "        plt.figure(figsize=(10,6))\n",
    "        plt.plot(history_lstm.history['loss'], label='Training Loss LSTM')\n",
    "        plt.plot(history_lstm.history['val_loss'], label='Validation Loss LSTM')\n",
    "        plt.title('LSTM Training & Validation Loss')\n",
    "        plt.xlabel('Epoch')\n",
    "        plt.ylabel('Loss (MSE)')\n",
    "        plt.legend()\n",
    "        plt.show()\n",
    "else:\n",
    "    print(\"   Tidak cukup data untuk melatih model LSTM.\")"
   ]
  },
  {
   "cell_type": "markdown",
   "metadata": {
    "id": "wvgJMNF3r75C"
   },
   "source": [
    "### Tahap 5: Pengembangan Model LSTM (Long Short-Term Memory)\n",
    "\n",
    "Setelah Random Forest, kita akan membangun model kedua menggunakan **Long Short-Term Memory (LSTM)**, yang merupakan jenis arsitektur Recurrent Neural Network (RNN) yang sangat cocok untuk data sekuensial atau deret waktu seperti harga saham.\n",
    "\n",
    "**5.1 Persiapan Data untuk LSTM:**\n",
    "* **Seleksi & Penskalaan Fitur:** Kita menggunakan fitur 'Close' dan 'Volume'. Nilai-nilai pada fitur ini diubah skalanya ke rentang antara 0 dan 1 menggunakan `MinMaxScaler`. Penskalaan ini penting karena jaringan saraf seperti LSTM bekerja lebih optimal dengan data input yang ternormalisasi. *Scaler* di-*fit* hanya pada data training untuk mencegah kebocoran informasi dari data tes.\n",
    "* **Pembuatan Sekuens:** Data yang telah di-*scale* kemudian diubah menjadi format sekuens. Kita menggunakan `sequence_length = 60`, artinya model akan melihat data dari 60 hari sebelumnya untuk memprediksi harga 'Close' pada hari berikutnya. Proses ini menghasilkan `X_train_lstm` (data training berbentuk sekuens) dan `X_test_lstm` (data tes berbentuk sekuens), beserta targetnya masing-masing (`y_train_lstm` dan `y_test_lstm` yang masih di-*scale*, serta `y_test_actual_lstm_target` yang merupakan nilai 'Close' aktual untuk evaluasi). Output menunjukkan ukuran data sekuens yang dihasilkan (misalnya, 904 sekuens training dan 181 sekuens testing).\n",
    "\n",
    "**5.2 Pemodelan LSTM:**\n",
    "* **Arsitektur Model:** Model LSTM dibangun secara sekuensial dengan arsitektur berikut:\n",
    "    * Dua layer LSTM, masing-masing dengan 50 unit. Layer pertama memiliki `return_sequences=True` untuk meneruskan output sekuens ke layer LSTM berikutnya.\n",
    "    * Dua layer Dropout dengan *rate* 0.2 setelah setiap layer LSTM untuk membantu mengurangi potensi *overfitting*.\n",
    "    * Satu layer Dense dengan 25 unit sebagai lapisan terhubung penuh tambahan.\n",
    "    * Layer Dense output dengan 1 unit untuk menghasilkan prediksi harga penutupan.\n",
    "* **Kompilasi & Pelatihan:** Model dikompilasi menggunakan optimizer 'adam' dan *loss function* 'mean_squared_error'. Pelatihan dilakukan selama 30 *epoch* dengan `EarlyStopping` (patience=10) untuk menghentikan pelatihan jika tidak ada peningkatan pada *validation loss*, dan secara otomatis akan menggunakan bobot model terbaik dari epoch sebelumnya.\n",
    "* **Prediksi & Inverse Transform:** Setelah pelatihan, model digunakan untuk membuat prediksi pada `X_test_lstm`. Karena hasil prediksi ini masih dalam skala 0-1, kita melakukan *inverse transform* menggunakan `scaler_close_lstm` untuk mengembalikan prediksi ke skala harga asli.\n",
    "\n",
    "Plot *training dan validation loss* yang dihasilkan setelah pelatihan membantu kita memantau bagaimana model belajar dan apakah terjadi *overfitting*. Tujuan dari tahap ini adalah membangun model LSTM yang mampu menangkap dependensi temporal dalam data IHSG untuk prediksi yang akurat."
   ]
  },
  {
   "cell_type": "markdown",
   "metadata": {
    "id": "ujPQqGPtYLla"
   },
   "source": [
    "## Evaluasi"
   ]
  },
  {
   "cell_type": "code",
   "execution_count": 7,
   "metadata": {
    "colab": {
     "base_uri": "https://localhost:8080/",
     "height": 1000
    },
    "execution": {
     "iopub.execute_input": "2025-09-23T02:17:25.291817Z",
     "iopub.status.busy": "2025-09-23T02:17:25.291610Z",
     "iopub.status.idle": "2025-09-23T02:17:25.692695Z",
     "shell.execute_reply": "2025-09-23T02:17:25.692028Z"
    },
    "id": "38XpXDL-YKfH",
    "outputId": "5ec972c8-379d-4ba0-cf8e-d776f7066148"
   },
   "outputs": [
    {
     "name": "stdout",
     "output_type": "stream",
     "text": [
      "\n",
      "6. Evaluasi Model\n",
      "\n",
      "   Hasil Evaluasi Random Forest:\n",
      "   MAE Random Forest: 123.65\n",
      "   RMSE Random Forest: 174.55\n"
     ]
    },
    {
     "data": {
      "image/png": "[encoded data removed]",
      "text/plain": [
       "<Figure size 1400x700 with 1 Axes>"
      ]
     },
     "metadata": {},
     "output_type": "display_data"
    },
    {
     "name": "stdout",
     "output_type": "stream",
     "text": [
      "\n",
      "   Hasil Evaluasi LSTM:\n",
      "   MAE LSTM: 130.52\n",
      "   RMSE LSTM: 162.46\n"
     ]
    },
    {
     "data": {
      "image/png": "[encoded data removed]",
      "text/plain": [
       "<Figure size 1400x700 with 1 Axes>"
      ]
     },
     "metadata": {},
     "output_type": "display_data"
    }
   ],
   "source": [
    "# 6. EVALUASI MODEL\n",
    "print(\"\\n6. Evaluasi Model\")\n",
    "\n",
    "# --- Evaluasi Random Forest ---\n",
    "if predictions_rf is not None and not y_test_rf_actual.empty:\n",
    "    if len(y_test_rf_actual) == len(predictions_rf):\n",
    "        mae_rf = mean_absolute_error(y_test_rf_actual.values, predictions_rf)\n",
    "        rmse_rf = np.sqrt(mean_squared_error(y_test_rf_actual.values, predictions_rf))\n",
    "        print(f\"\\n   Hasil Evaluasi Random Forest:\")\n",
    "        print(f\"   MAE Random Forest: {mae_rf:.2f}\")\n",
    "        print(f\"   RMSE Random Forest: {rmse_rf:.2f}\")\n",
    "\n",
    "        plt.figure(figsize=(14, 7))\n",
    "        plt.plot(y_test_rf_actual.index, y_test_rf_actual.values, label='Harga Aktual IHSG', color='blue')\n",
    "        plt.plot(y_test_rf_actual.index, predictions_rf, label='Prediksi Random Forest IHSG', color='purple', linestyle='--')\n",
    "        plt.title('Perbandingan Aktual vs. Prediksi Random Forest')\n",
    "        plt.xlabel('Tanggal')\n",
    "        plt.ylabel('Harga Penutupan IHSG')\n",
    "        plt.legend()\n",
    "        plt.show()\n",
    "    else:\n",
    "        print(f\"   Panjang data aktual RF ({len(y_test_rf_actual)}) tidak sama dengan prediksi RF ({len(predictions_rf)}). Tidak bisa evaluasi RF.\")\n",
    "else:\n",
    "    print(\"\\n   Evaluasi Random Forest tidak dapat dilakukan.\")\n",
    "\n",
    "# --- Evaluasi LSTM ---\n",
    "if predictions_lstm is not None and y_test_actual_lstm_target.size > 0:\n",
    "    min_len_lstm_eval = min(len(y_test_actual_lstm_target), len(predictions_lstm))\n",
    "    actual_lstm_eval = y_test_actual_lstm_target[:min_len_lstm_eval]\n",
    "    pred_lstm_eval = predictions_lstm[:min_len_lstm_eval]\n",
    "\n",
    "    if min_len_lstm_eval > 0:\n",
    "        mae_lstm = mean_absolute_error(actual_lstm_eval, pred_lstm_eval)\n",
    "        rmse_lstm = np.sqrt(mean_squared_error(actual_lstm_eval, pred_lstm_eval))\n",
    "        print(f\"\\n   Hasil Evaluasi LSTM:\")\n",
    "        print(f\"   MAE LSTM: {mae_lstm:.2f}\")\n",
    "        print(f\"   RMSE LSTM: {rmse_lstm:.2f}\")\n",
    "\n",
    "        idx_plot_lstm = test_df_global.index[sequence_length : sequence_length + min_len_lstm_eval]\n",
    "        if len(idx_plot_lstm) == min_len_lstm_eval : # Pastikan index juga cocok panjangnya\n",
    "            plt.figure(figsize=(14, 7))\n",
    "            plt.plot(idx_plot_lstm, actual_lstm_eval, label='Harga Aktual IHSG', color='blue')\n",
    "            plt.plot(idx_plot_lstm, pred_lstm_eval, label='Prediksi LSTM IHSG', color='red', linestyle='--')\n",
    "            plt.title('Perbandingan Aktual vs. Prediksi LSTM')\n",
    "            plt.xlabel('Tanggal')\n",
    "            plt.ylabel('Harga Penutupan IHSG')\n",
    "            plt.legend()\n",
    "            plt.show()\n",
    "        else:\n",
    "            print(f\"   Panjang index LSTM ({len(idx_plot_lstm)}) tidak cocok untuk plot evaluasi LSTM ({min_len_lstm_eval}).\")\n",
    "    else:\n",
    "        print(\"   Tidak cukup data yang cocok untuk evaluasi LSTM.\")\n",
    "\n",
    "else:\n",
    "    print(\"\\n   Evaluasi LSTM tidak dapat dilakukan.\")\n"
   ]
  },
  {
   "cell_type": "markdown",
   "metadata": {
    "id": "S_BHot_ItlA-"
   },
   "source": [
    "### Tahap 6: Evaluasi Kinerja Model\n",
    "\n",
    "Setelah kedua model, Random Forest dan LSTM, berhasil dilatih dan menghasilkan prediksi pada data tes (`test_df_global`), langkah selanjutnya adalah mengevaluasi performa mereka secara kuantitatif dan visual.\n",
    "\n",
    "**Metrik Evaluasi yang Digunakan:**\n",
    "Untuk menilai seberapa baik model kita dalam memprediksi harga penutupan IHSG, kita menggunakan dua metrik standar untuk masalah regresi:\n",
    "1.  **Mean Absolute Error (MAE):** Metrik ini mengukur rata-rata dari selisih absolut antara nilai aktual dan nilai prediksi. MAE memberikan gambaran besarnya kesalahan prediksi dalam unit yang sama dengan variabel target (poin IHSG). Semakin kecil nilai MAE, semakin akurat prediksi model secara rata-rata.\n",
    "2.  **Root Mean Squared Error (RMSE):** Metrik ini menghitung akar kuadrat dari rata-rata selisih kuadrat antara nilai aktual dan nilai prediksi. RMSE memberikan bobot yang lebih besar pada kesalahan prediksi yang besar. Sama seperti MAE, nilai RMSE yang lebih kecil menunjukkan performa model yang lebih baik.\n",
    "\n",
    "**Hasil Kuantitatif dari Model:**\n",
    "Berdasarkan output dari blok kode di atas, kita mendapatkan hasil evaluasi berikut pada data tes:\n",
    "\n",
    "* **Random Forest:**\n",
    "    * MAE: 123.65\n",
    "    * RMSE: 174.55\n",
    "* **LSTM:**\n",
    "    * MAE: 123.76\n",
    "    * RMSE: 152.08\n",
    "\n",
    "**Insight dari Metrik Evaluasi:**\n",
    "Dari angka-angka ini, kita dapat menarik beberapa kesimpulan awal:\n",
    "-   **MAE yang Kompetitif:** Kedua model menghasilkan nilai MAE yang sangat mirip dan relatif rendah (Random Forest sedikit lebih unggul dengan 123.65 dibandingkan LSTM dengan 123.76). Ini menunjukkan bahwa secara rata-rata, kedua model memiliki tingkat kesalahan absolut yang hampir sama dalam memprediksi harga penutupan IHSG.\n",
    "-   **RMSE Lebih Rendah pada LSTM:** Model LSTM menunjukkan nilai RMSE yang lebih rendah secara signifikan (152.08) dibandingkan dengan Random Forest (174.55). Karena RMSE memberikan penalti lebih besar untuk kesalahan yang besar, ini mengindikasikan bahwa model LSTM mungkin lebih baik dalam menghindari prediksi yang sangat meleset atau memiliki varians kesalahan yang lebih kecil secara umum dibandingkan Random Forest pada dataset ini.\n",
    "-   **Kinerja Menjanjikan:** Dengan MAE sekitar 123.7 poin, dan mengingat rata-rata harga IHSG dalam dataset ini (sekitar 6634 berdasarkan statistik deskriptif sebelumnya), rata-rata error prediksi kedua model berada di kisaran **1.86%**. Ini merupakan hasil *baseline* yang sangat menjanjikan untuk prediksi harga saham.\n",
    "\n",
    "**Analisis Visual (Plot):**\n",
    "Selain metrik kuantitatif, kode di atas juga menghasilkan plot visual yang membandingkan harga aktual IHSG dengan prediksi dari masing-masing model (Random Forest dan LSTM) pada periode data tes. Plot-plot ini sangat penting untuk:\n",
    "-   Melihat secara kualitatif bagaimana model mengikuti tren harga aktual.\n",
    "-   Mengidentifikasi apakah ada bias sistematis dalam prediksi (misalnya, model cenderung selalu _overestimate_ atau _underestimate_).\n",
    "-   Memahami bagaimana model berperilaku pada periode dengan volatilitas tinggi atau saat terjadi perubahan tren yang signifikan."
   ]
  },
  {
   "cell_type": "code",
   "execution_count": 8,
   "metadata": {
    "colab": {
     "base_uri": "https://localhost:8080/",
     "height": 919
    },
    "execution": {
     "iopub.execute_input": "2025-09-23T02:17:25.694789Z",
     "iopub.status.busy": "2025-09-23T02:17:25.694590Z",
     "iopub.status.idle": "2025-09-23T02:17:25.923720Z",
     "shell.execute_reply": "2025-09-23T02:17:25.923071Z"
    },
    "id": "eAhitVKBZVxb",
    "outputId": "5ffcf61c-0bc4-4e53-e47c-1886a6873738"
   },
   "outputs": [
    {
     "name": "stdout",
     "output_type": "stream",
     "text": [
      "\n",
      " Perbandingan Performa Model\n",
      "\n",
      "   Hasil Evaluasi Random Forest (dari output sebelumnya):\n",
      "   MAE Random Forest: 123.65\n",
      "   RMSE Random Forest: 174.55\n",
      "\n",
      "   Hasil Evaluasi LSTM (dari output sebelumnya):\n",
      "   MAE LSTM: 130.52\n",
      "   RMSE LSTM: 162.46\n",
      "\n",
      "   Plot Gabungan Performa Model...\n"
     ]
    },
    {
     "data": {
      "image/png": "[encoded data removed]",
      "text/plain": [
       "<Figure size 1600x800 with 1 Axes>"
      ]
     },
     "metadata": {},
     "output_type": "display_data"
    }
   ],
   "source": [
    "print(\"\\n Perbandingan Performa Model\")\n",
    "\n",
    "plot_combined = True # Flag untuk kontrol apakah plot gabungan dibuat\n",
    "\n",
    "# --- Evaluasi Random Forest (Output MAE/RMSE) ---\n",
    "if predictions_rf is not None and not y_test_rf_actual.empty:\n",
    "    if len(y_test_rf_actual) == len(predictions_rf):\n",
    "        print(f\"\\n   Hasil Evaluasi Random Forest (dari output sebelumnya):\")\n",
    "        print(f\"   MAE Random Forest: {mae_rf:.2f}\")\n",
    "        print(f\"   RMSE Random Forest: {rmse_rf:.2f}\")\n",
    "    else:\n",
    "        print(f\"   Panjang data aktual RF ({len(y_test_rf_actual)}) tidak sama dengan prediksi RF ({len(predictions_rf)}). Tidak bisa evaluasi RF.\")\n",
    "        plot_combined = False\n",
    "else:\n",
    "    print(\"\\n   Evaluasi Random Forest tidak dapat dilakukan (prediksi tidak tersedia).\")\n",
    "    plot_combined = False\n",
    "\n",
    "# --- Evaluasi LSTM (Output MAE/RMSE) ---\n",
    "# y_test_actual_lstm_target adalah numpy array aktual untuk LSTM\n",
    "# predictions_lstm adalah numpy array prediksi untuk LSTM\n",
    "if predictions_lstm is not None and y_test_actual_lstm_target.size > 0:\n",
    "    min_len_lstm_eval = min(len(y_test_actual_lstm_target), len(predictions_lstm))\n",
    "    actual_lstm_eval = y_test_actual_lstm_target[:min_len_lstm_eval]\n",
    "    pred_lstm_eval = predictions_lstm[:min_len_lstm_eval]\n",
    "\n",
    "    if min_len_lstm_eval > 0:\n",
    "        # MAE dan RMSE LSTM sudah dihitung di skrip sebelumnya, kita gunakan saja nilainya.\n",
    "        # Jika belum, Anda bisa hitung lagi di sini:\n",
    "        # mae_lstm = mean_absolute_error(actual_lstm_eval, pred_lstm_eval)\n",
    "        # rmse_lstm = np.sqrt(mean_squared_error(actual_lstm_eval, pred_lstm_eval))\n",
    "        print(f\"\\n   Hasil Evaluasi LSTM (dari output sebelumnya):\")\n",
    "        print(f\"   MAE LSTM: {mae_lstm:.2f}\")\n",
    "        print(f\"   RMSE LSTM: {rmse_lstm:.2f}\")\n",
    "\n",
    "        # Index tanggal untuk plot LSTM\n",
    "        # Dibuat agar konsisten dengan panjang data yang dievaluasi (min_len_lstm_eval)\n",
    "        idx_plot_lstm = test_df_global.index[sequence_length : sequence_length + min_len_lstm_eval]\n",
    "\n",
    "        # Plot individual LSTM (opsional)\n",
    "        # if len(idx_plot_lstm) == min_len_lstm_eval:\n",
    "        #     plt.figure(figsize=(14, 7))\n",
    "        #     plt.plot(idx_plot_lstm, actual_lstm_eval, label='Aktual LSTM', color='blue')\n",
    "        #     plt.plot(idx_plot_lstm, pred_lstm_eval, label='Prediksi LSTM', color='red', linestyle='--')\n",
    "        #     plt.title('Aktual vs. Prediksi LSTM')\n",
    "        #     plt.legend()\n",
    "        #     plt.show()\n",
    "    else:\n",
    "        print(\"   Tidak cukup data yang cocok untuk evaluasi LSTM.\")\n",
    "        plot_combined = False\n",
    "else:\n",
    "    print(\"\\n   Evaluasi LSTM tidak dapat dilakukan (prediksi tidak tersedia).\")\n",
    "    plot_combined = False\n",
    "\n",
    "\n",
    "# --- PLOT GABUNGAN UNTUK PERBANDINGAN ---\n",
    "if plot_combined and predictions_rf is not None and predictions_lstm is not None and not y_test_rf_actual.empty and y_test_actual_lstm_target.size > 0:\n",
    "    print(\"\\n   Plot Gabungan Performa Model...\")\n",
    "\n",
    "    # Pastikan idx_plot_lstm tidak kosong\n",
    "    if idx_plot_lstm.empty or min_len_lstm_eval == 0:\n",
    "        print(\"   Tidak dapat membuat plot gabungan: index plot LSTM kosong atau panjang evaluasi LSTM nol.\")\n",
    "    else:\n",
    "        # 1. Ambil nilai aktual umum dari periode idx_plot_lstm\n",
    "        # actual_lstm_eval sudah merupakan nilai aktual yang sesuai untuk idx_plot_lstm\n",
    "        actual_values_common = actual_lstm_eval\n",
    "\n",
    "        # 2. Ambil prediksi LSTM yang sudah selaras\n",
    "        lstm_predictions_common = pred_lstm_eval\n",
    "\n",
    "        # 3. Selaraskan prediksi Random Forest dengan idx_plot_lstm\n",
    "        # Buat Series untuk prediksi RF agar bisa difilter berdasarkan datetime index\n",
    "        rf_pred_series = pd.Series(predictions_rf, index=y_test_rf_actual.index)\n",
    "\n",
    "        # Filter prediksi RF agar hanya mencakup tanggal yang ada di idx_plot_lstm\n",
    "        # dan juga pastikan panjangnya tidak melebihi actual_values_common\n",
    "        common_pred_rf_filtered = rf_pred_series[rf_pred_series.index.isin(idx_plot_lstm)]\n",
    "\n",
    "        # Ambil data aktual dari DataFrame asli menggunakan idx_plot_lstm\n",
    "        actual_values_for_plot = df.loc[idx_plot_lstm, 'Close'].values\n",
    "\n",
    "        # Filter prediksi RF untuk tanggal yang ada di idx_plot_lstm\n",
    "        # dan pastikan tidak ada NaN jika ada tanggal yang tidak cocok (meski seharusnya cocok)\n",
    "        rf_predictions_for_plot_series = rf_pred_series.reindex(idx_plot_lstm).ffill().bfill()\n",
    "        rf_predictions_for_plot = rf_predictions_for_plot_series.values\n",
    "\n",
    "        # Prediksi LSTM sudah selaras dengan idx_plot_lstm melalui actual_lstm_eval dan pred_lstm_eval\n",
    "        # namun kita gunakan panjang dari idx_plot_lstm untuk konsistensi\n",
    "        lstm_predictions_for_plot = lstm_predictions_common[:len(idx_plot_lstm)]\n",
    "        actual_values_for_plot = actual_values_common[:len(idx_plot_lstm)]\n",
    "\n",
    "\n",
    "        if len(actual_values_for_plot) == len(rf_predictions_for_plot) == len(lstm_predictions_for_plot):\n",
    "            plt.figure(figsize=(16, 8))\n",
    "            plt.plot(idx_plot_lstm, actual_values_for_plot, label='Harga Aktual IHSG', color='blue', linewidth=2)\n",
    "            plt.plot(idx_plot_lstm, rf_predictions_for_plot, label=f'Prediksi Random Forest (MAE: {mae_rf:.2f})', color='purple', linestyle='--', alpha=0.8)\n",
    "            plt.plot(idx_plot_lstm, lstm_predictions_for_plot, label=f'Prediksi LSTM (MAE: {mae_lstm:.2f})', color='red', linestyle=':', alpha=0.8)\n",
    "\n",
    "            plt.title('Perbandingan Harga Aktual IHSG dengan Prediksi Model (Test Set)')\n",
    "            plt.xlabel('Tanggal')\n",
    "            plt.ylabel('Harga Penutupan IHSG')\n",
    "            plt.legend()\n",
    "            plt.grid(True)\n",
    "            plt.show()\n",
    "        else:\n",
    "            print(\"   Tidak dapat membuat plot gabungan, panjang seri data tidak cocok setelah penyelarasan akhir.\")\n",
    "            print(f\"   Panjang Aktual: {len(actual_values_for_plot)}, RF: {len(rf_predictions_for_plot)}, LSTM: {len(lstm_predictions_for_plot)}\")\n",
    "\n",
    "else:\n",
    "    if plot_combined: # Hanya cetak ini jika kita memang berniat membuat plot gabungan\n",
    "        print(\"\\n   Tidak dapat membuat plot gabungan karena salah satu atau kedua model tidak memiliki prediksi.\")\n"
   ]
  },
  {
   "cell_type": "markdown",
   "metadata": {
    "id": "S7-EtKsMuM4G"
   },
   "source": [
    "\n",
    "**Insight dari Visualisasi Perbandingan Performa Model**\n",
    "\n",
    "Berdasarkan grafik yang ditampilkan, kita bisa melihat perbandingan antara harga aktual IHSG (Indeks Harga Saham Gabungan) dengan hasil prediksi dari dua model: **Random Forest** dan **LSTM** (Long Short-Term Memory). Berikut adalah beberapa insight yang bisa diambil:\n",
    "\n",
    "1. **Harga Aktual IHSG (Garis Biru)**:\n",
    "\n",
    "   * Garis biru mewakili harga aktual IHSG yang tercatat selama periode dari 2024 hingga 2025.\n",
    "   * Terlihat fluktuasi harga yang signifikan, dengan kenaikan tajam di beberapa bulan terakhir (April-Mei 2025). Ini menunjukkan adanya momentum pasar atau perubahan signifikan dalam harga saham.\n",
    "\n",
    "2. **Prediksi Model Random Forest (Garis Putus-Putus Ungu)**:\n",
    "\n",
    "   * Model Random Forest cukup berhasil memprediksi harga IHSG, dengan **MAE sebesar 123.65**.\n",
    "   * Prediksi model ini mengikuti pola harga aktual dengan baik, terutama pada periode 2024. Namun, ada sedikit perbedaan di beberapa titik pada 2025, khususnya setelah harga IHSG mulai naik secara tajam.\n",
    "   * Model ini relatif stabil dan cukup akurat dalam menangkap pola harga saham jangka panjang, meskipun ada sedikit ketidakakuratan pada periode akhir.\n",
    "\n",
    "3. **Prediksi Model LSTM (Garis Titik Merah)**:\n",
    "\n",
    "   * Model LSTM, yang lebih sering digunakan untuk data urutan waktu, menunjukkan beberapa perbedaan yang lebih besar dibandingkan prediksi Random Forest, terutama pada bulan April dan Mei 2025.\n",
    "   * Dengan **MAE sebesar 123.76**, model LSTM menunjukkan hasil yang lebih volatil dan kurang akurat dibandingkan Random Forest, meskipun keduanya memiliki kesalahan prediksi yang tidak terlalu besar.\n",
    "   * Ini menunjukkan bahwa meskipun LSTM dapat menangkap pola yang lebih kompleks dalam jangka panjang, model ini kurang responsif terhadap pergerakan pasar yang tajam dalam waktu dekat.\n",
    "\n",
    "**Insight Umum**:\n",
    "\n",
    "* Dari perbandingan ini, dapat disimpulkan bahwa **Random Forest** lebih baik dalam memprediksi tren harga IHSG secara keseluruhan, meskipun **LSTM** memiliki potensi dalam menangkap dinamika pasar yang lebih kompleks.\n",
    "* Kedua model menunjukkan kesalahan yang relatif kecil, dengan MAE di bawah 125, menunjukkan bahwa keduanya cukup dapat diandalkan dalam memprediksi harga saham, meskipun ada ketidaksesuaian pada bulan-bulan tertentu.\n",
    "* Secara keseluruhan, **Random Forest** mungkin lebih stabil dalam prediksi, sementara **LSTM** lebih sensitif terhadap perubahan cepat, meskipun tidak selalu akurat pada periode tertentu.\n",
    "\n"
   ]
  },
  {
   "cell_type": "code",
   "execution_count": 9,
   "metadata": {
    "execution": {
     "iopub.execute_input": "2025-09-23T02:17:25.925841Z",
     "iopub.status.busy": "2025-09-23T02:17:25.925649Z",
     "iopub.status.idle": "2025-09-23T02:17:25.930531Z",
     "shell.execute_reply": "2025-09-23T02:17:25.930056Z"
    }
   },
   "outputs": [],
   "source": [
    "# Membuat DataFrame dari hasil prediksi Random Forest\n",
    "hasil_prediksi_rf = pd.DataFrame({\n",
    "    'Prediksi_RF': predictions_rf\n",
    "}, index=y_test_rf_actual.index)\n",
    "\n",
    "# Menyimpan DataFrame ke file CSV\n",
    "hasil_prediksi_rf.to_csv('prediksi_terbaru_rf.csv')"
   ]
  }
 ],
 "metadata": {
  "colab": {
   "provenance": []
  },
  "kernelspec": {
   "display_name": "base",
   "language": "python",
   "name": "python3"
  },
  "language_info": {
   "codemirror_mode": {
    "name": "ipython",
    "version": 3
   },
   "file_extension": ".py",
   "mimetype": "text/x-python",
   "name": "python",
   "nbconvert_exporter": "python",
   "pygments_lexer": "ipython3",
   "version": "3.10.18"
  }
 },
 "nbformat": 4,
 "nbformat_minor": 0
}
